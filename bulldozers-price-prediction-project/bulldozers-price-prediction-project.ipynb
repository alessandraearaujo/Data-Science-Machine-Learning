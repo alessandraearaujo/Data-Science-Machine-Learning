{
 "metadata": {
  "language_info": {
   "codemirror_mode": {
    "name": "ipython",
    "version": 3
   },
   "file_extension": ".py",
   "mimetype": "text/x-python",
   "name": "python",
   "nbconvert_exporter": "python",
   "pygments_lexer": "ipython3",
   "version": 3
  },
  "orig_nbformat": 2
 },
 "nbformat": 4,
 "nbformat_minor": 2,
 "cells": [
  {
   "source": [
    "# Previsão do preço de vendas de tratores de esteira utilizando Machine Learning // Predicting de Sale Price of Bulldozers using Machine Leraning\n",
    "\n",
    "Este notebook tem o propósito de elaborar um modelo de regressão para prever o preço de um trator de esteira. // This notebook attempts to through an example machine leraning project with the goal of predicting the sale price of bulldozers."
   ],
   "cell_type": "markdown",
   "metadata": {}
  },
  {
   "source": [
    "# 1. Definição do problema // Problem definition\n",
    "\n",
    "O quão preciso conseguimos prever o preço de venda de tratatores de esteira no futuro, dadas as suas características e preços de tratos vendedidos anteriormentente? //  How well can we predict the future sale price of a bulldozer, given it's characteristics and previous examples of how much similar bulldozers have been sold for?\n",
    "\n",
    "# 2. Dados // Data\n",
    "\n",
    "A base de dados foi obtida no Kaggle: https://www.kaggle.com/c/bluebook-for-bulldozers/. Esta base consiste em 3\n",
    "datasets:\n",
    "\n",
    "- Train.csv é a base de dados separada para treinar os modelos e que consiste em dados do final de 2011.\n",
    "- Valid.csv é a base de validação dos modelos e que consiste em dados de 01 de Janeiro de 2012 a 30 de Abril de 2012.\n",
    "- Test.csv é a base de dados para testes,que contém dados de 01 de Maio de 2012 a Novembro de 2012.\n",
    "\n",
    "//\n",
    "\n",
    "The dataset is downloaded from Kaggle: https://www.kaggle.com/c/bluebook-for-bulldozers/. The data is split into three parts:\n",
    "\n",
    "- Train.csv is the training set, which contains data through the end of 2011.\n",
    "- Valid.csv is the validation set, which contains data from January 1, 2012 - April 30, 2012.\n",
    "- Test.csv is the test set and contains data from May 1, 2012 - November 2012.\n",
    "\n",
    "# 3. Avaliação do modelo // Evalutuations\n",
    "\n",
    "A métrica de avaliação do modelo será o erro logarítmico médio quadrático da raiz entre o preço calculado através do modelo e o preço real. // The evaluation metric is the RMSLE (root mean squared log error) between the actual and predicted auction prices.\n",
    "# 4. Atributos // Features\n",
    "# 5. \n",
    "#\n",
    "# 4. Atributos // Features\n",
    "# 5. \n",
    "#"
   ],
   "cell_type": "markdown",
   "metadata": {}
  },
  {
   "cell_type": "code",
   "execution_count": null,
   "metadata": {},
   "outputs": [],
   "source": []
  }
 ]
}