{
 "cells": [
  {
   "cell_type": "markdown",
   "metadata": {},
   "source": [
    "# Previsão do preço de vendas de tratores de esteira utilizando Machine Learning\n",
    "\n",
    "Este notebook tem o propósito de elaborar um modelo de regressão para prever o preço de um trator de esteira. Para abordar o problema, será utilizado o workflow descrito a seguir.\n",
    "\n",
    "    1. Definição do problema\n",
    "\n",
    "    Quão precisamente conseguimos prever o preço de venda de tratatores de esteira no futuro, dadas as suas características e preços de tratos vendidos no passado? Para realizar um estimativa de valores numéricos baseadas em características, deveremos utilizar um modelo de Reressão.\n",
    "\n",
    "    2. Dados\n",
    "\n",
    "    A base de dados foi obtida no Kaggle: https://www.kaggle.com/c/bluebook-for-bulldozers/. \n",
    "    \n",
    "    - TrainandValid.csv é a base de dados que combina a base de testes e de treino, e que será utiliza no modelo de regressão.\n",
    "    - Test.csv é a base de dados para a qual serão feitas as previsões.\n",
    "\n",
    "    3. Avaliação\n",
    "\n",
    "    A métrica de avaliação do modelo será a raiz do erro logarítmico quadrático médio entre o preço calculado através do modelo e o preço real.\n",
    "\n",
    "    4. Atributos\n",
    "\n",
    "    O Kaggle disponibiliza um detalhamento dos atributos dos dados utilizados no dataset. Você pode acessar estes dados em: https://github.com/ms-r0bot/Data-Science-Machine-Learning/blob/main/bulldozers-price-prediction-project/Data%20Dictionary.xlsx."
   ]
  },
  {
   "cell_type": "markdown",
   "metadata": {},
   "source": [
    "# 1. Tratamento dos dados"
   ]
  },
  {
   "cell_type": "code",
   "execution_count": 1,
   "metadata": {},
   "outputs": [],
   "source": [
    "# Primeiramente, é necessário importar os módulos utilizados para o tratamento dos dados\n",
    "\n",
    "import numpy as np\n",
    "import pandas as pd\n",
    "import matplotlib.pyplot as plt"
   ]
  },
  {
   "cell_type": "code",
   "execution_count": 2,
   "metadata": {},
   "outputs": [
    {
     "output_type": "stream",
     "name": "stdout",
     "text": [
      "<class 'pandas.core.frame.DataFrame'>\nRangeIndex: 412698 entries, 0 to 412697\nData columns (total 53 columns):\n #   Column                    Non-Null Count   Dtype  \n---  ------                    --------------   -----  \n 0   SalesID                   412698 non-null  int64  \n 1   SalePrice                 412698 non-null  float64\n 2   MachineID                 412698 non-null  int64  \n 3   ModelID                   412698 non-null  int64  \n 4   datasource                412698 non-null  int64  \n 5   auctioneerID              392562 non-null  float64\n 6   YearMade                  412698 non-null  int64  \n 7   MachineHoursCurrentMeter  147504 non-null  float64\n 8   UsageBand                 73670 non-null   object \n 9   saledate                  412698 non-null  object \n 10  fiModelDesc               412698 non-null  object \n 11  fiBaseModel               412698 non-null  object \n 12  fiSecondaryDesc           271971 non-null  object \n 13  fiModelSeries             58667 non-null   object \n 14  fiModelDescriptor         74816 non-null   object \n 15  ProductSize               196093 non-null  object \n 16  fiProductClassDesc        412698 non-null  object \n 17  state                     412698 non-null  object \n 18  ProductGroup              412698 non-null  object \n 19  ProductGroupDesc          412698 non-null  object \n 20  Drive_System              107087 non-null  object \n 21  Enclosure                 412364 non-null  object \n 22  Forks                     197715 non-null  object \n 23  Pad_Type                  81096 non-null   object \n 24  Ride_Control              152728 non-null  object \n 25  Stick                     81096 non-null   object \n 26  Transmission              188007 non-null  object \n 27  Turbocharged              81096 non-null   object \n 28  Blade_Extension           25983 non-null   object \n 29  Blade_Width               25983 non-null   object \n 30  Enclosure_Type            25983 non-null   object \n 31  Engine_Horsepower         25983 non-null   object \n 32  Hydraulics                330133 non-null  object \n 33  Pushblock                 25983 non-null   object \n 34  Ripper                    106945 non-null  object \n 35  Scarifier                 25994 non-null   object \n 36  Tip_Control               25983 non-null   object \n 37  Tire_Size                 97638 non-null   object \n 38  Coupler                   220679 non-null  object \n 39  Coupler_System            44974 non-null   object \n 40  Grouser_Tracks            44875 non-null   object \n 41  Hydraulics_Flow           44875 non-null   object \n 42  Track_Type                102193 non-null  object \n 43  Undercarriage_Pad_Width   102916 non-null  object \n 44  Stick_Length              102261 non-null  object \n 45  Thumb                     102332 non-null  object \n 46  Pattern_Changer           102261 non-null  object \n 47  Grouser_Type              102193 non-null  object \n 48  Backhoe_Mounting          80712 non-null   object \n 49  Blade_Type                81875 non-null   object \n 50  Travel_Controls           81877 non-null   object \n 51  Differential_Type         71564 non-null   object \n 52  Steering_Controls         71522 non-null   object \ndtypes: float64(3), int64(5), object(45)\nmemory usage: 166.9+ MB\n"
     ]
    }
   ],
   "source": [
    "# Importar o dados de treino e validação (neste momento, ainda é uma base histórica única) \n",
    "\n",
    "df = pd.read_csv('TrainAndValid.csv',low_memory=False)\n",
    "\n",
    "# Vamos visualizar informações gerais sobre o dataset:\n",
    "\n",
    "df.info()"
   ]
  },
  {
   "cell_type": "code",
   "execution_count": 3,
   "metadata": {},
   "outputs": [],
   "source": [
    "# Para iniciar o tratamento dos dados, primeiramente é necessário 'parsear' as datas, dizendo ao Pandas em quais colunas nos possuímos este tipo de dado. Para isso, será utilizado o argumento parse_dates=['saledate']:\n",
    "\n",
    "df = pd.read_csv('TrainAndValid.csv',low_memory=False, parse_dates=['saledate'])\n"
   ]
  },
  {
   "cell_type": "code",
   "execution_count": 4,
   "metadata": {},
   "outputs": [
    {
     "output_type": "execute_result",
     "data": {
      "text/plain": [
       "  NaN   \n",
       "Transmission                                                   NaN   \n",
       "Turbocharged                                                   NaN   \n",
       "Blade_Extension                                                NaN   \n",
       "Blade_Width                                                    NaN   \n",
       "Enclosure_Type                                                 NaN   \n",
       "Engine_Horsepower                                              NaN   \n",
       "Hydraulics                                                 2 Valve   \n",
       "Pushblock                                                      NaN   \n",
       "Ripper                                                         NaN   \n",
       "Scarifier                                                      NaN   \n",
       "Tip_Control                                                    NaN   \n",
       "Tire_Size                                      None or Unspecified   \n",
       "Coupler                                        None or Unspecified   \n",
       "Coupler_System                                                 NaN   \n",
       "Grouser_Tracks                                                 NaN   \n",
       "Hydraulics_Flow                                                NaN   \n",
       "Track_Type                                                     NaN   \n",
       "Undercarriage_Pad_Width                                        NaN   \n",
       "Stick_Length                                                   NaN   \n",
       "Thumb                                                          NaN   \n",
       "Pattern_Changer                                                NaN   \n",
       "Grouser_Type                                                   NaN   \n",
       "Backhoe_Mounting                                               NaN   \n",
       "Blade_Type                                                     NaN   \n",
       "Travel_Controls                                                NaN   \n",
       "Differential_Type                                         Standard   \n",
       "Steering_Controls                                     Conventional   \n",
       "saleYear                                                      2006   \n",
       "saleMonth                                                       11   \n",
       "saleDayOfWeek                                                    3   \n",
       "saleDay                                                         16   \n",
       "saleDayOfYear                                                  320   \n",
       "\n",
       "                                                                 1  \\\n",
       "SalesID                                                    1139248   \n",
       "SalePrice                                                    57000   \n",
       "MachineID                                                   117657   \n",
       "ModelID                                                         77   \n",
       "datasource                                                     121   \n",
       "auctioneerID                                                     3   \n",
       "YearMade                                                      1996   \n",
       "MachineHoursCurrentMeter                                      4640   \n",
       "UsageBand                                                      Low   \n",
       "fiModelDesc                                                 950FII   \n",
       "fiBaseModel                                                    950   \n",
       "fiSecondaryDesc                                                  F   \n",
       "fiModelSeries                                                   II   \n",
       "fiModelDescriptor                                              NaN   \n",
       "ProductSize                                                 Medium   \n",
       "fiProductClassDesc        Wheel Loader - 150.0 to 175.0 Horsepower   \n",
       "state                                               North Carolina   \n",
       "ProductGroup                                                    WL   \n",
       "ProductGroupDesc                                      Wheel Loader   \n",
       "Drive_System                                                   NaN   \n",
       "Enclosure                                               EROPS w AC   \n",
       "Forks                                          None or Unspecified   \n",
       "Pad_Type                                                       NaN   \n",
       "Ride_Control                                   None or Unspecified   \n",
       "Stick                                                          NaN   \n",
       "Transmission                                                   NaN   \n",
       "Turbocharged                                                   NaN   \n",
       "Blade_Extension                                                NaN   \n",
       "Blade_Width                                                    NaN   \n",
       "Enclosure_Type                                                 NaN   \n",
       "Engine_Horsepower                                              NaN   \n",
       "Hydraulics                                                 2 Valve   \n",
       "Pushblock                                                      NaN   \n",
       "Ripper                                                         NaN   \n",
       "Scarifier                                                      NaN   \n",
       "Tip_Control                                                    NaN   \n",
       "Tire_Size                                                     23.5   \n",
       "Coupler                                        None or Unspecified   \n",
       "Coupler_System                                                 NaN   \n",
       "Grouser_Tracks                                                 NaN   \n",
       "Hydraulics_Flow                                                NaN   \n",
       "Track_Type                                                     NaN   \n",
       "Undercarriage_Pad_Width                                        NaN   \n",
       "Stick_Length                                                   NaN   \n",
       "Thumb                                                          NaN   \n",
       "Pattern_Changer                                                NaN   \n",
       "Grouser_Type                                                   NaN   \n",
       "Backhoe_Mounting                                               NaN   \n",
       "Blade_Type                                                     NaN   \n",
       "Travel_Controls                                                NaN   \n",
       "Differential_Type                                         Standard   \n",
       "Steering_Controls                                     Conventional   \n",
       "saleYear                                                      2004   \n",
       "saleMonth                                                        3   \n",
       "saleDayOfWeek                                                    4   \n",
       "saleDay                                                         26   \n",
       "saleDayOfYear                                                   86   \n",
       "\n",
       "                                                                          2  \\\n",
       "SalesID                                                             1139249   \n",
       "SalePrice                                                             10000   \n",
       "MachineID                                                            434808   \n",
       "ModelID                                                                7009   \n",
       "datasource                                                              121   \n",
       "auctioneerID                                                              3   \n",
       "YearMade                                                               2001   \n",
       "MachineHoursCurrentMeter                                               2838   \n",
       "UsageBand                                                              High   \n",
       "fiModelDesc                                                             226   \n",
       "fiBaseModel                                                             226   \n",
       "fiSecondaryDesc                                                         NaN   \n",
       "fiModelSeries                                                           NaN   \n",
       "fiModelDescriptor                                                       NaN   \n",
       "ProductSize                                                             NaN   \n",
       "fiProductClassDesc        Skid Steer Loader - 1351.0 to 1601.0 Lb Operat...   \n",
       "state                                                              New York   \n",
       "ProductGroup                                                            SSL   \n",
       "ProductGroupDesc                                         Skid Steer Loaders   \n",
       "Drive_System                                                            NaN   \n",
       "Enclosure                                                             OROPS   \n",
       "Forks                                                   None or Unspecified   \n",
       "Pad_Type                                                                NaN   \n",
       "Ride_Control                                                            NaN   \n",
       "Stick                                                                   NaN   \n",
       "Transmission                                                            NaN   \n",
       "Turbocharged                                                            NaN   \n",
       "Blade_Extension                                                         NaN   \n",
       "Blade_Width                                                             NaN   \n",
       "Enclosure_Type                                                          NaN   \n",
       "Engine_Horsepower                                                       NaN   \n",
       "Hydraulics                                                        Auxiliary   \n",
       "Pushblock                                                               NaN   \n",
       "Ripper                                                                  NaN   \n",
       "Scarifier                                                               NaN   \n",
       "Tip_Control                                                             NaN   \n",
       "Tire_Size                                                               NaN   \n",
       "Coupler                                                 None or Unspecified   \n",
       "Coupler_System                                          None or Unspecified   \n",
       "Grouser_Tracks                                          None or Unspecified   \n",
       "Hydraulics_Flow                                                    Standard   \n",
       "Track_Type                                                              NaN   \n",
       "Undercarriage_Pad_Width                                                 NaN   \n",
       "Stick_Length                                                            NaN   \n",
       "Thumb                                                                   NaN   \n",
       "Pattern_Changer                                                         NaN   \n",
       "Grouser_Type                                                            NaN   \n",
       "Backhoe_Mounting                                                        NaN   \n",
       "Blade_Type                                                              NaN   \n",
       "Travel_Controls                                                         NaN   \n",
       "Differential_Type                                                       NaN   \n",
       "Steering_Controls                                                       NaN   \n",
       "saleYear                                                               2004   \n",
       "saleMonth                                                                 2   \n",
       "saleDayOfWeek                                                             3   \n",
       "saleDay                                                                  26   \n",
       "saleDayOfYear                                                            57   \n",
       "\n",
       "                                                                          3  \\\n",
       "SalesID                                                             1139251   \n",
       "SalePrice                                                             38500   \n",
       "MachineID                                                           1026470   \n",
       "ModelID                                                                 332   \n",
       "datasource                                                              121   \n",
       "auctioneerID                                                              3   \n",
       "YearMade                                                               2001   \n",
       "MachineHoursCurrentMeter                                               3486   \n",
       "UsageBand                                                              High   \n",
       "fiModelDesc                                                        PC120-6E   \n",
       "fiBaseModel                                                           PC120   \n",
       "fiSecondaryDesc                                                         NaN   \n",
       "fiModelSeries                                                           -6E   \n",
       "fiModelDescriptor                                                       NaN   \n",
       "ProductSize                                                           Small   \n",
       "fiProductClassDesc        Hydraulic Excavator, Track - 12.0 to 14.0 Metr...   \n",
       "state                                                                 Texas   \n",
       "ProductGroup                                                            TEX   \n",
       "ProductGroupDesc                                           Track Excavators   \n",
       "Drive_System                                                            NaN   \n",
       "Enclosure                                                        EROPS w AC   \n",
       "Forks                                                                   NaN   \n",
       "Pad_Type                                                                NaN   \n",
       "Ride_Control                                                            NaN   \n",
       "Stick                                                                   NaN   \n",
       "Transmission                                                            NaN   \n",
       "Turbocharged                                                            NaN   \n",
       "Blade_Extension                                                         NaN   \n",
       "Blade_Width                                                             NaN   \n",
       "Enclosure_Type                                                          NaN   \n",
       "Engine_Horsepower                                                       NaN   \n",
       "Hydraulics                                                          2 Valve   \n",
       "Pushblock                                                               NaN   \n",
       "Ripper                                                                  NaN   \n",
       "Scarifier                                                               NaN   \n",
       "Tip_Control                                                             NaN   \n",
       "Tire_Size                                                               NaN   \n",
       "Coupler                                                 None or Unspecified   \n",
       "Coupler_System                                                          NaN   \n",
       "Grouser_Tracks                                                          NaN   \n",
       "Hydraulics_Flow                                                         NaN   \n",
       "Track_Type                                                              NaN   \n",
       "Undercarriage_Pad_Width                                                 NaN   \n",
       "Stick_Length                                                            NaN   \n",
       "Thumb                                                                   NaN   \n",
       "Pattern_Changer                                                         NaN   \n",
       "Grouser_Type                                                            NaN   \n",
       "Backhoe_Mounting                                                        NaN   \n",
       "Blade_Type                                                              NaN   \n",
       "Travel_Controls                                                         NaN   \n",
       "Differential_Type                                                       NaN   \n",
       "Steering_Controls                                                       NaN   \n",
       "saleYear                                                               2011   \n",
       "saleMonth                                                                 5   \n",
       "saleDayOfWeek                                                             3   \n",
       "saleDay                                                                  19   \n",
       "saleDayOfYear                                                           139   \n",
       "\n",
       "                                                                          4  \n",
       "SalesID                                                             1139253  \n",
       "SalePrice                                                             11000  \n",
       "MachineID                                                           1057373  \n",
       "ModelID                                                               17311  \n",
       "datasource                                                              121  \n",
       "auctioneerID                                                              3  \n",
       "YearMade                                                               2007  \n",
       "MachineHoursCurrentMeter                                                722  \n",
       "UsageBand                                                            Medium  \n",
       "fiModelDesc                                                            S175  \n",
       "fiBaseModel                                                            S175  \n",
       "fiSecondaryDesc                                                         NaN  \n",
       "fiModelSeries                                                           NaN  \n",
       "fiModelDescriptor                                                       NaN  \n",
       "ProductSize                                                             NaN  \n",
       "fiProductClassDesc        Skid Steer Loader - 1601.0 to 1751.0 Lb Operat...  \n",
       "state                                                              New York  \n",
       "ProductGroup                                                            SSL  \n",
       "ProductGroupDesc                                         Skid Steer Loaders  \n",
       "Drive_System                                                            NaN  \n",
       "Enclosure                                                             EROPS  \n",
       "Forks                                                   None or Unspecified  \n",
       "Pad_Type                                                                NaN  \n",
       "Ride_Control                                                            NaN  \n",
       "Stick                                                                   NaN  \n",
       "Transmission                                                            NaN  \n",
       "Turbocharged                                                            NaN  \n",
       "Blade_Extension                                                         NaN  \n",
       "Blade_Width                                                             NaN  \n",
       "Enclosure_Type                                                          NaN  \n",
       "Engine_Horsepower                                                       NaN  \n",
       "Hydraulics                                                        Auxiliary  \n",
       "Pushblock                                                               NaN  \n",
       "Ripper                                                                  NaN  \n",
       "Scarifier                                                               NaN  \n",
       "Tip_Control                                                             NaN  \n",
       "Tire_Size                                                               NaN  \n",
       "Coupler                                                 None or Unspecified  \n",
       "Coupler_System                                          None or Unspecified  \n",
       "Grouser_Tracks                                          None or Unspecified  \n",
       "Hydraulics_Flow                                                    Standard  \n",
       "Track_Type                                                              NaN  \n",
       "Undercarriage_Pad_Width                                                 NaN  \n",
       "Stick_Length                                                            NaN  \n",
       "Thumb                                                                   NaN  \n",
       "Pattern_Changer                                                         NaN  \n",
       "Grouser_Type                                                            NaN  \n",
       "Backhoe_Mounting                                                        NaN  \n",
       "Blade_Type                                                              NaN  \n",
       "Travel_Controls                                                         NaN  \n",
       "Differential_Type                                                       NaN  \n",
       "Steering_Controls                                                       NaN  \n",
       "saleYear                                                               2009  \n",
       "saleMonth                                                                 7  \n",
       "saleDayOfWeek                                                             3  \n",
       "saleDay                                                                  23  \n",
       "saleDayOfYear                                                           204  "
      ],
      "text/html": "<div>\n<style scoped>\n    .dataframe tbody tr th:only-of-type {\n        vertical-align: middle;\n    }\n\n    .dataframe tbody tr th {\n        vertical-align: top;\n    }\n\n    .dataframe thead th {\n        text-align: right;\n    }\n</style>\n<table border=\"1\" class=\"dataframe\">\n  <thead>\n    <tr style=\"text-align: right;\">\n      <th></th>\n      <th>0</th>\n      <th>1</th>\n      <th>2</th>\n      <th>3</th>\n      <th>4</th>\n    </tr>\n  </thead>\n  <tbody>\n    <tr>\n      <th>SalesID</th>\n      <td>1139246</td>\n      <td>1139248</td>\n      <td>1139249</td>\n      <td>1139251</td>\n      <td>1139253</td>\n    </tr>\n    <tr>\n      <th>SalePrice</th>\n      <td>66000</td>\n      <td>57000</td>\n      <td>10000</td>\n      <td>38500</td>\n      <td>11000</td>\n    </tr>\n    <tr>\n      <th>MachineID</th>\n      <td>999089</td>\n      <td>117657</td>\n      <td>434808</td>\n      <td>1026470</td>\n      <td>1057373</td>\n    </tr>\n    <tr>\n      <th>ModelID</th>\n      <td>3157</td>\n      <td>77</td>\n      <td>7009</td>\n      <td>332</td>\n      <td>17311</td>\n    </tr>\n    <tr>\n      <th>datasource</th>\n      <td>121</td>\n      <td>121</td>\n      <td>121</td>\n      <td>121</td>\n      <td>121</td>\n    </tr>\n    <tr>\n      <th>auctioneerID</th>\n      <td>3</td>\n      <td>3</td>\n      <td>3</td>\n      <td>3</td>\n      <td>3</td>\n    </tr>\n    <tr>\n      <th>YearMade</th>\n      <td>2004</td>\n      <td>1996</td>\n      <td>2001</td>\n      <td>2001</td>\n      <td>2007</td>\n    </tr>\n    <tr>\n      <th>MachineHoursCurrentMeter</th>\n      <td>68</td>\n      <td>4640</td>\n      <td>2838</td>\n      <td>3486</td>\n      <td>722</td>\n    </tr>\n    <tr>\n      <th>UsageBand</th>\n      <td>Low</td>\n      <td>Low</td>\n      <td>High</td>\n      <td>High</td>\n      <td>Medium</td>\n    </tr>\n    <tr>\n      <th>fiModelDesc</th>\n      <td>521D</td>\n      <td>950FII</td>\n      <td>226</td>\n      <td>PC120-6E</td>\n      <td>S175</td>\n    </tr>\n    <tr>\n      <th>fiBaseModel</th>\n      <td>521</td>\n      <td>950</td>\n      <td>226</td>\n      <td>PC120</td>\n      <td>S175</td>\n    </tr>\n    <tr>\n      <th>fiSecondaryDesc</th>\n      <td>D</td>\n      <td>F</td>\n      <td>NaN</td>\n      <td>NaN</td>\n      <td>NaN</td>\n    </tr>\n    <tr>\n      <th>fiModelSeries</th>\n      <td>NaN</td>\n      <td>II</td>\n      <td>NaN</td>\n      <td>-6E</td>\n      <td>NaN</td>\n    </tr>\n    <tr>\n      <th>fiModelDescriptor</th>\n      <td>NaN</td>\n      <td>NaN</td>\n      <td>NaN</td>\n      <td>NaN</td>\n      <td>NaN</td>\n    </tr>\n    <tr>\n      <th>ProductSize</th>\n      <td>NaN</td>\n      <td>Medium</td>\n      <td>NaN</td>\n      <td>Small</td>\n      <td>NaN</td>\n    </tr>\n    <tr>\n      <th>fiProductClassDesc</th>\n      <td>Wheel Loader - 110.0 to 120.0 Horsepower</td>\n      <td>Wheel Loader - 150.0 to 175.0 Horsepower</td>\n      <td>Skid Steer Loader - 1351.0 to 1601.0 Lb Operat...</td>\n      <td>Hydraulic Excavator, Track - 12.0 to 14.0 Metr...</td>\n      <td>Skid Steer Loader - 1601.0 to 1751.0 Lb Operat...</td>\n    </tr>\n    <tr>\n      <th>state</th>\n      <td>Alabama</td>\n      <td>North Carolina</td>\n      <td>New York</td>\n      <td>Texas</td>\n      <td>New York</td>\n    </tr>\n    <tr>\n      <th>ProductGroup</th>\n      <td>WL</td>\n      <td>WL</td>\n      <td>SSL</td>\n      <td>TEX</td>\n      <td>SSL</td>\n    </tr>\n    <tr>\n      <th>ProductGroupDesc</th>\n      <td>Wheel Loader</td>\n      <td>Wheel Loader</td>\n      <td>Skid Steer Loaders</td>\n      <td>Track Excavators</td>\n      <td>Skid Steer Loaders</td>\n    </tr>\n    <tr>\n      <th>Drive_System</th>\n      <td>NaN</td>\n      <td>NaN</td>\n      <td>NaN</td>\n      <td>NaN</td>\n      <td>NaN</td>\n    </tr>\n    <tr>\n      <th>Enclosure</th>\n      <td>EROPS w AC</td>\n      <td>EROPS w AC</td>\n      <td>OROPS</td>\n      <td>EROPS w AC</td>\n      <td>EROPS</td>\n    </tr>\n    <tr>\n      <th>Forks</th>\n      <td>None or Unspecified</td>\n      <td>None or Unspecified</td>\n      <td>None or Unspecified</td>\n      <td>NaN</td>\n      <td>None or Unspecified</td>\n    </tr>\n    <tr>\n      <th>Pad_Type</th>\n      <td>NaN</td>\n      <td>NaN</td>\n      <td>NaN</td>\n      <td>NaN</td>\n      <td>NaN</td>\n    </tr>\n    <tr>\n      <th>Ride_Control</th>\n      <td>None or Unspecified</td>\n      <td>None or Unspecified</td>\n      <td>NaN</td>\n      <td>NaN</td>\n      <td>NaN</td>\n    </tr>\n    <tr>\n      <th>Stick</th>\n      <td>NaN</td>\n      <td>NaN</td>\n      <td>NaN</td>\n      <td>NaN</td>\n      <td>NaN</td>\n    </tr>\n    <tr>\n      <th>Transmission</th>\n      <td>NaN</td>\n      <td>NaN</td>\n      <td>NaN</td>\n      <td>NaN</td>\n      <td>NaN</td>\n    </tr>\n    <tr>\n      <th>Turbocharged</th>\n      <td>NaN</td>\n      <td>NaN</td>\n      <td>NaN</td>\n      <td>NaN</td>\n      <td>NaN</td>\n    </tr>\n    <tr>\n      <th>Blade_Extension</th>\n      <td>NaN</td>\n      <td>NaN</td>\n      <td>NaN</td>\n      <td>NaN</td>\n      <td>NaN</td>\n    </tr>\n    <tr>\n      <th>Blade_Width</th>\n      <td>NaN</td>\n      <td>NaN</td>\n      <td>NaN</td>\n      <td>NaN</td>\n      <td>NaN</td>\n    </tr>\n    <tr>\n      <th>Enclosure_Type</th>\n      <td>NaN</td>\n      <td>NaN</td>\n      <td>NaN</td>\n      <td>NaN</td>\n      <td>NaN</td>\n    </tr>\n    <tr>\n      <th>Engine_Horsepower</th>\n      <td>NaN</td>\n      <td>NaN</td>\n      <td>NaN</td>\n      <td>NaN</td>\n      <td>NaN</td>\n    </tr>\n    <tr>\n      <th>Hydraulics</th>\n      <td>2 Valve</td>\n      <td>2 Valve</td>\n      <td>Auxiliary</td>\n      <td>2 Valve</td>\n      <td>Auxiliary</td>\n    </tr>\n    <tr>\n      <th>Pushblock</th>\n      <td>NaN</td>\n      <td>NaN</td>\n      <td>NaN</td>\n      <td>NaN</td>\n      <td>NaN</td>\n    </tr>\n    <tr>\n      <th>Ripper</th>\n      <td>NaN</td>\n      <td>NaN</td>\n      <td>NaN</td>\n      <td>NaN</td>\n      <td>NaN</td>\n    </tr>\n    <tr>\n      <th>Scarifier</th>\n      <td>NaN</td>\n      <td>NaN</td>\n      <td>NaN</td>\n      <td>NaN</td>\n      <td>NaN</td>\n    </tr>\n    <tr>\n      <th>Tip_Control</th>\n      <td>NaN</td>\n      <td>NaN</td>\n      <td>NaN</td>\n      <td>NaN</td>\n      <td>NaN</td>\n    </tr>\n    <tr>\n      <th>Tire_Size</th>\n      <td>None or Unspecified</td>\n      <td>23.5</td>\n      <td>NaN</td>\n      <td>NaN</td>\n      <td>NaN</td>\n    </tr>\n    <tr>\n      <th>Coupler</th>\n      <td>None or Unspecified</td>\n      <td>None or Unspecified</td>\n      <td>None or Unspecified</td>\n      <td>None or Unspecified</td>\n      <td>None or Unspecified</td>\n    </tr>\n    <tr>\n      <th>Coupler_System</th>\n      <td>NaN</td>\n      <td>NaN</td>\n      <td>None or Unspecified</td>\n      <td>NaN</td>\n      <td>None or Unspecified</td>\n    </tr>\n    <tr>\n      <th>Grouser_Tracks</th>\n      <td>NaN</td>\n      <td>NaN</td>\n      <td>None or Unspecified</td>\n      <td>NaN</td>\n      <td>None or Unspecified</td>\n    </tr>\n    <tr>\n      <th>Hydraulics_Flow</th>\n      <td>NaN</td>\n      <td>NaN</td>\n      <td>Standard</td>\n      <td>NaN</td>\n      <td>Standard</td>\n    </tr>\n    <tr>\n      <th>Track_Type</th>\n      <td>NaN</td>\n      <td>NaN</td>\n      <td>NaN</td>\n      <td>NaN</td>\n      <td>NaN</td>\n    </tr>\n    <tr>\n      <th>Undercarriage_Pad_Width</th>\n      <td>NaN</td>\n      <td>NaN</td>\n      <td>NaN</td>\n      <td>NaN</td>\n      <td>NaN</td>\n    </tr>\n    <tr>\n      <th>Stick_Length</th>\n      <td>NaN</td>\n      <td>NaN</td>\n      <td>NaN</td>\n      <td>NaN</td>\n      <td>NaN</td>\n    </tr>\n    <tr>\n      <th>Thumb</th>\n      <td>NaN</td>\n      <td>NaN</td>\n      <td>NaN</td>\n      <td>NaN</td>\n      <td>NaN</td>\n    </tr>\n    <tr>\n      <th>Pattern_Changer</th>\n      <td>NaN</td>\n      <td>NaN</td>\n      <td>NaN</td>\n      <td>NaN</td>\n      <td>NaN</td>\n    </tr>\n    <tr>\n      <th>Grouser_Type</th>\n      <td>NaN</td>\n      <td>NaN</td>\n      <td>NaN</td>\n      <td>NaN</td>\n      <td>NaN</td>\n    </tr>\n    <tr>\n      <th>Backhoe_Mounting</th>\n      <td>NaN</td>\n      <td>NaN</td>\n      <td>NaN</td>\n      <td>NaN</td>\n      <td>NaN</td>\n    </tr>\n    <tr>\n      <th>Blade_Type</th>\n      <td>NaN</td>\n      <td>NaN</td>\n      <td>NaN</td>\n      <td>NaN</td>\n      <td>NaN</td>\n    </tr>\n    <tr>\n      <th>Travel_Controls</th>\n      <td>NaN</td>\n      <td>NaN</td>\n      <td>NaN</td>\n      <td>NaN</td>\n      <td>NaN</td>\n    </tr>\n    <tr>\n      <th>Differential_Type</th>\n      <td>Standard</td>\n      <td>Standard</td>\n      <td>NaN</td>\n      <td>NaN</td>\n      <td>NaN</td>\n    </tr>\n    <tr>\n      <th>Steering_Controls</th>\n      <td>Conventional</td>\n      <td>Conventional</td>\n      <td>NaN</td>\n      <td>NaN</td>\n      <td>NaN</td>\n    </tr>\n    <tr>\n      <th>saleYear</th>\n      <td>2006</td>\n      <td>2004</td>\n      <td>2004</td>\n      <td>2011</td>\n      <td>2009</td>\n    </tr>\n    <tr>\n      <th>saleMonth</th>\n      <td>11</td>\n      <td>3</td>\n      <td>2</td>\n      <td>5</td>\n      <td>7</td>\n    </tr>\n    <tr>\n      <th>saleDayOfWeek</th>\n      <td>3</td>\n      <td>4</td>\n      <td>3</td>\n      <td>3</td>\n      <td>3</td>\n    </tr>\n    <tr>\n      <th>saleDay</th>\n      <td>16</td>\n      <td>26</td>\n      <td>26</td>\n      <td>19</td>\n      <td>23</td>\n    </tr>\n    <tr>\n      <th>saleDayOfYear</th>\n      <td>320</td>\n      <td>86</td>\n      <td>57</td>\n      <td>139</td>\n      <td>204</td>\n    </tr>\n  </tbody>\n</table>\n</div>"
     },
     "metadata": {},
     "execution_count": 4
    }
   ],
   "source": [
    "# Para enriquecer a nossa análise, vamos adicionar algumas colunas que extraem informações da coluna 'saledate': ano de venda, mês, dia da semana, dia do ano e dia do mês. Em seguida, vamos remover a coluna 'saledate' e visualizar novamente os dados.\n",
    "\n",
    "df['saleYear'] = df.saledate.dt.year\n",
    "df['saleMonth'] = df.saledate.dt.month\n",
    "df['saleDayOfWeek'] = df.saledate.dt.dayofweek\n",
    "df['saleDay'] = df.saledate.dt.day\n",
    "df['saleDayOfYear'] = df.saledate.dt.dayofyear\n",
    "\n",
    "df.drop('saledate', axis=1, inplace=True)\n",
    "df.head().T\n"
   ]
  },
  {
   "cell_type": "code",
   "execution_count": 5,
   "metadata": {},
   "outputs": [
    {
     "output_type": "stream",
     "name": "stdout",
     "text": [
      "auctioneerID\nMachineHoursCurrentMeter\n"
     ]
    }
   ],
   "source": [
    "# Finalmente, serão tratados os campos que possuem dados em branco. Valores numéricos em branco podem ser encontrados nas seguintes colunas:\n",
    "\n",
    "for label, content in df.items():\n",
    "    if pd.api.types.is_numeric_dtype(content):\n",
    "        if pd.isnull(content).sum():\n",
    "            print(label)\n"
   ]
  },
  {
   "cell_type": "code",
   "execution_count": 6,
   "metadata": {},
   "outputs": [],
   "source": [
    "# Como MachineHoursCurrentMeter não podem ser inferido de nenhuma forma, valores nulos serão substituídos pela mediana. \n",
    "\n",
    "# Substituir valores nulos(NaN) pela mediana.\n",
    "\n",
    "for label, content in df.items():\n",
    "    if label == 'MachineHoursCurrentMeter':\n",
    "        if pd.isnull(content).sum():\n",
    "          df[label] = content.fillna(content.median())"
   ]
  },
  {
   "cell_type": "code",
   "execution_count": 7,
   "metadata": {},
   "outputs": [],
   "source": [
    "# Já o campo auctioneerID (que também não pode ser inferido) será substituído aleatoriamente por um dos valores da série (com excessão de nulo):\n",
    "\n",
    "df_aux = df['auctioneerID'].unique()\n",
    "df_aux = df_aux[np.logical_not(np.isnan(df_aux))]\n",
    "\n",
    "# Substituir valores nulos pelo random do auctioneerID:\n",
    "\n",
    "for label, content in df.items():\n",
    "    if label == 'auctioneerID':\n",
    "         if pd.isnull(content).sum():\n",
    "            df[label] = content.fillna(value=np.random.choice(df_aux))"
   ]
  },
  {
   "cell_type": "code",
   "execution_count": 8,
   "metadata": {},
   "outputs": [],
   "source": [
    "# O próximo passo para o tratamento é transformar os dados do tipo string em tipo categoria.\n",
    "\n",
    "for label, content in df.items():\n",
    "    if pd.api.types.is_string_dtype(content):\n",
    "        df[label] = content.astype(\"category\").cat.as_ordered()"
   ]
  },
  {
   "cell_type": "code",
   "execution_count": 9,
   "metadata": {},
   "outputs": [],
   "source": [
    "# Em campos categóricos vazios, o código que traz a informação de campo vazio é -1. Por isso, ao somar +1, os campos vazios passam a ter código = 0 e os campos que já possuiam algum valor ficam com código = [código + 1].\n",
    "\n",
    "for label, content in df.items():\n",
    "    if not pd.api.types.is_numeric_dtype(content):\n",
    "        if pd.isnull:\n",
    "            df[label] = pd.Categorical(content).codes+1  \n",
    "                "
   ]
  },
  {
   "cell_type": "markdown",
   "metadata": {},
   "source": [
    "# 2. Construção do modelo de Machine Learning"
   ]
  },
  {
   "cell_type": "code",
   "execution_count": 10,
   "metadata": {},
   "outputs": [],
   "source": [
    "# Importar o módulo que possui o modelo de regressão que utilizaremos:\n",
    "\n",
    "from sklearn.ensemble import RandomForestRegressor"
   ]
  },
  {
   "cell_type": "code",
   "execution_count": 11,
   "metadata": {},
   "outputs": [],
   "source": [
    "# Instanciar o modelo, indicando que toda a capacidade de processamento do computador pode ser utilizada e tornando-o reproduzível.\n",
    "model = RandomForestRegressor(n_jobs=-1,\n",
    "                              random_state=42,\n",
    "                              max_samples=None)"
   ]
  },
  {
   "cell_type": "code",
   "execution_count": 12,
   "metadata": {},
   "outputs": [
    {
     "output_type": "stream",
     "name": "stdout",
     "text": [
      "CPU times: user 15min 12s, sys: 7.45 s, total: 15min 19s\nWall time: 6min\n"
     ]
    },
    {
     "output_type": "execute_result",
     "data": {
      "text/plain": [
       "RandomForestRegressor(n_jobs=-1, random_state=42)"
      ]
     },
     "metadata": {},
     "execution_count": 12
    }
   ],
   "source": [
    "%%time\n",
    "\n",
    "#Separar os dados para treino e validação\n",
    "\n",
    "df_val = df[df.saleYear == 2012]\n",
    "df_train = df[df.saleYear != 2012]\n",
    "\n",
    "# 'Treinar' o modelo nos dados\n",
    "\n",
    "X_train, y_train = df_train.drop('SalePrice', axis=1), df_train['SalePrice']\n",
    "X_valid, y_valid = df_val.drop('SalePrice', axis=1), df_val['SalePrice']\n",
    "model.fit(X_train, y_train)"
   ]
  },
  {
   "cell_type": "markdown",
   "metadata": {},
   "source": [
    "# 3. Construção da função de avaliação do modelo\n"
   ]
  },
  {
   "cell_type": "code",
   "execution_count": 13,
   "metadata": {},
   "outputs": [],
   "source": [
    "# Conforme citado anteriormente, a métrica de avaliação do modelo será a raiz do erro logarítmico quadrático médio entre o preço calculado através do modelo e o preço real. Para isso, será construída uma função.\n",
    "\n",
    "from sklearn.metrics import mean_squared_log_error, mean_absolute_error, r2_score\n",
    "\n",
    "def rmsle(y_test, y_preds):\n",
    "    '''\n",
    "    Esta função calcula a raiz do erro logarítmico quadrático médio (RMSLE) entre os valores calculados e os valores reais.\n",
    "    '''\n",
    "\n",
    "    return np.sqrt(mean_squared_log_error(y_test, y_preds))\n",
    "\n",
    "#Vamos criar também uma função para avaliar o modelo em níveis diferentes\n",
    "\n",
    "def show_scores(model):\n",
    "    train_preds = model.predict(X_train)\n",
    "    val_preds = model.predict(X_valid)\n",
    "    scores = {'Training MAE': mean_absolute_error(y_train, train_preds),\n",
    "              'Valid MAE': mean_absolute_error(y_valid, val_preds),\n",
    "              'Training RMSLE': rmsle(y_train, train_preds),\n",
    "              '-> Valid RMSLE': rmsle(y_valid,val_preds),\n",
    "              'Training R²': r2_score(y_train, train_preds),\n",
    "              'Valid R²': r2_score(y_valid, val_preds)}\n",
    "    return scores\n"
   ]
  },
  {
   "cell_type": "code",
   "execution_count": 14,
   "metadata": {},
   "outputs": [
    {
     "output_type": "execute_result",
     "data": {
      "text/plain": [
       "{'Training MAE': 1577.7902596198192,\n",
       " 'Valid MAE': 6111.417041389441,\n",
       " 'Training RMSLE': 0.08413119074594147,\n",
       " '-> Valid RMSLE': 0.2537439802580447,\n",
       " 'Training R²': 0.9875312509494447,\n",
       " 'Valid R²': 0.8730471013740366}"
      ]
     },
     "metadata": {},
     "execution_count": 14
    }
   ],
   "source": [
    "show_scores(model)"
   ]
  },
  {
   "cell_type": "code",
   "execution_count": 15,
   "metadata": {},
   "outputs": [
    {
     "output_type": "stream",
     "name": "stdout",
     "text": [
      "Fitting 5 folds for each of 100 candidates, totalling 500 fits\n",
      "[Parallel(n_jobs=1)]: Using backend SequentialBackend with 1 concurrent workers.\n",
      "[Parallel(n_jobs=1)]: Done 500 out of 500 | elapsed: 192.3min finished\n",
      "CPU times: user 9min 25s, sys: 41.8 s, total: 10min 6s\n",
      "Wall time: 3h 13min 20s\n"
     ]
    },
    {
     "output_type": "execute_result",
     "data": {
      "text/plain": [
       "RandomizedSearchCV(cv=5,\n",
       "                   estimator=RandomForestRegressor(n_jobs=-1, random_state=42),\n",
       "                   n_iter=100,\n",
       "                   param_distributions={'max_depth': [None, 3, 5, 10],\n",
       "                                        'max_features': ['auto', 'sqrt', 0.5,\n",
       "                                                         1],\n",
       "                                        'max_samples': [None],\n",
       "                                        'min_samples_leaf': array([ 1,  3,  5,  7,  9, 11, 13, 15, 17, 19]),\n",
       "                                        'min_samples_split': array([ 2,  4,  6,  8, 10, 12, 14, 16, 18]),\n",
       "                                        'n_estimators': array([10, 20, 30, 40, 50, 60, 70, 80, 90])},\n",
       "                   verbose=True)"
      ]
     },
     "metadata": {},
     "execution_count": 15
    }
   ],
   "source": [
    "%%time\n",
    "\n",
    "#  Apesar dos resultados obtidos terem sido bastante satisfatórios, vamos tentar melhor ainda mais o modelo ao ajustar os hiperparâmetros. Para isso, utilizaremos o RandomizedSearchCV, que ajusta os hiperparâmetros de forma aleatória dentro da biblioteca que determinamos.\n",
    "\n",
    "from sklearn.model_selection import RandomizedSearchCV\n",
    "\n",
    "rf_grid = {'n_estimators': np.arange(10,100,10),\n",
    "           'max_depth': [None, 3, 5, 10],\n",
    "           'min_samples_split': np.arange(2,20,2),\n",
    "           'min_samples_leaf': np.arange(1,20,2),\n",
    "           'max_features': ['auto','sqrt',0.5,1],\n",
    "           'max_samples': [None]}\n",
    "\n",
    "\n",
    "rs_model = RandomizedSearchCV(RandomForestRegressor(n_jobs=-1,\n",
    "                                                    random_state=42),\n",
    "                                                    param_distributions = rf_grid,\n",
    "                                                    n_iter=100,\n",
    "                                                    cv=5,\n",
    "                                                    verbose=True)\n",
    "\n",
    "rs_model.fit(X_train,y_train)\n",
    "\n",
    "# Com os valores definidos acima, o modelo demora cerca de 4h para ser treinado!  "
   ]
  },
  {
   "cell_type": "code",
   "execution_count": 16,
   "metadata": {},
   "outputs": [
    {
     "output_type": "execute_result",
     "data": {
      "text/plain": [
       "{'n_estimators': 70,\n",
       " 'min_samples_split': 10,\n",
       " 'min_samples_leaf': 7,\n",
       " 'max_samples': None,\n",
       " 'max_features': 0.5,\n",
       " 'max_depth': None}"
      ]
     },
     "metadata": {},
     "execution_count": 16
    }
   ],
   "source": [
    "# Os hiperparâmetros utilizados para encontrar a solução ótima:\n",
    "\n",
    "rs_model.best_params_"
   ]
  },
  {
   "cell_type": "code",
   "execution_count": 17,
   "metadata": {},
   "outputs": [
    {
     "output_type": "execute_result",
     "data": {
      "text/plain": [
       "{'Training MAE': 3494.763360844729,\n",
       " 'Valid MAE': 5937.381835921802,\n",
       " 'Training RMSLE': 0.17006053723295278,\n",
       " '-> Valid RMSLE': 0.2437265526762202,\n",
       " 'Training R²': 0.940976400431087,\n",
       " 'Valid R²': 0.8802173634170052}"
      ]
     },
     "metadata": {},
     "execution_count": 17
    }
   ],
   "source": [
    "# A 'pontuação' do modelo otimizado:\n",
    "\n",
    "show_scores(rs_model)"
   ]
  },
  {
   "cell_type": "code",
   "execution_count": 18,
   "metadata": {},
   "outputs": [],
   "source": [
    "# Com o RandomizedSearchCV, foi possível chegar a um resultado com hiperparâmetros melhores: o RMSLE para os dados de validação reduziu de 0.253 para 0.244."
   ]
  },
  {
   "source": [
    "# Vamos treinar novamente o modelo com os melhor hiperparâmetros\n",
    "\n",
    "ideal_model = RandomForestRegressor(n_estimators= 70,\n",
    "                                    min_samples_split = 10,\n",
    "                                    min_samples_leaf = 7,\n",
    "                                    max_samples = None,\n",
    "                                    max_features = 0.5,\n",
    "                                    max_depth = None,\n",
    "                                    random_state = 42)\n",
    "\n",
    "ideal_model.fit(X_train,y_train)"
   ],
   "cell_type": "code",
   "metadata": {},
   "execution_count": 21,
   "outputs": [
    {
     "output_type": "execute_result",
     "data": {
      "text/plain": [
       "RandomForestRegressor(max_features=0.5, min_samples_leaf=7,\n",
       "                      min_samples_split=10, n_estimators=70, random_state=42)"
      ]
     },
     "metadata": {},
     "execution_count": 21
    }
   ]
  },
  {
   "cell_type": "code",
   "execution_count": 43,
   "metadata": {},
   "outputs": [
    {
     "output_type": "execute_result",
     "data": {
      "text/plain": [
       "{'Training MAE': 3494.763360844729,\n",
       " 'Valid MAE': 5937.381835921802,\n",
       " 'Training RMSLE': 0.17006053723295278,\n",
       " '-> Valid RMSLE': 0.2437265526762202,\n",
       " 'Training R²': 0.940976400431087,\n",
       " 'Valid R²': 0.8802173634170052}"
      ]
     },
     "metadata": {},
     "execution_count": 43
    }
   ],
   "source": [
    "\n",
    "show_scores(ideal_model)"
   ]
  },
  {
   "source": [
    "# 4. Realizando projeções sobre os dados de teste"
   ],
   "cell_type": "markdown",
   "metadata": {}
  },
  {
   "source": [
    "# Agora que construímos e melhoramos o modelo, vamos realizar predições sobre dados de um período posterior ao período utilizado na modelagem.\n",
    "\n",
    "df_test = pd.read_csv('Test.csv', low_memory=False, parse_dates=['saledate'])\n",
    "\n",
    "df_test.head().T"
   ],
   "cell_type": "code",
   "metadata": {},
   "execution_count": 22,
   "outputs": [
    {
     "output_type": "execute_result",
     "data": {
      "text/plain": [
       "                                                             3   \n",
       "YearMade                                                               1999   \n",
       "MachineHoursCurrentMeter                                               3688   \n",
       "UsageBand                                                               Low   \n",
       "saledate                                                2012-05-03 00:00:00   \n",
       "fiModelDesc                                                            580G   \n",
       "fiBaseModel                                                             580   \n",
       "fiSecondaryDesc                                                           G   \n",
       "fiModelSeries                                                           NaN   \n",
       "fiModelDescriptor                                                       NaN   \n",
       "ProductSize                                                             NaN   \n",
       "fiProductClassDesc        Backhoe Loader - 14.0 to 15.0 Ft Standard Digg...   \n",
       "state                                                               Wyoming   \n",
       "ProductGroup                                                             BL   \n",
       "ProductGroupDesc                                            Backhoe Loaders   \n",
       "Drive_System                                                Two Wheel Drive   \n",
       "Enclosure                                                             OROPS   \n",
       "Forks                                                                   Yes   \n",
       "Pad_Type                                                None or Unspecified   \n",
       "Ride_Control                                                             No   \n",
       "Stick                                                              Standard   \n",
       "Transmission                                                       Standard   \n",
       "Turbocharged                                            None or Unspecified   \n",
       "Blade_Extension                                                         NaN   \n",
       "Blade_Width                                                             NaN   \n",
       "Enclosure_Type                                                          NaN   \n",
       "Engine_Horsepower                                                       NaN   \n",
       "Hydraulics                                                              NaN   \n",
       "Pushblock                                                               NaN   \n",
       "Ripper                                                                  NaN   \n",
       "Scarifier                                                               NaN   \n",
       "Tip_Control                                                             NaN   \n",
       "Tire_Size                                                               NaN   \n",
       "Coupler                                                                 NaN   \n",
       "Coupler_System                                                          NaN   \n",
       "Grouser_Tracks                                                          NaN   \n",
       "Hydraulics_Flow                                                         NaN   \n",
       "Track_Type                                                              NaN   \n",
       "Undercarriage_Pad_Width                                                 NaN   \n",
       "Stick_Length                                                            NaN   \n",
       "Thumb                                                                   NaN   \n",
       "Pattern_Changer                                                         NaN   \n",
       "Grouser_Type                                                            NaN   \n",
       "Backhoe_Mounting                                                        NaN   \n",
       "Blade_Type                                                              NaN   \n",
       "Travel_Controls                                                         NaN   \n",
       "Differential_Type                                                       NaN   \n",
       "Steering_Controls                                                       NaN   \n",
       "\n",
       "                                                                 1  \\\n",
       "SalesID                                                    1227844   \n",
       "MachineID                                                  1022817   \n",
       "ModelID                                                       7271   \n",
       "datasource                                                     121   \n",
       "auctioneerID                                                     3   \n",
       "YearMade                                                      1000   \n",
       "MachineHoursCurrentMeter                                     28555   \n",
       "UsageBand                                                     High   \n",
       "saledate                                       2012-05-10 00:00:00   \n",
       "fiModelDesc                                                    936   \n",
       "fiBaseModel                                                    936   \n",
       "fiSecondaryDesc                                                NaN   \n",
       "fiModelSeries                                                  NaN   \n",
       "fiModelDescriptor                                              NaN   \n",
       "ProductSize                                                 Medium   \n",
       "fiProductClassDesc        Wheel Loader - 135.0 to 150.0 Horsepower   \n",
       "state                                                     Virginia   \n",
       "ProductGroup                                                    WL   \n",
       "ProductGroupDesc                                      Wheel Loader   \n",
       "Drive_System                                                   NaN   \n",
       "Enclosure                                                    EROPS   \n",
       "Forks                                                          Yes   \n",
       "Pad_Type                                                       NaN   \n",
       "Ride_Control                                   None or Unspecified   \n",
       "Stick                                                          NaN   \n",
       "Transmission                                                   NaN   \n",
       "Turbocharged                                                   NaN   \n",
       "Blade_Extension                                                NaN   \n",
       "Blade_Width                                                    NaN   \n",
       "Enclosure_Type                                                 NaN   \n",
       "Engine_Horsepower                                              NaN   \n",
       "Hydraulics                                                 2 Valve   \n",
       "Pushblock                                                      NaN   \n",
       "Ripper                                                         NaN   \n",
       "Scarifier                                                      NaN   \n",
       "Tip_Control                                                    NaN   \n",
       "Tire_Size                                                     20.5   \n",
       "Coupler                                        None or Unspecified   \n",
       "Coupler_System                                                 NaN   \n",
       "Grouser_Tracks                                                 NaN   \n",
       "Hydraulics_Flow                                                NaN   \n",
       "Track_Type                                                     NaN   \n",
       "Undercarriage_Pad_Width                                        NaN   \n",
       "Stick_Length                                                   NaN   \n",
       "Thumb                                                          NaN   \n",
       "Pattern_Changer                                                NaN   \n",
       "Grouser_Type                                                   NaN   \n",
       "Backhoe_Mounting                                               NaN   \n",
       "Blade_Type                                                     NaN   \n",
       "Travel_Controls                                                NaN   \n",
       "Differential_Type                                         Standard   \n",
       "Steering_Controls                                     Conventional   \n",
       "\n",
       "                                                                          2  \\\n",
       "SalesID                                                             1227847   \n",
       "MachineID                                                           1031560   \n",
       "ModelID                                                               22805   \n",
       "datasource                                                              121   \n",
       "auctioneerID                                                              3   \n",
       "YearMade                                                               2004   \n",
       "MachineHoursCurrentMeter                                               6038   \n",
       "UsageBand                                                            Medium   \n",
       "saledate                                                2012-05-10 00:00:00   \n",
       "fiModelDesc                                                        EC210BLC   \n",
       "fiBaseModel                                                           EC210   \n",
       "fiSecondaryDesc                                                           B   \n",
       "fiModelSeries                                                           NaN   \n",
       "fiModelDescriptor                                                        LC   \n",
       "ProductSize                                                  Large / Medium   \n",
       "fiProductClassDesc        Hydraulic Excavator, Track - 21.0 to 24.0 Metr...   \n",
       "state                                                            New Jersey   \n",
       "ProductGroup                                                            TEX   \n",
       "ProductGroupDesc                                           Track Excavators   \n",
       "Drive_System                                                            NaN   \n",
       "Enclosure                                                        EROPS w AC   \n",
       "Forks                                                                   NaN   \n",
       "Pad_Type                                                                NaN   \n",
       "Ride_Control                                                            NaN   \n",
       "Stick                                                                   NaN   \n",
       "Transmission                                                            NaN   \n",
       "Turbocharged                                                            NaN   \n",
       "Blade_Extension                                                         NaN   \n",
       "Blade_Width                                                             NaN   \n",
       "Enclosure_Type                                                          NaN   \n",
       "Engine_Horsepower                                                       NaN   \n",
       "Hydraulics                                                        Auxiliary   \n",
       "Pushblock                                                               NaN   \n",
       "Ripper                                                                  NaN   \n",
       "Scarifier                                                               NaN   \n",
       "Tip_Control                                                             NaN   \n",
       "Tire_Size                                                               NaN   \n",
       "Coupler                                                 None or Unspecified   \n",
       "Coupler_System                                                          NaN   \n",
       "Grouser_Tracks                                                          NaN   \n",
       "Hydraulics_Flow                                                         NaN   \n",
       "Track_Type                                                            Steel   \n",
       "Undercarriage_Pad_Width                                 None or Unspecified   \n",
       "Stick_Length                                                          9' 6\"   \n",
       "Thumb                                                                Manual   \n",
       "Pattern_Changer                                         None or Unspecified   \n",
       "Grouser_Type                                                         Double   \n",
       "Backhoe_Mounting                                                        NaN   \n",
       "Blade_Type                                                              NaN   \n",
       "Travel_Controls                                                         NaN   \n",
       "Differential_Type                                                       NaN   \n",
       "Steering_Controls                                                       NaN   \n",
       "\n",
       "                                                                          3  \\\n",
       "SalesID                                                             1227848   \n",
       "MachineID                                                             56204   \n",
       "ModelID                                                                1269   \n",
       "datasource                                                              121   \n",
       "auctioneerID                                                              3   \n",
       "YearMade                                                               2006   \n",
       "MachineHoursCurrentMeter                                               8940   \n",
       "UsageBand                                                              High   \n",
       "saledate                                                2012-05-10 00:00:00   \n",
       "fiModelDesc                                                           330CL   \n",
       "fiBaseModel                                                             330   \n",
       "fiSecondaryDesc                                                           C   \n",
       "fiModelSeries                                                           NaN   \n",
       "fiModelDescriptor                                                         L   \n",
       "ProductSize                                                  Large / Medium   \n",
       "fiProductClassDesc        Hydraulic Excavator, Track - 33.0 to 40.0 Metr...   \n",
       "state                                                            New Jersey   \n",
       "ProductGroup                                                            TEX   \n",
       "ProductGroupDesc                                           Track Excavators   \n",
       "Drive_System                                                            NaN   \n",
       "Enclosure                                                        EROPS w AC   \n",
       "Forks                                                                   NaN   \n",
       "Pad_Type                                                                NaN   \n",
       "Ride_Control                                                            NaN   \n",
       "Stick                                                                   NaN   \n",
       "Transmission                                                            NaN   \n",
       "Turbocharged                                                            NaN   \n",
       "Blade_Extension                                                         NaN   \n",
       "Blade_Width                                                             NaN   \n",
       "Enclosure_Type                                                          NaN   \n",
       "Engine_Horsepower                                                       NaN   \n",
       "Hydraulics                                                         Standard   \n",
       "Pushblock                                                               NaN   \n",
       "Ripper                                                                  NaN   \n",
       "Scarifier                                                               NaN   \n",
       "Tip_Control                                                             NaN   \n",
       "Tire_Size                                                               NaN   \n",
       "Coupler                                                 None or Unspecified   \n",
       "Coupler_System                                                          NaN   \n",
       "Grouser_Tracks                                                          NaN   \n",
       "Hydraulics_Flow                                                         NaN   \n",
       "Track_Type                                                            Steel   \n",
       "Undercarriage_Pad_Width                                 None or Unspecified   \n",
       "Stick_Length                                            None or Unspecified   \n",
       "Thumb                                                                Manual   \n",
       "Pattern_Changer                                                         Yes   \n",
       "Grouser_Type                                                         Triple   \n",
       "Backhoe_Mounting                                                        NaN   \n",
       "Blade_Type                                                              NaN   \n",
       "Travel_Controls                                                         NaN   \n",
       "Differential_Type                                                       NaN   \n",
       "Steering_Controls                                                       NaN   \n",
       "\n",
       "                                                                          4  \n",
       "SalesID                                                             1227863  \n",
       "MachineID                                                           1053887  \n",
       "ModelID                                                               22312  \n",
       "datasource                                                              121  \n",
       "auctioneerID                                                              3  \n",
       "YearMade                                                               2005  \n",
       "MachineHoursCurrentMeter                                               2286  \n",
       "UsageBand                                                               Low  \n",
       "saledate                                                2012-05-10 00:00:00  \n",
       "fiModelDesc                                                            650K  \n",
       "fiBaseModel                                                             650  \n",
       "fiSecondaryDesc                                                           K  \n",
       "fiModelSeries                                                           NaN  \n",
       "fiModelDescriptor                                                       NaN  \n",
       "ProductSize                                                             NaN  \n",
       "fiProductClassDesc        Track Type Tractor, Dozer - 20.0 to 75.0 Horse...  \n",
       "state                                                               Florida  \n",
       "ProductGroup                                                            TTT  \n",
       "ProductGroupDesc                                        Track Type Tractors  \n",
       "Drive_System                                                            NaN  \n",
       "Enclosure                                                             OROPS  \n",
       "Forks                                                                   NaN  \n",
       "Pad_Type                                                                NaN  \n",
       "Ride_Control                                                            NaN  \n",
       "Stick                                                                   NaN  \n",
       "Transmission                                                    Hydrostatic  \n",
       "Turbocharged                                                            NaN  \n",
       "Blade_Extension                                                         NaN  \n",
       "Blade_Width                                                             NaN  \n",
       "Enclosure_Type                                                          NaN  \n",
       "Engine_Horsepower                                                       NaN  \n",
       "Hydraulics                                                          2 Valve  \n",
       "Pushblock                                                               NaN  \n",
       "Ripper                                                  None or Unspecified  \n",
       "Scarifier                                                               NaN  \n",
       "Tip_Control                                                             NaN  \n",
       "Tire_Size                                                               NaN  \n",
       "Coupler                                                                 NaN  \n",
       "Coupler_System                                                          NaN  \n",
       "Grouser_Tracks                                                          NaN  \n",
       "Hydraulics_Flow                                                         NaN  \n",
       "Track_Type                                                              NaN  \n",
       "Undercarriage_Pad_Width                                                 NaN  \n",
       "Stick_Length                                                            NaN  \n",
       "Thumb                                                                   NaN  \n",
       "Pattern_Changer                                                         NaN  \n",
       "Grouser_Type                                                            NaN  \n",
       "Backhoe_Mounting                                        None or Unspecified  \n",
       "Blade_Type                                                              PAT  \n",
       "Travel_Controls                                         None or Unspecified  \n",
       "Differential_Type                                                       NaN  \n",
       "Steering_Controls                                                       NaN  "
      ],
      "text/html": "<div>\n<style scoped>\n    .dataframe tbody tr th:only-of-type {\n        vertical-align: middle;\n    }\n\n    .dataframe tbody tr th {\n        vertical-align: top;\n    }\n\n    .dataframe thead th {\n        text-align: right;\n    }\n</style>\n<table border=\"1\" class=\"dataframe\">\n  <thead>\n    <tr style=\"text-align: right;\">\n      <th></th>\n      <th>0</th>\n      <th>1</th>\n      <th>2</th>\n      <th>3</th>\n      <th>4</th>\n    </tr>\n  </thead>\n  <tbody>\n    <tr>\n      <th>SalesID</th>\n      <td>1227829</td>\n      <td>1227844</td>\n      <td>1227847</td>\n      <td>1227848</td>\n      <td>1227863</td>\n    </tr>\n    <tr>\n      <th>MachineID</th>\n      <td>1006309</td>\n      <td>1022817</td>\n      <td>1031560</td>\n      <td>56204</td>\n      <td>1053887</td>\n    </tr>\n    <tr>\n      <th>ModelID</th>\n      <td>3168</td>\n      <td>7271</td>\n      <td>22805</td>\n      <td>1269</td>\n      <td>22312</td>\n    </tr>\n    <tr>\n      <th>datasource</th>\n      <td>121</td>\n      <td>121</td>\n      <td>121</td>\n      <td>121</td>\n      <td>121</td>\n    </tr>\n    <tr>\n      <th>auctioneerID</th>\n      <td>3</td>\n      <td>3</td>\n      <td>3</td>\n      <td>3</td>\n      <td>3</td>\n    </tr>\n    <tr>\n      <th>YearMade</th>\n      <td>1999</td>\n      <td>1000</td>\n      <td>2004</td>\n      <td>2006</td>\n      <td>2005</td>\n    </tr>\n    <tr>\n      <th>MachineHoursCurrentMeter</th>\n      <td>3688</td>\n      <td>28555</td>\n      <td>6038</td>\n      <td>8940</td>\n      <td>2286</td>\n    </tr>\n    <tr>\n      <th>UsageBand</th>\n      <td>Low</td>\n      <td>High</td>\n      <td>Medium</td>\n      <td>High</td>\n      <td>Low</td>\n    </tr>\n    <tr>\n      <th>saledate</th>\n      <td>2012-05-03 00:00:00</td>\n      <td>2012-05-10 00:00:00</td>\n      <td>2012-05-10 00:00:00</td>\n      <td>2012-05-10 00:00:00</td>\n      <td>2012-05-10 00:00:00</td>\n    </tr>\n    <tr>\n      <th>fiModelDesc</th>\n      <td>580G</td>\n      <td>936</td>\n      <td>EC210BLC</td>\n      <td>330CL</td>\n      <td>650K</td>\n    </tr>\n    <tr>\n      <th>fiBaseModel</th>\n      <td>580</td>\n      <td>936</td>\n      <td>EC210</td>\n      <td>330</td>\n      <td>650</td>\n    </tr>\n    <tr>\n      <th>fiSecondaryDesc</th>\n      <td>G</td>\n      <td>NaN</td>\n      <td>B</td>\n      <td>C</td>\n      <td>K</td>\n    </tr>\n    <tr>\n      <th>fiModelSeries</th>\n      <td>NaN</td>\n      <td>NaN</td>\n      <td>NaN</td>\n      <td>NaN</td>\n      <td>NaN</td>\n    </tr>\n    <tr>\n      <th>fiModelDescriptor</th>\n      <td>NaN</td>\n      <td>NaN</td>\n      <td>LC</td>\n      <td>L</td>\n      <td>NaN</td>\n    </tr>\n    <tr>\n      <th>ProductSize</th>\n      <td>NaN</td>\n      <td>Medium</td>\n      <td>Large / Medium</td>\n      <td>Large / Medium</td>\n      <td>NaN</td>\n    </tr>\n    <tr>\n      <th>fiProductClassDesc</th>\n      <td>Backhoe Loader - 14.0 to 15.0 Ft Standard Digg...</td>\n      <td>Wheel Loader - 135.0 to 150.0 Horsepower</td>\n      <td>Hydraulic Excavator, Track - 21.0 to 24.0 Metr...</td>\n      <td>Hydraulic Excavator, Track - 33.0 to 40.0 Metr...</td>\n      <td>Track Type Tractor, Dozer - 20.0 to 75.0 Horse...</td>\n    </tr>\n    <tr>\n      <th>state</th>\n      <td>Wyoming</td>\n      <td>Virginia</td>\n      <td>New Jersey</td>\n      <td>New Jersey</td>\n      <td>Florida</td>\n    </tr>\n    <tr>\n      <th>ProductGroup</th>\n      <td>BL</td>\n      <td>WL</td>\n      <td>TEX</td>\n      <td>TEX</td>\n      <td>TTT</td>\n    </tr>\n    <tr>\n      <th>ProductGroupDesc</th>\n      <td>Backhoe Loaders</td>\n      <td>Wheel Loader</td>\n      <td>Track Excavators</td>\n      <td>Track Excavators</td>\n      <td>Track Type Tractors</td>\n    </tr>\n    <tr>\n      <th>Drive_System</th>\n      <td>Two Wheel Drive</td>\n      <td>NaN</td>\n      <td>NaN</td>\n      <td>NaN</td>\n      <td>NaN</td>\n    </tr>\n    <tr>\n      <th>Enclosure</th>\n      <td>OROPS</td>\n      <td>EROPS</td>\n      <td>EROPS w AC</td>\n      <td>EROPS w AC</td>\n      <td>OROPS</td>\n    </tr>\n    <tr>\n      <th>Forks</th>\n      <td>Yes</td>\n      <td>Yes</td>\n      <td>NaN</td>\n      <td>NaN</td>\n      <td>NaN</td>\n    </tr>\n    <tr>\n      <th>Pad_Type</th>\n      <td>None or Unspecified</td>\n      <td>NaN</td>\n      <td>NaN</td>\n      <td>NaN</td>\n      <td>NaN</td>\n    </tr>\n    <tr>\n      <th>Ride_Control</th>\n      <td>No</td>\n      <td>None or Unspecified</td>\n      <td>NaN</td>\n      <td>NaN</td>\n      <td>NaN</td>\n    </tr>\n    <tr>\n      <th>Stick</th>\n      <td>Standard</td>\n      <td>NaN</td>\n      <td>NaN</td>\n      <td>NaN</td>\n      <td>NaN</td>\n    </tr>\n    <tr>\n      <th>Transmission</th>\n      <td>Standard</td>\n      <td>NaN</td>\n      <td>NaN</td>\n      <td>NaN</td>\n      <td>Hydrostatic</td>\n    </tr>\n    <tr>\n      <th>Turbocharged</th>\n      <td>None or Unspecified</td>\n      <td>NaN</td>\n      <td>NaN</td>\n      <td>NaN</td>\n      <td>NaN</td>\n    </tr>\n    <tr>\n      <th>Blade_Extension</th>\n      <td>NaN</td>\n      <td>NaN</td>\n      <td>NaN</td>\n      <td>NaN</td>\n      <td>NaN</td>\n    </tr>\n    <tr>\n      <th>Blade_Width</th>\n      <td>NaN</td>\n      <td>NaN</td>\n      <td>NaN</td>\n      <td>NaN</td>\n      <td>NaN</td>\n    </tr>\n    <tr>\n      <th>Enclosure_Type</th>\n      <td>NaN</td>\n      <td>NaN</td>\n      <td>NaN</td>\n      <td>NaN</td>\n      <td>NaN</td>\n    </tr>\n    <tr>\n      <th>Engine_Horsepower</th>\n      <td>NaN</td>\n      <td>NaN</td>\n      <td>NaN</td>\n      <td>NaN</td>\n      <td>NaN</td>\n    </tr>\n    <tr>\n      <th>Hydraulics</th>\n      <td>NaN</td>\n      <td>2 Valve</td>\n      <td>Auxiliary</td>\n      <td>Standard</td>\n      <td>2 Valve</td>\n    </tr>\n    <tr>\n      <th>Pushblock</th>\n      <td>NaN</td>\n      <td>NaN</td>\n      <td>NaN</td>\n      <td>NaN</td>\n      <td>NaN</td>\n    </tr>\n    <tr>\n      <th>Ripper</th>\n      <td>NaN</td>\n      <td>NaN</td>\n      <td>NaN</td>\n      <td>NaN</td>\n      <td>None or Unspecified</td>\n    </tr>\n    <tr>\n      <th>Scarifier</th>\n      <td>NaN</td>\n      <td>NaN</td>\n      <td>NaN</td>\n      <td>NaN</td>\n      <td>NaN</td>\n    </tr>\n    <tr>\n      <th>Tip_Control</th>\n      <td>NaN</td>\n      <td>NaN</td>\n      <td>NaN</td>\n      <td>NaN</td>\n      <td>NaN</td>\n    </tr>\n    <tr>\n      <th>Tire_Size</th>\n      <td>NaN</td>\n      <td>20.5</td>\n      <td>NaN</td>\n      <td>NaN</td>\n      <td>NaN</td>\n    </tr>\n    <tr>\n      <th>Coupler</th>\n      <td>NaN</td>\n      <td>None or Unspecified</td>\n      <td>None or Unspecified</td>\n      <td>None or Unspecified</td>\n      <td>NaN</td>\n    </tr>\n    <tr>\n      <th>Coupler_System</th>\n      <td>NaN</td>\n      <td>NaN</td>\n      <td>NaN</td>\n      <td>NaN</td>\n      <td>NaN</td>\n    </tr>\n    <tr>\n      <th>Grouser_Tracks</th>\n      <td>NaN</td>\n      <td>NaN</td>\n      <td>NaN</td>\n      <td>NaN</td>\n      <td>NaN</td>\n    </tr>\n    <tr>\n      <th>Hydraulics_Flow</th>\n      <td>NaN</td>\n      <td>NaN</td>\n      <td>NaN</td>\n      <td>NaN</td>\n      <td>NaN</td>\n    </tr>\n    <tr>\n      <th>Track_Type</th>\n      <td>NaN</td>\n      <td>NaN</td>\n      <td>Steel</td>\n      <td>Steel</td>\n      <td>NaN</td>\n    </tr>\n    <tr>\n      <th>Undercarriage_Pad_Width</th>\n      <td>NaN</td>\n      <td>NaN</td>\n      <td>None or Unspecified</td>\n      <td>None or Unspecified</td>\n      <td>NaN</td>\n    </tr>\n    <tr>\n      <th>Stick_Length</th>\n      <td>NaN</td>\n      <td>NaN</td>\n      <td>9' 6\"</td>\n      <td>None or Unspecified</td>\n      <td>NaN</td>\n    </tr>\n    <tr>\n      <th>Thumb</th>\n      <td>NaN</td>\n      <td>NaN</td>\n      <td>Manual</td>\n      <td>Manual</td>\n      <td>NaN</td>\n    </tr>\n    <tr>\n      <th>Pattern_Changer</th>\n      <td>NaN</td>\n      <td>NaN</td>\n      <td>None or Unspecified</td>\n      <td>Yes</td>\n      <td>NaN</td>\n    </tr>\n    <tr>\n      <th>Grouser_Type</th>\n      <td>NaN</td>\n      <td>NaN</td>\n      <td>Double</td>\n      <td>Triple</td>\n      <td>NaN</td>\n    </tr>\n    <tr>\n      <th>Backhoe_Mounting</th>\n      <td>NaN</td>\n      <td>NaN</td>\n      <td>NaN</td>\n      <td>NaN</td>\n      <td>None or Unspecified</td>\n    </tr>\n    <tr>\n      <th>Blade_Type</th>\n      <td>NaN</td>\n      <td>NaN</td>\n      <td>NaN</td>\n      <td>NaN</td>\n      <td>PAT</td>\n    </tr>\n    <tr>\n      <th>Travel_Controls</th>\n      <td>NaN</td>\n      <td>NaN</td>\n      <td>NaN</td>\n      <td>NaN</td>\n      <td>None or Unspecified</td>\n    </tr>\n    <tr>\n      <th>Differential_Type</th>\n      <td>NaN</td>\n      <td>Standard</td>\n      <td>NaN</td>\n      <td>NaN</td>\n      <td>NaN</td>\n    </tr>\n    <tr>\n      <th>Steering_Controls</th>\n      <td>NaN</td>\n      <td>Conventional</td>\n      <td>NaN</td>\n      <td>NaN</td>\n      <td>NaN</td>\n    </tr>\n  </tbody>\n</table>\n</div>"
     },
     "metadata": {},
     "execution_count": 22
    }
   ]
  },
  {
   "source": [
    "# Com os dados de teste, precisamos fazer os mesmos procedimentos para tratar os dados: remover dados ausentes, organizar as colunas de datas... Para isso, será criada a função abaixo:\n",
    "\n",
    "def preprocess_data(df):\n",
    "\n",
    "    # Ajustar dados de data\n",
    "    df['saleYear'] = df.saledate.dt.year\n",
    "    df['saleMonth'] = df.saledate.dt.month\n",
    "    df['saleDayOfWeek'] = df.saledate.dt.dayofweek\n",
    "    df['saleDay'] = df.saledate.dt.day\n",
    "    df['saleDayOfYear'] = df.saledate.dt.dayofyear\n",
    "    df.drop('saledate', axis=1, inplace=True)\n",
    "    \n",
    "    df_aux = df['auctioneerID'].unique()\n",
    "    df_aux = df_aux[np.logical_not(np.isnan(df_aux))]\n",
    "    \n",
    "    for label, content in df.items():\n",
    "        #Substituir o Nan e nulo do MachineHoursCurrentMeter pela mediana:\n",
    "        if label == 'MachineHoursCurrentMeter':\n",
    "            if pd.isnull(content).sum():\n",
    "                df[label] = content.fillna(content.median())\n",
    "\n",
    "        #Substituir o Nan e nulo do auctioneerID pelo random:\n",
    "        if label == 'auctioneerID':\n",
    "            if pd.isnull(content).sum():\n",
    "               df[label] = content.fillna(value=np.random.choice(df_aux))\n",
    "\n",
    "        #Transformar categorias em números:\n",
    "        if not pd.api.types.is_numeric_dtype(content):\n",
    "            df[label] = pd.Categorical(content).codes+1\n",
    "\n",
    "    return df\n",
    "    "
   ],
   "cell_type": "code",
   "metadata": {},
   "execution_count": 23,
   "outputs": []
  },
  {
   "source": [
    "# Preparar os dados teste com a função de preprocessamento:\n",
    "\n",
    "df_test = preprocess_data(df_test)"
   ],
   "cell_type": "code",
   "metadata": {},
   "execution_count": 24,
   "outputs": []
  },
  {
   "source": [
    "# Com os dados de df_test no mesmo formato dos dados utilizados para treinar o modelo, poderemos agora utilizar nosso modelo para fazer previsões sobre os dados de teste:\n",
    "\n",
    "test_preds = ideal_model.predict(df_test)"
   ],
   "cell_type": "code",
   "metadata": {},
   "execution_count": 25,
   "outputs": []
  },
  {
   "source": [
    "df_preds = pd.DataFrame()\n",
    "df_preds['SalesID'] = df_test['SalesID']\n",
    "df_preds['SalesPrice'] = test_preds\n",
    "df_preds\n",
    "\n",
    "# O DataFrame abaixo apresenta valores de venda previstos, gerados pelo modelo de MachineLearning."
   ],
   "cell_type": "code",
   "metadata": {},
   "execution_count": 26,
   "outputs": [
    {
     "output_type": "execute_result",
     "data": {
      "text/plain": [
       "       SalesID    SalesPrice\n",
       "0      1227829  17821.117576\n",
       "1      1227844  16570.776212\n",
       "2      1227847  51103.067692\n",
       "3      1227848  65570.615813\n",
       "4      1227863  56663.802690\n",
       "...        ...           ...\n",
       "12452  6643171  38511.988109\n",
       "12453  6643173  12352.357264\n",
       "12454  6643184  13370.069389\n",
       "12455  6643186  15567.448982\n",
       "12456  6643196  24069.181742\n",
       "\n",
       "[12457 rows x 2 columns]"
      ],
      "text/html": "<div>\n<style scoped>\n    .dataframe tbody tr th:only-of-type {\n        vertical-align: middle;\n    }\n\n    .dataframe tbody tr th {\n        vertical-align: top;\n    }\n\n    .dataframe thead th {\n        text-align: right;\n    }\n</style>\n<table border=\"1\" class=\"dataframe\">\n  <thead>\n    <tr style=\"text-align: right;\">\n      <th></th>\n      <th>SalesID</th>\n      <th>SalesPrice</th>\n    </tr>\n  </thead>\n  <tbody>\n    <tr>\n      <th>0</th>\n      <td>1227829</td>\n      <td>17821.117576</td>\n    </tr>\n    <tr>\n      <th>1</th>\n      <td>1227844</td>\n      <td>16570.776212</td>\n    </tr>\n    <tr>\n      <th>2</th>\n      <td>1227847</td>\n      <td>51103.067692</td>\n    </tr>\n    <tr>\n      <th>3</th>\n      <td>1227848</td>\n      <td>65570.615813</td>\n    </tr>\n    <tr>\n      <th>4</th>\n      <td>1227863</td>\n      <td>56663.802690</td>\n    </tr>\n    <tr>\n      <th>...</th>\n      <td>...</td>\n      <td>...</td>\n    </tr>\n    <tr>\n      <th>12452</th>\n      <td>6643171</td>\n      <td>38511.988109</td>\n    </tr>\n    <tr>\n      <th>12453</th>\n      <td>6643173</td>\n      <td>12352.357264</td>\n    </tr>\n    <tr>\n      <th>12454</th>\n      <td>6643184</td>\n      <td>13370.069389</td>\n    </tr>\n    <tr>\n      <th>12455</th>\n      <td>6643186</td>\n      <td>15567.448982</td>\n    </tr>\n    <tr>\n      <th>12456</th>\n      <td>6643196</td>\n      <td>24069.181742</td>\n    </tr>\n  </tbody>\n</table>\n<p>12457 rows × 2 columns</p>\n</div>"
     },
     "metadata": {},
     "execution_count": 26
    }
   ]
  },
  {
   "cell_type": "markdown",
   "metadata": {},
   "source": [
    "# EXTRA: Relevância dos atributos no modelo construído"
   ]
  },
  {
   "source": [
    "# Alguns atributos dos tratores de esteira tem mais 'peso' no valor de venda do que outros. A seguir, vamos descobrir quais são os atributos que mais pesam no modelo, e em que medida.\n",
    "\n",
    "ideal_model.feature_importances_"
   ],
   "cell_type": "code",
   "metadata": {},
   "execution_count": 27,
   "outputs": [
    {
     "output_type": "execute_result",
     "data": {
      "text/plain": [
       "array([3.21892892e-02, 1.59209922e-02, 4.52077693e-02, 2.08937292e-03,\n",
       "       2.59421088e-03, 2.00135217e-01, 2.69358073e-03, 8.89054959e-04,\n",
       "       4.07092119e-02, 4.75192565e-02, 6.54433695e-02, 5.73268823e-03,\n",
       "       3.03885552e-02, 1.62408010e-01, 4.36693904e-02, 4.62699588e-03,\n",
       "       6.65319390e-03, 6.05777205e-03, 3.29586174e-03, 8.14868280e-02,\n",
       "       7.45813952e-04, 2.98783262e-03, 1.18258941e-03, 3.84938692e-04,\n",
       "       1.03468251e-03, 3.73552751e-05, 2.60137071e-03, 1.34124881e-02,\n",
       "       2.00645963e-03, 1.61768790e-03, 6.20974933e-03, 3.68575417e-03,\n",
       "       4.69888470e-03, 9.37830314e-04, 1.83462826e-03, 1.56442211e-02,\n",
       "       1.35097603e-03, 2.13143482e-02, 3.29099634e-03, 9.59919725e-03,\n",
       "       1.35060111e-03, 1.00589674e-03, 4.21336227e-03, 5.25486476e-04,\n",
       "       6.02340573e-04, 2.80026852e-04, 5.29057883e-04, 3.45922792e-03,\n",
       "       1.35893291e-03, 5.06954632e-04, 2.97975193e-04, 7.35851504e-02,\n",
       "       3.39748482e-03, 2.10430284e-03, 4.28219540e-03, 8.21257904e-03])"
      ]
     },
     "metadata": {},
     "execution_count": 27
    }
   ]
  },
  {
   "cell_type": "code",
   "execution_count": 49,
   "metadata": {},
   "outputs": [],
   "source": [
    "# Um array não nos diz muito, por isso vamos plotar um gráfico com os 20 atributos mais importantes:\n",
    "\n",
    "def plot_features(columns, importances, n=20):\n",
    "    df = (pd.DataFrame({'features':columns,\n",
    "                        'feature_importances':importances})\n",
    "                        .sort_values('feature_importances',ascending=False)\n",
    "                        .reset_index(drop=True))\n",
    "    fig, ax = plt.subplots(figsize=(10,6))\n",
    "    ax.barh(df['features'][:n],df['feature_importances'][:20])\n",
    "    ax.set_ylabel('Atributos')\n",
    "    ax.set_xlabel('Relevância do atributo')\n",
    "    ax.invert_yaxis()\n",
    "    ax.set_title('Relevância dos atributos no preço de venda de tratores de esteira')\n"
   ]
  },
  {
   "source": [
    "plot_features(X_train.columns, ideal_model.feature_importances_);"
   ],
   "cell_type": "code",
   "metadata": {},
   "execution_count": 50,
   "outputs": [
    {
     "output_type": "display_data",
     "data": {
      "text/plain": "<Figure size 720x432 with 1 Axes>",
      "image/svg+xml": "<?xml version=\"1.0\" encoding=\"utf-8\" standalone=\"no\"?>\n<!DOCTYPE svg PUBLIC \"-//W3C//DTD SVG 1.1//EN\"\n  \"http://www.w3.org/Graphics/SVG/1.1/DTD/svg11.dtd\">\n<!-- Created with matplotlib (https://matplotlib.org/) -->\n<svg height=\"386.514375pt\" version=\"1.1\" viewBox=\"0 0 688.209375 386.514375\" width=\"688.209375pt\" xmlns=\"http://www.w3.org/2000/svg\" xmlns:xlink=\"http://www.w3.org/1999/xlink\">\n <metadata>\n  <rdf:RDF xmlns:cc=\"http://creativecommons.org/ns#\" xmlns:dc=\"http://purl.org/dc/elements/1.1/\" xmlns:rdf=\"http://www.w3.org/1999/02/22-rdf-syntax-ns#\">\n   <cc:Work>\n    <dc:type rdf:resource=\"http://purl.org/dc/dcmitype/StillImage\"/>\n    <dc:date>2020-12-30T04:11:27.630900</dc:date>\n    <dc:format>image/svg+xml</dc:format>\n    <dc:creator>\n     <cc:Agent>\n      <dc:title>Matplotlib v3.3.2, https://matplotlib.org/</dc:title>\n     </cc:Agent>\n    </dc:creator>\n   </cc:Work>\n  </rdf:RDF>\n </metadata>\n <defs>\n  <style type=\"text/css\">*{stroke-linecap:butt;stroke-linejoin:round;}</style>\n </defs>\n <g id=\"figure_1\">\n  <g id=\"patch_1\">\n   <path d=\"M 0 386.514375 \nL 688.209375 386.514375 \nL 688.209375 0 \nL 0 0 \nz\n\" style=\"fill:none;\"/>\n  </g>\n  <g id=\"axes_1\">\n   <g id=\"patch_2\">\n    <path d=\"M 123.009375 348.958125 \nL 681.009375 348.958125 \nL 681.009375 22.798125 \nL 123.009375 22.798125 \nz\n\" style=\"fill:#ffffff;\"/>\n   </g>\n   <g id=\"patch_3\">\n    <path clip-path=\"url(#p12e20d6c58)\" d=\"M 123.009375 37.62358 \nL 654.437946 37.62358 \nL 654.437946 49.603745 \nL 123.009375 49.603745 \nz\n\" style=\"fill:#1f77b4;\"/>\n   </g>\n   <g id=\"patch_4\">\n    <path clip-path=\"url(#p12e20d6c58)\" d=\"M 123.009375 52.598786 \nL 554.259097 52.598786 \nL 554.259097 64.578951 \nL 123.009375 64.578951 \nz\n\" style=\"fill:#1f77b4;\"/>\n   </g>\n   <g id=\"patch_5\">\n    <path clip-path=\"url(#p12e20d6c58)\" d=\"M 123.009375 67.573993 \nL 339.385229 67.573993 \nL 339.385229 79.554158 \nL 123.009375 79.554158 \nz\n\" style=\"fill:#1f77b4;\"/>\n   </g>\n   <g id=\"patch_6\">\n    <path clip-path=\"url(#p12e20d6c58)\" d=\"M 123.009375 82.549199 \nL 318.403529 82.549199 \nL 318.403529 94.529365 \nL 123.009375 94.529365 \nz\n\" style=\"fill:#1f77b4;\"/>\n   </g>\n   <g id=\"patch_7\">\n    <path clip-path=\"url(#p12e20d6c58)\" d=\"M 123.009375 97.524406 \nL 296.78427 97.524406 \nL 296.78427 109.504571 \nL 123.009375 109.504571 \nz\n\" style=\"fill:#1f77b4;\"/>\n   </g>\n   <g id=\"patch_8\">\n    <path clip-path=\"url(#p12e20d6c58)\" d=\"M 123.009375 112.499613 \nL 249.18952 112.499613 \nL 249.18952 124.479778 \nL 123.009375 124.479778 \nz\n\" style=\"fill:#1f77b4;\"/>\n   </g>\n   <g id=\"patch_9\">\n    <path clip-path=\"url(#p12e20d6c58)\" d=\"M 123.009375 127.474819 \nL 243.051717 127.474819 \nL 243.051717 139.454985 \nL 123.009375 139.454985 \nz\n\" style=\"fill:#1f77b4;\"/>\n   </g>\n   <g id=\"patch_10\">\n    <path clip-path=\"url(#p12e20d6c58)\" d=\"M 123.009375 142.450026 \nL 238.966787 142.450026 \nL 238.966787 154.430191 \nL 123.009375 154.430191 \nz\n\" style=\"fill:#1f77b4;\"/>\n   </g>\n   <g id=\"patch_11\">\n    <path clip-path=\"url(#p12e20d6c58)\" d=\"M 123.009375 157.425232 \nL 231.106484 157.425232 \nL 231.106484 169.405398 \nL 123.009375 169.405398 \nz\n\" style=\"fill:#1f77b4;\"/>\n   </g>\n   <g id=\"patch_12\">\n    <path clip-path=\"url(#p12e20d6c58)\" d=\"M 123.009375 172.400439 \nL 208.483127 172.400439 \nL 208.483127 184.380604 \nL 123.009375 184.380604 \nz\n\" style=\"fill:#1f77b4;\"/>\n   </g>\n   <g id=\"patch_13\">\n    <path clip-path=\"url(#p12e20d6c58)\" d=\"M 123.009375 187.375646 \nL 203.701553 187.375646 \nL 203.701553 199.355811 \nL 123.009375 199.355811 \nz\n\" style=\"fill:#1f77b4;\"/>\n   </g>\n   <g id=\"patch_14\">\n    <path clip-path=\"url(#p12e20d6c58)\" d=\"M 123.009375 202.350852 \nL 179.606379 202.350852 \nL 179.606379 214.331018 \nL 123.009375 214.331018 \nz\n\" style=\"fill:#1f77b4;\"/>\n   </g>\n   <g id=\"patch_15\">\n    <path clip-path=\"url(#p12e20d6c58)\" d=\"M 123.009375 217.326059 \nL 165.285144 217.326059 \nL 165.285144 229.306224 \nL 123.009375 229.306224 \nz\n\" style=\"fill:#1f77b4;\"/>\n   </g>\n   <g id=\"patch_16\">\n    <path clip-path=\"url(#p12e20d6c58)\" d=\"M 123.009375 232.301265 \nL 164.55022 232.301265 \nL 164.55022 244.281431 \nL 123.009375 244.281431 \nz\n\" style=\"fill:#1f77b4;\"/>\n   </g>\n   <g id=\"patch_17\">\n    <path clip-path=\"url(#p12e20d6c58)\" d=\"M 123.009375 247.276472 \nL 158.624193 247.276472 \nL 158.624193 259.256637 \nL 123.009375 259.256637 \nz\n\" style=\"fill:#1f77b4;\"/>\n   </g>\n   <g id=\"patch_18\">\n    <path clip-path=\"url(#p12e20d6c58)\" d=\"M 123.009375 262.251679 \nL 148.498581 262.251679 \nL 148.498581 274.231844 \nL 123.009375 274.231844 \nz\n\" style=\"fill:#1f77b4;\"/>\n   </g>\n   <g id=\"patch_19\">\n    <path clip-path=\"url(#p12e20d6c58)\" d=\"M 123.009375 277.226885 \nL 144.816627 277.226885 \nL 144.816627 289.207051 \nL 123.009375 289.207051 \nz\n\" style=\"fill:#1f77b4;\"/>\n   </g>\n   <g id=\"patch_20\">\n    <path clip-path=\"url(#p12e20d6c58)\" d=\"M 123.009375 292.202092 \nL 140.675918 292.202092 \nL 140.675918 304.182257 \nL 123.009375 304.182257 \nz\n\" style=\"fill:#1f77b4;\"/>\n   </g>\n   <g id=\"patch_21\">\n    <path clip-path=\"url(#p12e20d6c58)\" d=\"M 123.009375 307.177299 \nL 139.498418 307.177299 \nL 139.498418 319.157464 \nL 123.009375 319.157464 \nz\n\" style=\"fill:#1f77b4;\"/>\n   </g>\n   <g id=\"patch_22\">\n    <path clip-path=\"url(#p12e20d6c58)\" d=\"M 123.009375 322.152505 \nL 139.094866 322.152505 \nL 139.094866 334.13267 \nL 123.009375 334.13267 \nz\n\" style=\"fill:#1f77b4;\"/>\n   </g>\n   <g id=\"matplotlib.axis_1\">\n    <g id=\"xtick_1\">\n     <g id=\"line2d_1\">\n      <defs>\n       <path d=\"M 0 0 \nL 0 3.5 \n\" id=\"mb3f161c9d9\" style=\"stroke:#000000;stroke-width:0.8;\"/>\n      </defs>\n      <g>\n       <use style=\"stroke:#000000;stroke-width:0.8;\" x=\"123.009375\" xlink:href=\"#mb3f161c9d9\" y=\"348.958125\"/>\n      </g>\n     </g>\n     <g id=\"text_1\">\n      <!-- 0.000 -->\n      <g transform=\"translate(108.695312 363.556562)scale(0.1 -0.1)\">\n       <defs>\n        <path d=\"M 31.78125 66.40625 \nQ 24.171875 66.40625 20.328125 58.90625 \nQ 16.5 51.421875 16.5 36.375 \nQ 16.5 21.390625 20.328125 13.890625 \nQ 24.171875 6.390625 31.78125 6.390625 \nQ 39.453125 6.390625 43.28125 13.890625 \nQ 47.125 21.390625 47.125 36.375 \nQ 47.125 51.421875 43.28125 58.90625 \nQ 39.453125 66.40625 31.78125 66.40625 \nz\nM 31.78125 74.21875 \nQ 44.046875 74.21875 50.515625 64.515625 \nQ 56.984375 54.828125 56.984375 36.375 \nQ 56.984375 17.96875 50.515625 8.265625 \nQ 44.046875 -1.421875 31.78125 -1.421875 \nQ 19.53125 -1.421875 13.0625 8.265625 \nQ 6.59375 17.96875 6.59375 36.375 \nQ 6.59375 54.828125 13.0625 64.515625 \nQ 19.53125 74.21875 31.78125 74.21875 \nz\n\" id=\"DejaVuSans-48\"/>\n        <path d=\"M 10.6875 12.40625 \nL 21 12.40625 \nL 21 0 \nL 10.6875 0 \nz\n\" id=\"DejaVuSans-46\"/>\n       </defs>\n       <use xlink:href=\"#DejaVuSans-48\"/>\n       <use x=\"63.623047\" xlink:href=\"#DejaVuSans-46\"/>\n       <use x=\"95.410156\" xlink:href=\"#DejaVuSans-48\"/>\n       <use x=\"159.033203\" xlink:href=\"#DejaVuSans-48\"/>\n       <use x=\"222.65625\" xlink:href=\"#DejaVuSans-48\"/>\n      </g>\n     </g>\n    </g>\n    <g id=\"xtick_2\">\n     <g id=\"line2d_2\">\n      <g>\n       <use style=\"stroke:#000000;stroke-width:0.8;\" x=\"189.393065\" xlink:href=\"#mb3f161c9d9\" y=\"348.958125\"/>\n      </g>\n     </g>\n     <g id=\"text_2\">\n      <!-- 0.025 -->\n      <g transform=\"translate(175.079003 363.556562)scale(0.1 -0.1)\">\n       <defs>\n        <path d=\"M 19.1875 8.296875 \nL 53.609375 8.296875 \nL 53.609375 0 \nL 7.328125 0 \nL 7.328125 8.296875 \nQ 12.9375 14.109375 22.625 23.890625 \nQ 32.328125 33.6875 34.8125 36.53125 \nQ 39.546875 41.84375 41.421875 45.53125 \nQ 43.3125 49.21875 43.3125 52.78125 \nQ 43.3125 58.59375 39.234375 62.25 \nQ 35.15625 65.921875 28.609375 65.921875 \nQ 23.96875 65.921875 18.8125 64.3125 \nQ 13.671875 62.703125 7.8125 59.421875 \nL 7.8125 69.390625 \nQ 13.765625 71.78125 18.9375 73 \nQ 24.125 74.21875 28.421875 74.21875 \nQ 39.75 74.21875 46.484375 68.546875 \nQ 53.21875 62.890625 53.21875 53.421875 \nQ 53.21875 48.921875 51.53125 44.890625 \nQ 49.859375 40.875 45.40625 35.40625 \nQ 44.1875 33.984375 37.640625 27.21875 \nQ 31.109375 20.453125 19.1875 8.296875 \nz\n\" id=\"DejaVuSans-50\"/>\n        <path d=\"M 10.796875 72.90625 \nL 49.515625 72.90625 \nL 49.515625 64.59375 \nL 19.828125 64.59375 \nL 19.828125 46.734375 \nQ 21.96875 47.46875 24.109375 47.828125 \nQ 26.265625 48.1875 28.421875 48.1875 \nQ 40.625 48.1875 47.75 41.5 \nQ 54.890625 34.8125 54.890625 23.390625 \nQ 54.890625 11.625 47.5625 5.09375 \nQ 40.234375 -1.421875 26.90625 -1.421875 \nQ 22.3125 -1.421875 17.546875 -0.640625 \nQ 12.796875 0.140625 7.71875 1.703125 \nL 7.71875 11.625 \nQ 12.109375 9.234375 16.796875 8.0625 \nQ 21.484375 6.890625 26.703125 6.890625 \nQ 35.15625 6.890625 40.078125 11.328125 \nQ 45.015625 15.765625 45.015625 23.390625 \nQ 45.015625 31 40.078125 35.4375 \nQ 35.15625 39.890625 26.703125 39.890625 \nQ 22.75 39.890625 18.8125 39.015625 \nQ 14.890625 38.140625 10.796875 36.28125 \nz\n\" id=\"DejaVuSans-53\"/>\n       </defs>\n       <use xlink:href=\"#DejaVuSans-48\"/>\n       <use x=\"63.623047\" xlink:href=\"#DejaVuSans-46\"/>\n       <use x=\"95.410156\" xlink:href=\"#DejaVuSans-48\"/>\n       <use x=\"159.033203\" xlink:href=\"#DejaVuSans-50\"/>\n       <use x=\"222.65625\" xlink:href=\"#DejaVuSans-53\"/>\n      </g>\n     </g>\n    </g>\n    <g id=\"xtick_3\">\n     <g id=\"line2d_3\">\n      <g>\n       <use style=\"stroke:#000000;stroke-width:0.8;\" x=\"255.776756\" xlink:href=\"#mb3f161c9d9\" y=\"348.958125\"/>\n      </g>\n     </g>\n     <g id=\"text_3\">\n      <!-- 0.050 -->\n      <g transform=\"translate(241.462693 363.556562)scale(0.1 -0.1)\">\n       <use xlink:href=\"#DejaVuSans-48\"/>\n       <use x=\"63.623047\" xlink:href=\"#DejaVuSans-46\"/>\n       <use x=\"95.410156\" xlink:href=\"#DejaVuSans-48\"/>\n       <use x=\"159.033203\" xlink:href=\"#DejaVuSans-53\"/>\n       <use x=\"222.65625\" xlink:href=\"#DejaVuSans-48\"/>\n      </g>\n     </g>\n    </g>\n    <g id=\"xtick_4\">\n     <g id=\"line2d_4\">\n      <g>\n       <use style=\"stroke:#000000;stroke-width:0.8;\" x=\"322.160446\" xlink:href=\"#mb3f161c9d9\" y=\"348.958125\"/>\n      </g>\n     </g>\n     <g id=\"text_4\">\n      <!-- 0.075 -->\n      <g transform=\"translate(307.846384 363.556562)scale(0.1 -0.1)\">\n       <defs>\n        <path d=\"M 8.203125 72.90625 \nL 55.078125 72.90625 \nL 55.078125 68.703125 \nL 28.609375 0 \nL 18.3125 0 \nL 43.21875 64.59375 \nL 8.203125 64.59375 \nz\n\" id=\"DejaVuSans-55\"/>\n       </defs>\n       <use xlink:href=\"#DejaVuSans-48\"/>\n       <use x=\"63.623047\" xlink:href=\"#DejaVuSans-46\"/>\n       <use x=\"95.410156\" xlink:href=\"#DejaVuSans-48\"/>\n       <use x=\"159.033203\" xlink:href=\"#DejaVuSans-55\"/>\n       <use x=\"222.65625\" xlink:href=\"#DejaVuSans-53\"/>\n      </g>\n     </g>\n    </g>\n    <g id=\"xtick_5\">\n     <g id=\"line2d_5\">\n      <g>\n       <use style=\"stroke:#000000;stroke-width:0.8;\" x=\"388.544137\" xlink:href=\"#mb3f161c9d9\" y=\"348.958125\"/>\n      </g>\n     </g>\n     <g id=\"text_5\">\n      <!-- 0.100 -->\n      <g transform=\"translate(374.230074 363.556562)scale(0.1 -0.1)\">\n       <defs>\n        <path d=\"M 12.40625 8.296875 \nL 28.515625 8.296875 \nL 28.515625 63.921875 \nL 10.984375 60.40625 \nL 10.984375 69.390625 \nL 28.421875 72.90625 \nL 38.28125 72.90625 \nL 38.28125 8.296875 \nL 54.390625 8.296875 \nL 54.390625 0 \nL 12.40625 0 \nz\n\" id=\"DejaVuSans-49\"/>\n       </defs>\n       <use xlink:href=\"#DejaVuSans-48\"/>\n       <use x=\"63.623047\" xlink:href=\"#DejaVuSans-46\"/>\n       <use x=\"95.410156\" xlink:href=\"#DejaVuSans-49\"/>\n       <use x=\"159.033203\" xlink:href=\"#DejaVuSans-48\"/>\n       <use x=\"222.65625\" xlink:href=\"#DejaVuSans-48\"/>\n      </g>\n     </g>\n    </g>\n    <g id=\"xtick_6\">\n     <g id=\"line2d_6\">\n      <g>\n       <use style=\"stroke:#000000;stroke-width:0.8;\" x=\"454.927827\" xlink:href=\"#mb3f161c9d9\" y=\"348.958125\"/>\n      </g>\n     </g>\n     <g id=\"text_6\">\n      <!-- 0.125 -->\n      <g transform=\"translate(440.613765 363.556562)scale(0.1 -0.1)\">\n       <use xlink:href=\"#DejaVuSans-48\"/>\n       <use x=\"63.623047\" xlink:href=\"#DejaVuSans-46\"/>\n       <use x=\"95.410156\" xlink:href=\"#DejaVuSans-49\"/>\n       <use x=\"159.033203\" xlink:href=\"#DejaVuSans-50\"/>\n       <use x=\"222.65625\" xlink:href=\"#DejaVuSans-53\"/>\n      </g>\n     </g>\n    </g>\n    <g id=\"xtick_7\">\n     <g id=\"line2d_7\">\n      <g>\n       <use style=\"stroke:#000000;stroke-width:0.8;\" x=\"521.311518\" xlink:href=\"#mb3f161c9d9\" y=\"348.958125\"/>\n      </g>\n     </g>\n     <g id=\"text_7\">\n      <!-- 0.150 -->\n      <g transform=\"translate(506.997455 363.556562)scale(0.1 -0.1)\">\n       <use xlink:href=\"#DejaVuSans-48\"/>\n       <use x=\"63.623047\" xlink:href=\"#DejaVuSans-46\"/>\n       <use x=\"95.410156\" xlink:href=\"#DejaVuSans-49\"/>\n       <use x=\"159.033203\" xlink:href=\"#DejaVuSans-53\"/>\n       <use x=\"222.65625\" xlink:href=\"#DejaVuSans-48\"/>\n      </g>\n     </g>\n    </g>\n    <g id=\"xtick_8\">\n     <g id=\"line2d_8\">\n      <g>\n       <use style=\"stroke:#000000;stroke-width:0.8;\" x=\"587.695208\" xlink:href=\"#mb3f161c9d9\" y=\"348.958125\"/>\n      </g>\n     </g>\n     <g id=\"text_8\">\n      <!-- 0.175 -->\n      <g transform=\"translate(573.381145 363.556562)scale(0.1 -0.1)\">\n       <use xlink:href=\"#DejaVuSans-48\"/>\n       <use x=\"63.623047\" xlink:href=\"#DejaVuSans-46\"/>\n       <use x=\"95.410156\" xlink:href=\"#DejaVuSans-49\"/>\n       <use x=\"159.033203\" xlink:href=\"#DejaVuSans-55\"/>\n       <use x=\"222.65625\" xlink:href=\"#DejaVuSans-53\"/>\n      </g>\n     </g>\n    </g>\n    <g id=\"xtick_9\">\n     <g id=\"line2d_9\">\n      <g>\n       <use style=\"stroke:#000000;stroke-width:0.8;\" x=\"654.078898\" xlink:href=\"#mb3f161c9d9\" y=\"348.958125\"/>\n      </g>\n     </g>\n     <g id=\"text_9\">\n      <!-- 0.200 -->\n      <g transform=\"translate(639.764836 363.556562)scale(0.1 -0.1)\">\n       <use xlink:href=\"#DejaVuSans-48\"/>\n       <use x=\"63.623047\" xlink:href=\"#DejaVuSans-46\"/>\n       <use x=\"95.410156\" xlink:href=\"#DejaVuSans-50\"/>\n       <use x=\"159.033203\" xlink:href=\"#DejaVuSans-48\"/>\n       <use x=\"222.65625\" xlink:href=\"#DejaVuSans-48\"/>\n      </g>\n     </g>\n    </g>\n    <g id=\"text_10\">\n     <!-- Relevância do atributo -->\n     <g transform=\"translate(345.580469 377.234687)scale(0.1 -0.1)\">\n      <defs>\n       <path d=\"M 44.390625 34.1875 \nQ 47.5625 33.109375 50.5625 29.59375 \nQ 53.5625 26.078125 56.59375 19.921875 \nL 66.609375 0 \nL 56 0 \nL 46.6875 18.703125 \nQ 43.0625 26.03125 39.671875 28.421875 \nQ 36.28125 30.8125 30.421875 30.8125 \nL 19.671875 30.8125 \nL 19.671875 0 \nL 9.8125 0 \nL 9.8125 72.90625 \nL 32.078125 72.90625 \nQ 44.578125 72.90625 50.734375 67.671875 \nQ 56.890625 62.453125 56.890625 51.90625 \nQ 56.890625 45.015625 53.6875 40.46875 \nQ 50.484375 35.9375 44.390625 34.1875 \nz\nM 19.671875 64.796875 \nL 19.671875 38.921875 \nL 32.078125 38.921875 \nQ 39.203125 38.921875 42.84375 42.21875 \nQ 46.484375 45.515625 46.484375 51.90625 \nQ 46.484375 58.296875 42.84375 61.546875 \nQ 39.203125 64.796875 32.078125 64.796875 \nz\n\" id=\"DejaVuSans-82\"/>\n       <path d=\"M 56.203125 29.59375 \nL 56.203125 25.203125 \nL 14.890625 25.203125 \nQ 15.484375 15.921875 20.484375 11.0625 \nQ 25.484375 6.203125 34.421875 6.203125 \nQ 39.59375 6.203125 44.453125 7.46875 \nQ 49.3125 8.734375 54.109375 11.28125 \nL 54.109375 2.78125 \nQ 49.265625 0.734375 44.1875 -0.34375 \nQ 39.109375 -1.421875 33.890625 -1.421875 \nQ 20.796875 -1.421875 13.15625 6.1875 \nQ 5.515625 13.8125 5.515625 26.8125 \nQ 5.515625 40.234375 12.765625 48.109375 \nQ 20.015625 56 32.328125 56 \nQ 43.359375 56 49.78125 48.890625 \nQ 56.203125 41.796875 56.203125 29.59375 \nz\nM 47.21875 32.234375 \nQ 47.125 39.59375 43.09375 43.984375 \nQ 39.0625 48.390625 32.421875 48.390625 \nQ 24.90625 48.390625 20.390625 44.140625 \nQ 15.875 39.890625 15.1875 32.171875 \nz\n\" id=\"DejaVuSans-101\"/>\n       <path d=\"M 9.421875 75.984375 \nL 18.40625 75.984375 \nL 18.40625 0 \nL 9.421875 0 \nz\n\" id=\"DejaVuSans-108\"/>\n       <path d=\"M 2.984375 54.6875 \nL 12.5 54.6875 \nL 29.59375 8.796875 \nL 46.6875 54.6875 \nL 56.203125 54.6875 \nL 35.6875 0 \nL 23.484375 0 \nz\n\" id=\"DejaVuSans-118\"/>\n       <path d=\"M 34.28125 27.484375 \nQ 23.390625 27.484375 19.1875 25 \nQ 14.984375 22.515625 14.984375 16.5 \nQ 14.984375 11.71875 18.140625 8.90625 \nQ 21.296875 6.109375 26.703125 6.109375 \nQ 34.1875 6.109375 38.703125 11.40625 \nQ 43.21875 16.703125 43.21875 25.484375 \nL 43.21875 27.484375 \nz\nM 52.203125 31.203125 \nL 52.203125 0 \nL 43.21875 0 \nL 43.21875 8.296875 \nQ 40.140625 3.328125 35.546875 0.953125 \nQ 30.953125 -1.421875 24.3125 -1.421875 \nQ 15.921875 -1.421875 10.953125 3.296875 \nQ 6 8.015625 6 15.921875 \nQ 6 25.140625 12.171875 29.828125 \nQ 18.359375 34.515625 30.609375 34.515625 \nL 43.21875 34.515625 \nL 43.21875 35.40625 \nQ 43.21875 41.609375 39.140625 45 \nQ 35.0625 48.390625 27.6875 48.390625 \nQ 23 48.390625 18.546875 47.265625 \nQ 14.109375 46.140625 10.015625 43.890625 \nL 10.015625 52.203125 \nQ 14.9375 54.109375 19.578125 55.046875 \nQ 24.21875 56 28.609375 56 \nQ 40.484375 56 46.34375 49.84375 \nQ 52.203125 43.703125 52.203125 31.203125 \nz\nM 25.390625 79.984375 \nL 32.625 79.984375 \nL 44.578125 61.625 \nL 37.796875 61.625 \nL 29 73.578125 \nL 20.21875 61.625 \nL 13.421875 61.625 \nz\n\" id=\"DejaVuSans-226\"/>\n       <path d=\"M 54.890625 33.015625 \nL 54.890625 0 \nL 45.90625 0 \nL 45.90625 32.71875 \nQ 45.90625 40.484375 42.875 44.328125 \nQ 39.84375 48.1875 33.796875 48.1875 \nQ 26.515625 48.1875 22.3125 43.546875 \nQ 18.109375 38.921875 18.109375 30.90625 \nL 18.109375 0 \nL 9.078125 0 \nL 9.078125 54.6875 \nL 18.109375 54.6875 \nL 18.109375 46.1875 \nQ 21.34375 51.125 25.703125 53.5625 \nQ 30.078125 56 35.796875 56 \nQ 45.21875 56 50.046875 50.171875 \nQ 54.890625 44.34375 54.890625 33.015625 \nz\n\" id=\"DejaVuSans-110\"/>\n       <path d=\"M 48.78125 52.59375 \nL 48.78125 44.1875 \nQ 44.96875 46.296875 41.140625 47.34375 \nQ 37.3125 48.390625 33.40625 48.390625 \nQ 24.65625 48.390625 19.8125 42.84375 \nQ 14.984375 37.3125 14.984375 27.296875 \nQ 14.984375 17.28125 19.8125 11.734375 \nQ 24.65625 6.203125 33.40625 6.203125 \nQ 37.3125 6.203125 41.140625 7.25 \nQ 44.96875 8.296875 48.78125 10.40625 \nL 48.78125 2.09375 \nQ 45.015625 0.34375 40.984375 -0.53125 \nQ 36.96875 -1.421875 32.421875 -1.421875 \nQ 20.0625 -1.421875 12.78125 6.34375 \nQ 5.515625 14.109375 5.515625 27.296875 \nQ 5.515625 40.671875 12.859375 48.328125 \nQ 20.21875 56 33.015625 56 \nQ 37.15625 56 41.109375 55.140625 \nQ 45.0625 54.296875 48.78125 52.59375 \nz\n\" id=\"DejaVuSans-99\"/>\n       <path d=\"M 9.421875 54.6875 \nL 18.40625 54.6875 \nL 18.40625 0 \nL 9.421875 0 \nz\nM 9.421875 75.984375 \nL 18.40625 75.984375 \nL 18.40625 64.59375 \nL 9.421875 64.59375 \nz\n\" id=\"DejaVuSans-105\"/>\n       <path d=\"M 34.28125 27.484375 \nQ 23.390625 27.484375 19.1875 25 \nQ 14.984375 22.515625 14.984375 16.5 \nQ 14.984375 11.71875 18.140625 8.90625 \nQ 21.296875 6.109375 26.703125 6.109375 \nQ 34.1875 6.109375 38.703125 11.40625 \nQ 43.21875 16.703125 43.21875 25.484375 \nL 43.21875 27.484375 \nz\nM 52.203125 31.203125 \nL 52.203125 0 \nL 43.21875 0 \nL 43.21875 8.296875 \nQ 40.140625 3.328125 35.546875 0.953125 \nQ 30.953125 -1.421875 24.3125 -1.421875 \nQ 15.921875 -1.421875 10.953125 3.296875 \nQ 6 8.015625 6 15.921875 \nQ 6 25.140625 12.171875 29.828125 \nQ 18.359375 34.515625 30.609375 34.515625 \nL 43.21875 34.515625 \nL 43.21875 35.40625 \nQ 43.21875 41.609375 39.140625 45 \nQ 35.0625 48.390625 27.6875 48.390625 \nQ 23 48.390625 18.546875 47.265625 \nQ 14.109375 46.140625 10.015625 43.890625 \nL 10.015625 52.203125 \nQ 14.9375 54.109375 19.578125 55.046875 \nQ 24.21875 56 28.609375 56 \nQ 40.484375 56 46.34375 49.84375 \nQ 52.203125 43.703125 52.203125 31.203125 \nz\n\" id=\"DejaVuSans-97\"/>\n       <path id=\"DejaVuSans-32\"/>\n       <path d=\"M 45.40625 46.390625 \nL 45.40625 75.984375 \nL 54.390625 75.984375 \nL 54.390625 0 \nL 45.40625 0 \nL 45.40625 8.203125 \nQ 42.578125 3.328125 38.25 0.953125 \nQ 33.9375 -1.421875 27.875 -1.421875 \nQ 17.96875 -1.421875 11.734375 6.484375 \nQ 5.515625 14.40625 5.515625 27.296875 \nQ 5.515625 40.1875 11.734375 48.09375 \nQ 17.96875 56 27.875 56 \nQ 33.9375 56 38.25 53.625 \nQ 42.578125 51.265625 45.40625 46.390625 \nz\nM 14.796875 27.296875 \nQ 14.796875 17.390625 18.875 11.75 \nQ 22.953125 6.109375 30.078125 6.109375 \nQ 37.203125 6.109375 41.296875 11.75 \nQ 45.40625 17.390625 45.40625 27.296875 \nQ 45.40625 37.203125 41.296875 42.84375 \nQ 37.203125 48.484375 30.078125 48.484375 \nQ 22.953125 48.484375 18.875 42.84375 \nQ 14.796875 37.203125 14.796875 27.296875 \nz\n\" id=\"DejaVuSans-100\"/>\n       <path d=\"M 30.609375 48.390625 \nQ 23.390625 48.390625 19.1875 42.75 \nQ 14.984375 37.109375 14.984375 27.296875 \nQ 14.984375 17.484375 19.15625 11.84375 \nQ 23.34375 6.203125 30.609375 6.203125 \nQ 37.796875 6.203125 41.984375 11.859375 \nQ 46.1875 17.53125 46.1875 27.296875 \nQ 46.1875 37.015625 41.984375 42.703125 \nQ 37.796875 48.390625 30.609375 48.390625 \nz\nM 30.609375 56 \nQ 42.328125 56 49.015625 48.375 \nQ 55.71875 40.765625 55.71875 27.296875 \nQ 55.71875 13.875 49.015625 6.21875 \nQ 42.328125 -1.421875 30.609375 -1.421875 \nQ 18.84375 -1.421875 12.171875 6.21875 \nQ 5.515625 13.875 5.515625 27.296875 \nQ 5.515625 40.765625 12.171875 48.375 \nQ 18.84375 56 30.609375 56 \nz\n\" id=\"DejaVuSans-111\"/>\n       <path d=\"M 18.3125 70.21875 \nL 18.3125 54.6875 \nL 36.8125 54.6875 \nL 36.8125 47.703125 \nL 18.3125 47.703125 \nL 18.3125 18.015625 \nQ 18.3125 11.328125 20.140625 9.421875 \nQ 21.96875 7.515625 27.59375 7.515625 \nL 36.8125 7.515625 \nL 36.8125 0 \nL 27.59375 0 \nQ 17.1875 0 13.234375 3.875 \nQ 9.28125 7.765625 9.28125 18.015625 \nL 9.28125 47.703125 \nL 2.6875 47.703125 \nL 2.6875 54.6875 \nL 9.28125 54.6875 \nL 9.28125 70.21875 \nz\n\" id=\"DejaVuSans-116\"/>\n       <path d=\"M 41.109375 46.296875 \nQ 39.59375 47.171875 37.8125 47.578125 \nQ 36.03125 48 33.890625 48 \nQ 26.265625 48 22.1875 43.046875 \nQ 18.109375 38.09375 18.109375 28.8125 \nL 18.109375 0 \nL 9.078125 0 \nL 9.078125 54.6875 \nL 18.109375 54.6875 \nL 18.109375 46.1875 \nQ 20.953125 51.171875 25.484375 53.578125 \nQ 30.03125 56 36.53125 56 \nQ 37.453125 56 38.578125 55.875 \nQ 39.703125 55.765625 41.0625 55.515625 \nz\n\" id=\"DejaVuSans-114\"/>\n       <path d=\"M 48.6875 27.296875 \nQ 48.6875 37.203125 44.609375 42.84375 \nQ 40.53125 48.484375 33.40625 48.484375 \nQ 26.265625 48.484375 22.1875 42.84375 \nQ 18.109375 37.203125 18.109375 27.296875 \nQ 18.109375 17.390625 22.1875 11.75 \nQ 26.265625 6.109375 33.40625 6.109375 \nQ 40.53125 6.109375 44.609375 11.75 \nQ 48.6875 17.390625 48.6875 27.296875 \nz\nM 18.109375 46.390625 \nQ 20.953125 51.265625 25.265625 53.625 \nQ 29.59375 56 35.59375 56 \nQ 45.5625 56 51.78125 48.09375 \nQ 58.015625 40.1875 58.015625 27.296875 \nQ 58.015625 14.40625 51.78125 6.484375 \nQ 45.5625 -1.421875 35.59375 -1.421875 \nQ 29.59375 -1.421875 25.265625 0.953125 \nQ 20.953125 3.328125 18.109375 8.203125 \nL 18.109375 0 \nL 9.078125 0 \nL 9.078125 75.984375 \nL 18.109375 75.984375 \nz\n\" id=\"DejaVuSans-98\"/>\n       <path d=\"M 8.5 21.578125 \nL 8.5 54.6875 \nL 17.484375 54.6875 \nL 17.484375 21.921875 \nQ 17.484375 14.15625 20.5 10.265625 \nQ 23.53125 6.390625 29.59375 6.390625 \nQ 36.859375 6.390625 41.078125 11.03125 \nQ 45.3125 15.671875 45.3125 23.6875 \nL 45.3125 54.6875 \nL 54.296875 54.6875 \nL 54.296875 0 \nL 45.3125 0 \nL 45.3125 8.40625 \nQ 42.046875 3.421875 37.71875 1 \nQ 33.40625 -1.421875 27.6875 -1.421875 \nQ 18.265625 -1.421875 13.375 4.4375 \nQ 8.5 10.296875 8.5 21.578125 \nz\nM 31.109375 56 \nz\n\" id=\"DejaVuSans-117\"/>\n      </defs>\n      <use xlink:href=\"#DejaVuSans-82\"/>\n      <use x=\"64.982422\" xlink:href=\"#DejaVuSans-101\"/>\n      <use x=\"126.505859\" xlink:href=\"#DejaVuSans-108\"/>\n      <use x=\"154.289062\" xlink:href=\"#DejaVuSans-101\"/>\n      <use x=\"215.8125\" xlink:href=\"#DejaVuSans-118\"/>\n      <use x=\"274.992188\" xlink:href=\"#DejaVuSans-226\"/>\n      <use x=\"336.271484\" xlink:href=\"#DejaVuSans-110\"/>\n      <use x=\"399.650391\" xlink:href=\"#DejaVuSans-99\"/>\n      <use x=\"454.630859\" xlink:href=\"#DejaVuSans-105\"/>\n      <use x=\"482.414062\" xlink:href=\"#DejaVuSans-97\"/>\n      <use x=\"543.693359\" xlink:href=\"#DejaVuSans-32\"/>\n      <use x=\"575.480469\" xlink:href=\"#DejaVuSans-100\"/>\n      <use x=\"638.957031\" xlink:href=\"#DejaVuSans-111\"/>\n      <use x=\"700.138672\" xlink:href=\"#DejaVuSans-32\"/>\n      <use x=\"731.925781\" xlink:href=\"#DejaVuSans-97\"/>\n      <use x=\"793.205078\" xlink:href=\"#DejaVuSans-116\"/>\n      <use x=\"832.414062\" xlink:href=\"#DejaVuSans-114\"/>\n      <use x=\"873.527344\" xlink:href=\"#DejaVuSans-105\"/>\n      <use x=\"901.310547\" xlink:href=\"#DejaVuSans-98\"/>\n      <use x=\"964.787109\" xlink:href=\"#DejaVuSans-117\"/>\n      <use x=\"1028.166016\" xlink:href=\"#DejaVuSans-116\"/>\n      <use x=\"1067.375\" xlink:href=\"#DejaVuSans-111\"/>\n     </g>\n    </g>\n   </g>\n   <g id=\"matplotlib.axis_2\">\n    <g id=\"ytick_1\">\n     <g id=\"line2d_10\">\n      <defs>\n       <path d=\"M 0 0 \nL -3.5 0 \n\" id=\"m015252879d\" style=\"stroke:#000000;stroke-width:0.8;\"/>\n      </defs>\n      <g>\n       <use style=\"stroke:#000000;stroke-width:0.8;\" x=\"123.009375\" xlink:href=\"#m015252879d\" y=\"43.613662\"/>\n      </g>\n     </g>\n     <g id=\"text_11\">\n      <!-- YearMade -->\n      <g transform=\"translate(67.576562 47.412881)scale(0.1 -0.1)\">\n       <defs>\n        <path d=\"M -0.203125 72.90625 \nL 10.40625 72.90625 \nL 30.609375 42.921875 \nL 50.6875 72.90625 \nL 61.28125 72.90625 \nL 35.5 34.71875 \nL 35.5 0 \nL 25.59375 0 \nL 25.59375 34.71875 \nz\n\" id=\"DejaVuSans-89\"/>\n        <path d=\"M 9.8125 72.90625 \nL 24.515625 72.90625 \nL 43.109375 23.296875 \nL 61.8125 72.90625 \nL 76.515625 72.90625 \nL 76.515625 0 \nL 66.890625 0 \nL 66.890625 64.015625 \nL 48.09375 14.015625 \nL 38.1875 14.015625 \nL 19.390625 64.015625 \nL 19.390625 0 \nL 9.8125 0 \nz\n\" id=\"DejaVuSans-77\"/>\n       </defs>\n       <use xlink:href=\"#DejaVuSans-89\"/>\n       <use x=\"47.833984\" xlink:href=\"#DejaVuSans-101\"/>\n       <use x=\"109.357422\" xlink:href=\"#DejaVuSans-97\"/>\n       <use x=\"170.636719\" xlink:href=\"#DejaVuSans-114\"/>\n       <use x=\"211.75\" xlink:href=\"#DejaVuSans-77\"/>\n       <use x=\"298.029297\" xlink:href=\"#DejaVuSans-97\"/>\n       <use x=\"359.308594\" xlink:href=\"#DejaVuSans-100\"/>\n       <use x=\"422.785156\" xlink:href=\"#DejaVuSans-101\"/>\n      </g>\n     </g>\n    </g>\n    <g id=\"ytick_2\">\n     <g id=\"line2d_11\">\n      <g>\n       <use style=\"stroke:#000000;stroke-width:0.8;\" x=\"123.009375\" xlink:href=\"#m015252879d\" y=\"58.588869\"/>\n      </g>\n     </g>\n     <g id=\"text_12\">\n      <!-- ProductSize -->\n      <g transform=\"translate(57.517188 62.388088)scale(0.1 -0.1)\">\n       <defs>\n        <path d=\"M 19.671875 64.796875 \nL 19.671875 37.40625 \nL 32.078125 37.40625 \nQ 38.96875 37.40625 42.71875 40.96875 \nQ 46.484375 44.53125 46.484375 51.125 \nQ 46.484375 57.671875 42.71875 61.234375 \nQ 38.96875 64.796875 32.078125 64.796875 \nz\nM 9.8125 72.90625 \nL 32.078125 72.90625 \nQ 44.34375 72.90625 50.609375 67.359375 \nQ 56.890625 61.8125 56.890625 51.125 \nQ 56.890625 40.328125 50.609375 34.8125 \nQ 44.34375 29.296875 32.078125 29.296875 \nL 19.671875 29.296875 \nL 19.671875 0 \nL 9.8125 0 \nz\n\" id=\"DejaVuSans-80\"/>\n        <path d=\"M 53.515625 70.515625 \nL 53.515625 60.890625 \nQ 47.90625 63.578125 42.921875 64.890625 \nQ 37.9375 66.21875 33.296875 66.21875 \nQ 25.25 66.21875 20.875 63.09375 \nQ 16.5 59.96875 16.5 54.203125 \nQ 16.5 49.359375 19.40625 46.890625 \nQ 22.3125 44.4375 30.421875 42.921875 \nL 36.375 41.703125 \nQ 47.40625 39.59375 52.65625 34.296875 \nQ 57.90625 29 57.90625 20.125 \nQ 57.90625 9.515625 50.796875 4.046875 \nQ 43.703125 -1.421875 29.984375 -1.421875 \nQ 24.8125 -1.421875 18.96875 -0.25 \nQ 13.140625 0.921875 6.890625 3.21875 \nL 6.890625 13.375 \nQ 12.890625 10.015625 18.65625 8.296875 \nQ 24.421875 6.59375 29.984375 6.59375 \nQ 38.421875 6.59375 43.015625 9.90625 \nQ 47.609375 13.234375 47.609375 19.390625 \nQ 47.609375 24.75 44.3125 27.78125 \nQ 41.015625 30.8125 33.5 32.328125 \nL 27.484375 33.5 \nQ 16.453125 35.6875 11.515625 40.375 \nQ 6.59375 45.0625 6.59375 53.421875 \nQ 6.59375 63.09375 13.40625 68.65625 \nQ 20.21875 74.21875 32.171875 74.21875 \nQ 37.3125 74.21875 42.625 73.28125 \nQ 47.953125 72.359375 53.515625 70.515625 \nz\n\" id=\"DejaVuSans-83\"/>\n        <path d=\"M 5.515625 54.6875 \nL 48.1875 54.6875 \nL 48.1875 46.484375 \nL 14.40625 7.171875 \nL 48.1875 7.171875 \nL 48.1875 0 \nL 4.296875 0 \nL 4.296875 8.203125 \nL 38.09375 47.515625 \nL 5.515625 47.515625 \nz\n\" id=\"DejaVuSans-122\"/>\n       </defs>\n       <use xlink:href=\"#DejaVuSans-80\"/>\n       <use x=\"58.552734\" xlink:href=\"#DejaVuSans-114\"/>\n       <use x=\"97.416016\" xlink:href=\"#DejaVuSans-111\"/>\n       <use x=\"158.597656\" xlink:href=\"#DejaVuSans-100\"/>\n       <use x=\"222.074219\" xlink:href=\"#DejaVuSans-117\"/>\n       <use x=\"285.453125\" xlink:href=\"#DejaVuSans-99\"/>\n       <use x=\"340.433594\" xlink:href=\"#DejaVuSans-116\"/>\n       <use x=\"379.642578\" xlink:href=\"#DejaVuSans-83\"/>\n       <use x=\"443.119141\" xlink:href=\"#DejaVuSans-105\"/>\n       <use x=\"470.902344\" xlink:href=\"#DejaVuSans-122\"/>\n       <use x=\"523.392578\" xlink:href=\"#DejaVuSans-101\"/>\n      </g>\n     </g>\n    </g>\n    <g id=\"ytick_3\">\n     <g id=\"line2d_12\">\n      <g>\n       <use style=\"stroke:#000000;stroke-width:0.8;\" x=\"123.009375\" xlink:href=\"#m015252879d\" y=\"73.564075\"/>\n      </g>\n     </g>\n     <g id=\"text_13\">\n      <!-- Enclosure -->\n      <g transform=\"translate(67.371875 77.363294)scale(0.1 -0.1)\">\n       <defs>\n        <path d=\"M 9.8125 72.90625 \nL 55.90625 72.90625 \nL 55.90625 64.59375 \nL 19.671875 64.59375 \nL 19.671875 43.015625 \nL 54.390625 43.015625 \nL 54.390625 34.71875 \nL 19.671875 34.71875 \nL 19.671875 8.296875 \nL 56.78125 8.296875 \nL 56.78125 0 \nL 9.8125 0 \nz\n\" id=\"DejaVuSans-69\"/>\n        <path d=\"M 44.28125 53.078125 \nL 44.28125 44.578125 \nQ 40.484375 46.53125 36.375 47.5 \nQ 32.28125 48.484375 27.875 48.484375 \nQ 21.1875 48.484375 17.84375 46.4375 \nQ 14.5 44.390625 14.5 40.28125 \nQ 14.5 37.15625 16.890625 35.375 \nQ 19.28125 33.59375 26.515625 31.984375 \nL 29.59375 31.296875 \nQ 39.15625 29.25 43.1875 25.515625 \nQ 47.21875 21.78125 47.21875 15.09375 \nQ 47.21875 7.46875 41.1875 3.015625 \nQ 35.15625 -1.421875 24.609375 -1.421875 \nQ 20.21875 -1.421875 15.453125 -0.5625 \nQ 10.6875 0.296875 5.421875 2 \nL 5.421875 11.28125 \nQ 10.40625 8.6875 15.234375 7.390625 \nQ 20.0625 6.109375 24.8125 6.109375 \nQ 31.15625 6.109375 34.5625 8.28125 \nQ 37.984375 10.453125 37.984375 14.40625 \nQ 37.984375 18.0625 35.515625 20.015625 \nQ 33.0625 21.96875 24.703125 23.78125 \nL 21.578125 24.515625 \nQ 13.234375 26.265625 9.515625 29.90625 \nQ 5.8125 33.546875 5.8125 39.890625 \nQ 5.8125 47.609375 11.28125 51.796875 \nQ 16.75 56 26.8125 56 \nQ 31.78125 56 36.171875 55.265625 \nQ 40.578125 54.546875 44.28125 53.078125 \nz\n\" id=\"DejaVuSans-115\"/>\n       </defs>\n       <use xlink:href=\"#DejaVuSans-69\"/>\n       <use x=\"63.183594\" xlink:href=\"#DejaVuSans-110\"/>\n       <use x=\"126.5625\" xlink:href=\"#DejaVuSans-99\"/>\n       <use x=\"181.542969\" xlink:href=\"#DejaVuSans-108\"/>\n       <use x=\"209.326172\" xlink:href=\"#DejaVuSans-111\"/>\n       <use x=\"270.507812\" xlink:href=\"#DejaVuSans-115\"/>\n       <use x=\"322.607422\" xlink:href=\"#DejaVuSans-117\"/>\n       <use x=\"385.986328\" xlink:href=\"#DejaVuSans-114\"/>\n       <use x=\"424.849609\" xlink:href=\"#DejaVuSans-101\"/>\n      </g>\n     </g>\n    </g>\n    <g id=\"ytick_4\">\n     <g id=\"line2d_13\">\n      <g>\n       <use style=\"stroke:#000000;stroke-width:0.8;\" x=\"123.009375\" xlink:href=\"#m015252879d\" y=\"88.539282\"/>\n      </g>\n     </g>\n     <g id=\"text_14\">\n      <!-- saleYear -->\n      <g transform=\"translate(74.565625 92.338501)scale(0.1 -0.1)\">\n       <use xlink:href=\"#DejaVuSans-115\"/>\n       <use x=\"52.099609\" xlink:href=\"#DejaVuSans-97\"/>\n       <use x=\"113.378906\" xlink:href=\"#DejaVuSans-108\"/>\n       <use x=\"141.162109\" xlink:href=\"#DejaVuSans-101\"/>\n       <use x=\"202.685547\" xlink:href=\"#DejaVuSans-89\"/>\n       <use x=\"250.519531\" xlink:href=\"#DejaVuSans-101\"/>\n       <use x=\"312.042969\" xlink:href=\"#DejaVuSans-97\"/>\n       <use x=\"373.322266\" xlink:href=\"#DejaVuSans-114\"/>\n      </g>\n     </g>\n    </g>\n    <g id=\"ytick_5\">\n     <g id=\"line2d_14\">\n      <g>\n       <use style=\"stroke:#000000;stroke-width:0.8;\" x=\"123.009375\" xlink:href=\"#m015252879d\" y=\"103.514489\"/>\n      </g>\n     </g>\n     <g id=\"text_15\">\n      <!-- fiSecondaryDesc -->\n      <g transform=\"translate(32.1875 107.313707)scale(0.1 -0.1)\">\n       <defs>\n        <path d=\"M 37.109375 75.984375 \nL 37.109375 68.5 \nL 28.515625 68.5 \nQ 23.6875 68.5 21.796875 66.546875 \nQ 19.921875 64.59375 19.921875 59.515625 \nL 19.921875 54.6875 \nL 34.71875 54.6875 \nL 34.71875 47.703125 \nL 19.921875 47.703125 \nL 19.921875 0 \nL 10.890625 0 \nL 10.890625 47.703125 \nL 2.296875 47.703125 \nL 2.296875 54.6875 \nL 10.890625 54.6875 \nL 10.890625 58.5 \nQ 10.890625 67.625 15.140625 71.796875 \nQ 19.390625 75.984375 28.609375 75.984375 \nz\n\" id=\"DejaVuSans-102\"/>\n        <path d=\"M 32.171875 -5.078125 \nQ 28.375 -14.84375 24.75 -17.8125 \nQ 21.140625 -20.796875 15.09375 -20.796875 \nL 7.90625 -20.796875 \nL 7.90625 -13.28125 \nL 13.1875 -13.28125 \nQ 16.890625 -13.28125 18.9375 -11.515625 \nQ 21 -9.765625 23.484375 -3.21875 \nL 25.09375 0.875 \nL 2.984375 54.6875 \nL 12.5 54.6875 \nL 29.59375 11.921875 \nL 46.6875 54.6875 \nL 56.203125 54.6875 \nz\n\" id=\"DejaVuSans-121\"/>\n        <path d=\"M 19.671875 64.796875 \nL 19.671875 8.109375 \nL 31.59375 8.109375 \nQ 46.6875 8.109375 53.6875 14.9375 \nQ 60.6875 21.78125 60.6875 36.53125 \nQ 60.6875 51.171875 53.6875 57.984375 \nQ 46.6875 64.796875 31.59375 64.796875 \nz\nM 9.8125 72.90625 \nL 30.078125 72.90625 \nQ 51.265625 72.90625 61.171875 64.09375 \nQ 71.09375 55.28125 71.09375 36.53125 \nQ 71.09375 17.671875 61.125 8.828125 \nQ 51.171875 0 30.078125 0 \nL 9.8125 0 \nz\n\" id=\"DejaVuSans-68\"/>\n       </defs>\n       <use xlink:href=\"#DejaVuSans-102\"/>\n       <use x=\"35.205078\" xlink:href=\"#DejaVuSans-105\"/>\n       <use x=\"62.988281\" xlink:href=\"#DejaVuSans-83\"/>\n       <use x=\"126.464844\" xlink:href=\"#DejaVuSans-101\"/>\n       <use x=\"187.988281\" xlink:href=\"#DejaVuSans-99\"/>\n       <use x=\"242.96875\" xlink:href=\"#DejaVuSans-111\"/>\n       <use x=\"304.150391\" xlink:href=\"#DejaVuSans-110\"/>\n       <use x=\"367.529297\" xlink:href=\"#DejaVuSans-100\"/>\n       <use x=\"431.005859\" xlink:href=\"#DejaVuSans-97\"/>\n       <use x=\"492.285156\" xlink:href=\"#DejaVuSans-114\"/>\n       <use x=\"533.398438\" xlink:href=\"#DejaVuSans-121\"/>\n       <use x=\"592.578125\" xlink:href=\"#DejaVuSans-68\"/>\n       <use x=\"669.580078\" xlink:href=\"#DejaVuSans-101\"/>\n       <use x=\"731.103516\" xlink:href=\"#DejaVuSans-115\"/>\n       <use x=\"783.203125\" xlink:href=\"#DejaVuSans-99\"/>\n      </g>\n     </g>\n    </g>\n    <g id=\"ytick_6\">\n     <g id=\"line2d_15\">\n      <g>\n       <use style=\"stroke:#000000;stroke-width:0.8;\" x=\"123.009375\" xlink:href=\"#m015252879d\" y=\"118.489695\"/>\n      </g>\n     </g>\n     <g id=\"text_16\">\n      <!-- fiBaseModel -->\n      <g transform=\"translate(55.332813 122.288914)scale(0.1 -0.1)\">\n       <defs>\n        <path d=\"M 19.671875 34.8125 \nL 19.671875 8.109375 \nL 35.5 8.109375 \nQ 43.453125 8.109375 47.28125 11.40625 \nQ 51.125 14.703125 51.125 21.484375 \nQ 51.125 28.328125 47.28125 31.5625 \nQ 43.453125 34.8125 35.5 34.8125 \nz\nM 19.671875 64.796875 \nL 19.671875 42.828125 \nL 34.28125 42.828125 \nQ 41.5 42.828125 45.03125 45.53125 \nQ 48.578125 48.25 48.578125 53.8125 \nQ 48.578125 59.328125 45.03125 62.0625 \nQ 41.5 64.796875 34.28125 64.796875 \nz\nM 9.8125 72.90625 \nL 35.015625 72.90625 \nQ 46.296875 72.90625 52.390625 68.21875 \nQ 58.5 63.53125 58.5 54.890625 \nQ 58.5 48.1875 55.375 44.234375 \nQ 52.25 40.28125 46.1875 39.3125 \nQ 53.46875 37.75 57.5 32.78125 \nQ 61.53125 27.828125 61.53125 20.40625 \nQ 61.53125 10.640625 54.890625 5.3125 \nQ 48.25 0 35.984375 0 \nL 9.8125 0 \nz\n\" id=\"DejaVuSans-66\"/>\n       </defs>\n       <use xlink:href=\"#DejaVuSans-102\"/>\n       <use x=\"35.205078\" xlink:href=\"#DejaVuSans-105\"/>\n       <use x=\"62.988281\" xlink:href=\"#DejaVuSans-66\"/>\n       <use x=\"131.591797\" xlink:href=\"#DejaVuSans-97\"/>\n       <use x=\"192.871094\" xlink:href=\"#DejaVuSans-115\"/>\n       <use x=\"244.970703\" xlink:href=\"#DejaVuSans-101\"/>\n       <use x=\"306.494141\" xlink:href=\"#DejaVuSans-77\"/>\n       <use x=\"392.773438\" xlink:href=\"#DejaVuSans-111\"/>\n       <use x=\"453.955078\" xlink:href=\"#DejaVuSans-100\"/>\n       <use x=\"517.431641\" xlink:href=\"#DejaVuSans-101\"/>\n       <use x=\"578.955078\" xlink:href=\"#DejaVuSans-108\"/>\n      </g>\n     </g>\n    </g>\n    <g id=\"ytick_7\">\n     <g id=\"line2d_16\">\n      <g>\n       <use style=\"stroke:#000000;stroke-width:0.8;\" x=\"123.009375\" xlink:href=\"#m015252879d\" y=\"133.464902\"/>\n      </g>\n     </g>\n     <g id=\"text_17\">\n      <!-- ModelID -->\n      <g transform=\"translate(75.332813 137.264121)scale(0.1 -0.1)\">\n       <defs>\n        <path d=\"M 9.8125 72.90625 \nL 19.671875 72.90625 \nL 19.671875 0 \nL 9.8125 0 \nz\n\" id=\"DejaVuSans-73\"/>\n       </defs>\n       <use xlink:href=\"#DejaVuSans-77\"/>\n       <use x=\"86.279297\" xlink:href=\"#DejaVuSans-111\"/>\n       <use x=\"147.460938\" xlink:href=\"#DejaVuSans-100\"/>\n       <use x=\"210.9375\" xlink:href=\"#DejaVuSans-101\"/>\n       <use x=\"272.460938\" xlink:href=\"#DejaVuSans-108\"/>\n       <use x=\"300.244141\" xlink:href=\"#DejaVuSans-73\"/>\n       <use x=\"329.736328\" xlink:href=\"#DejaVuSans-68\"/>\n      </g>\n     </g>\n    </g>\n    <g id=\"ytick_8\">\n     <g id=\"line2d_17\">\n      <g>\n       <use style=\"stroke:#000000;stroke-width:0.8;\" x=\"123.009375\" xlink:href=\"#m015252879d\" y=\"148.440108\"/>\n      </g>\n     </g>\n     <g id=\"text_18\">\n      <!-- fiProductClassDesc -->\n      <g transform=\"translate(20.878125 152.239327)scale(0.1 -0.1)\">\n       <defs>\n        <path d=\"M 64.40625 67.28125 \nL 64.40625 56.890625 \nQ 59.421875 61.53125 53.78125 63.8125 \nQ 48.140625 66.109375 41.796875 66.109375 \nQ 29.296875 66.109375 22.65625 58.46875 \nQ 16.015625 50.828125 16.015625 36.375 \nQ 16.015625 21.96875 22.65625 14.328125 \nQ 29.296875 6.6875 41.796875 6.6875 \nQ 48.140625 6.6875 53.78125 8.984375 \nQ 59.421875 11.28125 64.40625 15.921875 \nL 64.40625 5.609375 \nQ 59.234375 2.09375 53.4375 0.328125 \nQ 47.65625 -1.421875 41.21875 -1.421875 \nQ 24.65625 -1.421875 15.125 8.703125 \nQ 5.609375 18.84375 5.609375 36.375 \nQ 5.609375 53.953125 15.125 64.078125 \nQ 24.65625 74.21875 41.21875 74.21875 \nQ 47.75 74.21875 53.53125 72.484375 \nQ 59.328125 70.75 64.40625 67.28125 \nz\n\" id=\"DejaVuSans-67\"/>\n       </defs>\n       <use xlink:href=\"#DejaVuSans-102\"/>\n       <use x=\"35.205078\" xlink:href=\"#DejaVuSans-105\"/>\n       <use x=\"62.988281\" xlink:href=\"#DejaVuSans-80\"/>\n       <use x=\"121.541016\" xlink:href=\"#DejaVuSans-114\"/>\n       <use x=\"160.404297\" xlink:href=\"#DejaVuSans-111\"/>\n       <use x=\"221.585938\" xlink:href=\"#DejaVuSans-100\"/>\n       <use x=\"285.0625\" xlink:href=\"#DejaVuSans-117\"/>\n       <use x=\"348.441406\" xlink:href=\"#DejaVuSans-99\"/>\n       <use x=\"403.421875\" xlink:href=\"#DejaVuSans-116\"/>\n       <use x=\"442.630859\" xlink:href=\"#DejaVuSans-67\"/>\n       <use x=\"512.455078\" xlink:href=\"#DejaVuSans-108\"/>\n       <use x=\"540.238281\" xlink:href=\"#DejaVuSans-97\"/>\n       <use x=\"601.517578\" xlink:href=\"#DejaVuSans-115\"/>\n       <use x=\"653.617188\" xlink:href=\"#DejaVuSans-115\"/>\n       <use x=\"705.716797\" xlink:href=\"#DejaVuSans-68\"/>\n       <use x=\"782.71875\" xlink:href=\"#DejaVuSans-101\"/>\n       <use x=\"844.242188\" xlink:href=\"#DejaVuSans-115\"/>\n       <use x=\"896.341797\" xlink:href=\"#DejaVuSans-99\"/>\n      </g>\n     </g>\n    </g>\n    <g id=\"ytick_9\">\n     <g id=\"line2d_18\">\n      <g>\n       <use style=\"stroke:#000000;stroke-width:0.8;\" x=\"123.009375\" xlink:href=\"#m015252879d\" y=\"163.415315\"/>\n      </g>\n     </g>\n     <g id=\"text_19\">\n      <!-- fiModelDesc -->\n      <g transform=\"translate(55.123438 167.214534)scale(0.1 -0.1)\">\n       <use xlink:href=\"#DejaVuSans-102\"/>\n       <use x=\"35.205078\" xlink:href=\"#DejaVuSans-105\"/>\n       <use x=\"62.988281\" xlink:href=\"#DejaVuSans-77\"/>\n       <use x=\"149.267578\" xlink:href=\"#DejaVuSans-111\"/>\n       <use x=\"210.449219\" xlink:href=\"#DejaVuSans-100\"/>\n       <use x=\"273.925781\" xlink:href=\"#DejaVuSans-101\"/>\n       <use x=\"335.449219\" xlink:href=\"#DejaVuSans-108\"/>\n       <use x=\"363.232422\" xlink:href=\"#DejaVuSans-68\"/>\n       <use x=\"440.234375\" xlink:href=\"#DejaVuSans-101\"/>\n       <use x=\"501.757812\" xlink:href=\"#DejaVuSans-115\"/>\n       <use x=\"553.857422\" xlink:href=\"#DejaVuSans-99\"/>\n      </g>\n     </g>\n    </g>\n    <g id=\"ytick_10\">\n     <g id=\"line2d_19\">\n      <g>\n       <use style=\"stroke:#000000;stroke-width:0.8;\" x=\"123.009375\" xlink:href=\"#m015252879d\" y=\"178.390522\"/>\n      </g>\n     </g>\n     <g id=\"text_20\">\n      <!-- SalesID -->\n      <g transform=\"translate(78.742188 182.18974)scale(0.1 -0.1)\">\n       <use xlink:href=\"#DejaVuSans-83\"/>\n       <use x=\"63.476562\" xlink:href=\"#DejaVuSans-97\"/>\n       <use x=\"124.755859\" xlink:href=\"#DejaVuSans-108\"/>\n       <use x=\"152.539062\" xlink:href=\"#DejaVuSans-101\"/>\n       <use x=\"214.0625\" xlink:href=\"#DejaVuSans-115\"/>\n       <use x=\"266.162109\" xlink:href=\"#DejaVuSans-73\"/>\n       <use x=\"295.654297\" xlink:href=\"#DejaVuSans-68\"/>\n      </g>\n     </g>\n    </g>\n    <g id=\"ytick_11\">\n     <g id=\"line2d_20\">\n      <g>\n       <use style=\"stroke:#000000;stroke-width:0.8;\" x=\"123.009375\" xlink:href=\"#m015252879d\" y=\"193.365728\"/>\n      </g>\n     </g>\n     <g id=\"text_21\">\n      <!-- fiModelDescriptor -->\n      <g transform=\"translate(27.735938 197.164947)scale(0.1 -0.1)\">\n       <defs>\n        <path d=\"M 18.109375 8.203125 \nL 18.109375 -20.796875 \nL 9.078125 -20.796875 \nL 9.078125 54.6875 \nL 18.109375 54.6875 \nL 18.109375 46.390625 \nQ 20.953125 51.265625 25.265625 53.625 \nQ 29.59375 56 35.59375 56 \nQ 45.5625 56 51.78125 48.09375 \nQ 58.015625 40.1875 58.015625 27.296875 \nQ 58.015625 14.40625 51.78125 6.484375 \nQ 45.5625 -1.421875 35.59375 -1.421875 \nQ 29.59375 -1.421875 25.265625 0.953125 \nQ 20.953125 3.328125 18.109375 8.203125 \nz\nM 48.6875 27.296875 \nQ 48.6875 37.203125 44.609375 42.84375 \nQ 40.53125 48.484375 33.40625 48.484375 \nQ 26.265625 48.484375 22.1875 42.84375 \nQ 18.109375 37.203125 18.109375 27.296875 \nQ 18.109375 17.390625 22.1875 11.75 \nQ 26.265625 6.109375 33.40625 6.109375 \nQ 40.53125 6.109375 44.609375 11.75 \nQ 48.6875 17.390625 48.6875 27.296875 \nz\n\" id=\"DejaVuSans-112\"/>\n       </defs>\n       <use xlink:href=\"#DejaVuSans-102\"/>\n       <use x=\"35.205078\" xlink:href=\"#DejaVuSans-105\"/>\n       <use x=\"62.988281\" xlink:href=\"#DejaVuSans-77\"/>\n       <use x=\"149.267578\" xlink:href=\"#DejaVuSans-111\"/>\n       <use x=\"210.449219\" xlink:href=\"#DejaVuSans-100\"/>\n       <use x=\"273.925781\" xlink:href=\"#DejaVuSans-101\"/>\n       <use x=\"335.449219\" xlink:href=\"#DejaVuSans-108\"/>\n       <use x=\"363.232422\" xlink:href=\"#DejaVuSans-68\"/>\n       <use x=\"440.234375\" xlink:href=\"#DejaVuSans-101\"/>\n       <use x=\"501.757812\" xlink:href=\"#DejaVuSans-115\"/>\n       <use x=\"553.857422\" xlink:href=\"#DejaVuSans-99\"/>\n       <use x=\"608.837891\" xlink:href=\"#DejaVuSans-114\"/>\n       <use x=\"649.951172\" xlink:href=\"#DejaVuSans-105\"/>\n       <use x=\"677.734375\" xlink:href=\"#DejaVuSans-112\"/>\n       <use x=\"741.210938\" xlink:href=\"#DejaVuSans-116\"/>\n       <use x=\"780.419922\" xlink:href=\"#DejaVuSans-111\"/>\n       <use x=\"841.601562\" xlink:href=\"#DejaVuSans-114\"/>\n      </g>\n     </g>\n    </g>\n    <g id=\"ytick_12\">\n     <g id=\"line2d_21\">\n      <g>\n       <use style=\"stroke:#000000;stroke-width:0.8;\" x=\"123.009375\" xlink:href=\"#m015252879d\" y=\"208.340935\"/>\n      </g>\n     </g>\n     <g id=\"text_22\">\n      <!-- Coupler_System -->\n      <g transform=\"translate(34.889062 212.140154)scale(0.1 -0.1)\">\n       <defs>\n        <path d=\"M 50.984375 -16.609375 \nL 50.984375 -23.578125 \nL -0.984375 -23.578125 \nL -0.984375 -16.609375 \nz\n\" id=\"DejaVuSans-95\"/>\n        <path d=\"M 52 44.1875 \nQ 55.375 50.25 60.0625 53.125 \nQ 64.75 56 71.09375 56 \nQ 79.640625 56 84.28125 50.015625 \nQ 88.921875 44.046875 88.921875 33.015625 \nL 88.921875 0 \nL 79.890625 0 \nL 79.890625 32.71875 \nQ 79.890625 40.578125 77.09375 44.375 \nQ 74.3125 48.1875 68.609375 48.1875 \nQ 61.625 48.1875 57.5625 43.546875 \nQ 53.515625 38.921875 53.515625 30.90625 \nL 53.515625 0 \nL 44.484375 0 \nL 44.484375 32.71875 \nQ 44.484375 40.625 41.703125 44.40625 \nQ 38.921875 48.1875 33.109375 48.1875 \nQ 26.21875 48.1875 22.15625 43.53125 \nQ 18.109375 38.875 18.109375 30.90625 \nL 18.109375 0 \nL 9.078125 0 \nL 9.078125 54.6875 \nL 18.109375 54.6875 \nL 18.109375 46.1875 \nQ 21.1875 51.21875 25.484375 53.609375 \nQ 29.78125 56 35.6875 56 \nQ 41.65625 56 45.828125 52.96875 \nQ 50 49.953125 52 44.1875 \nz\n\" id=\"DejaVuSans-109\"/>\n       </defs>\n       <use xlink:href=\"#DejaVuSans-67\"/>\n       <use x=\"69.824219\" xlink:href=\"#DejaVuSans-111\"/>\n       <use x=\"131.005859\" xlink:href=\"#DejaVuSans-117\"/>\n       <use x=\"194.384766\" xlink:href=\"#DejaVuSans-112\"/>\n       <use x=\"257.861328\" xlink:href=\"#DejaVuSans-108\"/>\n       <use x=\"285.644531\" xlink:href=\"#DejaVuSans-101\"/>\n       <use x=\"347.167969\" xlink:href=\"#DejaVuSans-114\"/>\n       <use x=\"388.28125\" xlink:href=\"#DejaVuSans-95\"/>\n       <use x=\"438.28125\" xlink:href=\"#DejaVuSans-83\"/>\n       <use x=\"501.757812\" xlink:href=\"#DejaVuSans-121\"/>\n       <use x=\"560.9375\" xlink:href=\"#DejaVuSans-115\"/>\n       <use x=\"613.037109\" xlink:href=\"#DejaVuSans-116\"/>\n       <use x=\"652.246094\" xlink:href=\"#DejaVuSans-101\"/>\n       <use x=\"713.769531\" xlink:href=\"#DejaVuSans-109\"/>\n      </g>\n     </g>\n    </g>\n    <g id=\"ytick_13\">\n     <g id=\"line2d_22\">\n      <g>\n       <use style=\"stroke:#000000;stroke-width:0.8;\" x=\"123.009375\" xlink:href=\"#m015252879d\" y=\"223.316142\"/>\n      </g>\n     </g>\n     <g id=\"text_23\">\n      <!-- MachineID -->\n      <g transform=\"translate(63.498438 227.11536)scale(0.1 -0.1)\">\n       <defs>\n        <path d=\"M 54.890625 33.015625 \nL 54.890625 0 \nL 45.90625 0 \nL 45.90625 32.71875 \nQ 45.90625 40.484375 42.875 44.328125 \nQ 39.84375 48.1875 33.796875 48.1875 \nQ 26.515625 48.1875 22.3125 43.546875 \nQ 18.109375 38.921875 18.109375 30.90625 \nL 18.109375 0 \nL 9.078125 0 \nL 9.078125 75.984375 \nL 18.109375 75.984375 \nL 18.109375 46.1875 \nQ 21.34375 51.125 25.703125 53.5625 \nQ 30.078125 56 35.796875 56 \nQ 45.21875 56 50.046875 50.171875 \nQ 54.890625 44.34375 54.890625 33.015625 \nz\n\" id=\"DejaVuSans-104\"/>\n       </defs>\n       <use xlink:href=\"#DejaVuSans-77\"/>\n       <use x=\"86.279297\" xlink:href=\"#DejaVuSans-97\"/>\n       <use x=\"147.558594\" xlink:href=\"#DejaVuSans-99\"/>\n       <use x=\"202.539062\" xlink:href=\"#DejaVuSans-104\"/>\n       <use x=\"265.917969\" xlink:href=\"#DejaVuSans-105\"/>\n       <use x=\"293.701172\" xlink:href=\"#DejaVuSans-110\"/>\n       <use x=\"357.080078\" xlink:href=\"#DejaVuSans-101\"/>\n       <use x=\"418.603516\" xlink:href=\"#DejaVuSans-73\"/>\n       <use x=\"448.095703\" xlink:href=\"#DejaVuSans-68\"/>\n      </g>\n     </g>\n    </g>\n    <g id=\"ytick_14\">\n     <g id=\"line2d_23\">\n      <g>\n       <use style=\"stroke:#000000;stroke-width:0.8;\" x=\"123.009375\" xlink:href=\"#m015252879d\" y=\"238.291348\"/>\n      </g>\n     </g>\n     <g id=\"text_24\">\n      <!-- Tire_Size -->\n      <g transform=\"translate(71.86875 242.090567)scale(0.1 -0.1)\">\n       <defs>\n        <path d=\"M -0.296875 72.90625 \nL 61.375 72.90625 \nL 61.375 64.59375 \nL 35.5 64.59375 \nL 35.5 0 \nL 25.59375 0 \nL 25.59375 64.59375 \nL -0.296875 64.59375 \nz\n\" id=\"DejaVuSans-84\"/>\n       </defs>\n       <use xlink:href=\"#DejaVuSans-84\"/>\n       <use x=\"57.958984\" xlink:href=\"#DejaVuSans-105\"/>\n       <use x=\"85.742188\" xlink:href=\"#DejaVuSans-114\"/>\n       <use x=\"124.605469\" xlink:href=\"#DejaVuSans-101\"/>\n       <use x=\"186.128906\" xlink:href=\"#DejaVuSans-95\"/>\n       <use x=\"236.128906\" xlink:href=\"#DejaVuSans-83\"/>\n       <use x=\"299.605469\" xlink:href=\"#DejaVuSans-105\"/>\n       <use x=\"327.388672\" xlink:href=\"#DejaVuSans-122\"/>\n       <use x=\"379.878906\" xlink:href=\"#DejaVuSans-101\"/>\n      </g>\n     </g>\n    </g>\n    <g id=\"ytick_15\">\n     <g id=\"line2d_24\">\n      <g>\n       <use style=\"stroke:#000000;stroke-width:0.8;\" x=\"123.009375\" xlink:href=\"#m015252879d\" y=\"253.266555\"/>\n      </g>\n     </g>\n     <g id=\"text_25\">\n      <!-- Blade_Width -->\n      <g transform=\"translate(53.69375 257.065774)scale(0.1 -0.1)\">\n       <defs>\n        <path d=\"M 3.328125 72.90625 \nL 13.28125 72.90625 \nL 28.609375 11.28125 \nL 43.890625 72.90625 \nL 54.984375 72.90625 \nL 70.3125 11.28125 \nL 85.59375 72.90625 \nL 95.609375 72.90625 \nL 77.296875 0 \nL 64.890625 0 \nL 49.515625 63.28125 \nL 33.984375 0 \nL 21.578125 0 \nz\n\" id=\"DejaVuSans-87\"/>\n       </defs>\n       <use xlink:href=\"#DejaVuSans-66\"/>\n       <use x=\"68.603516\" xlink:href=\"#DejaVuSans-108\"/>\n       <use x=\"96.386719\" xlink:href=\"#DejaVuSans-97\"/>\n       <use x=\"157.666016\" xlink:href=\"#DejaVuSans-100\"/>\n       <use x=\"221.142578\" xlink:href=\"#DejaVuSans-101\"/>\n       <use x=\"282.666016\" xlink:href=\"#DejaVuSans-95\"/>\n       <use x=\"332.666016\" xlink:href=\"#DejaVuSans-87\"/>\n       <use x=\"429.292969\" xlink:href=\"#DejaVuSans-105\"/>\n       <use x=\"457.076172\" xlink:href=\"#DejaVuSans-100\"/>\n       <use x=\"520.552734\" xlink:href=\"#DejaVuSans-116\"/>\n       <use x=\"559.761719\" xlink:href=\"#DejaVuSans-104\"/>\n      </g>\n     </g>\n    </g>\n    <g id=\"ytick_16\">\n     <g id=\"line2d_25\">\n      <g>\n       <use style=\"stroke:#000000;stroke-width:0.8;\" x=\"123.009375\" xlink:href=\"#m015252879d\" y=\"268.241761\"/>\n      </g>\n     </g>\n     <g id=\"text_26\">\n      <!-- Hydraulics_Flow -->\n      <g transform=\"translate(35.554688 272.04098)scale(0.1 -0.1)\">\n       <defs>\n        <path d=\"M 9.8125 72.90625 \nL 19.671875 72.90625 \nL 19.671875 43.015625 \nL 55.515625 43.015625 \nL 55.515625 72.90625 \nL 65.375 72.90625 \nL 65.375 0 \nL 55.515625 0 \nL 55.515625 34.71875 \nL 19.671875 34.71875 \nL 19.671875 0 \nL 9.8125 0 \nz\n\" id=\"DejaVuSans-72\"/>\n        <path d=\"M 9.8125 72.90625 \nL 51.703125 72.90625 \nL 51.703125 64.59375 \nL 19.671875 64.59375 \nL 19.671875 43.109375 \nL 48.578125 43.109375 \nL 48.578125 34.8125 \nL 19.671875 34.8125 \nL 19.671875 0 \nL 9.8125 0 \nz\n\" id=\"DejaVuSans-70\"/>\n        <path d=\"M 4.203125 54.6875 \nL 13.1875 54.6875 \nL 24.421875 12.015625 \nL 35.59375 54.6875 \nL 46.1875 54.6875 \nL 57.421875 12.015625 \nL 68.609375 54.6875 \nL 77.59375 54.6875 \nL 63.28125 0 \nL 52.6875 0 \nL 40.921875 44.828125 \nL 29.109375 0 \nL 18.5 0 \nz\n\" id=\"DejaVuSans-119\"/>\n       </defs>\n       <use xlink:href=\"#DejaVuSans-72\"/>\n       <use x=\"75.195312\" xlink:href=\"#DejaVuSans-121\"/>\n       <use x=\"134.375\" xlink:href=\"#DejaVuSans-100\"/>\n       <use x=\"197.851562\" xlink:href=\"#DejaVuSans-114\"/>\n       <use x=\"238.964844\" xlink:href=\"#DejaVuSans-97\"/>\n       <use x=\"300.244141\" xlink:href=\"#DejaVuSans-117\"/>\n       <use x=\"363.623047\" xlink:href=\"#DejaVuSans-108\"/>\n       <use x=\"391.40625\" xlink:href=\"#DejaVuSans-105\"/>\n       <use x=\"419.189453\" xlink:href=\"#DejaVuSans-99\"/>\n       <use x=\"474.169922\" xlink:href=\"#DejaVuSans-115\"/>\n       <use x=\"526.269531\" xlink:href=\"#DejaVuSans-95\"/>\n       <use x=\"576.269531\" xlink:href=\"#DejaVuSans-70\"/>\n       <use x=\"633.789062\" xlink:href=\"#DejaVuSans-108\"/>\n       <use x=\"661.572266\" xlink:href=\"#DejaVuSans-111\"/>\n       <use x=\"722.753906\" xlink:href=\"#DejaVuSans-119\"/>\n      </g>\n     </g>\n    </g>\n    <g id=\"ytick_17\">\n     <g id=\"line2d_26\">\n      <g>\n       <use style=\"stroke:#000000;stroke-width:0.8;\" x=\"123.009375\" xlink:href=\"#m015252879d\" y=\"283.216968\"/>\n      </g>\n     </g>\n     <g id=\"text_27\">\n      <!-- saleDayOfYear -->\n      <g transform=\"translate(43.426563 287.016187)scale(0.1 -0.1)\">\n       <defs>\n        <path d=\"M 39.40625 66.21875 \nQ 28.65625 66.21875 22.328125 58.203125 \nQ 16.015625 50.203125 16.015625 36.375 \nQ 16.015625 22.609375 22.328125 14.59375 \nQ 28.65625 6.59375 39.40625 6.59375 \nQ 50.140625 6.59375 56.421875 14.59375 \nQ 62.703125 22.609375 62.703125 36.375 \nQ 62.703125 50.203125 56.421875 58.203125 \nQ 50.140625 66.21875 39.40625 66.21875 \nz\nM 39.40625 74.21875 \nQ 54.734375 74.21875 63.90625 63.9375 \nQ 73.09375 53.65625 73.09375 36.375 \nQ 73.09375 19.140625 63.90625 8.859375 \nQ 54.734375 -1.421875 39.40625 -1.421875 \nQ 24.03125 -1.421875 14.8125 8.828125 \nQ 5.609375 19.09375 5.609375 36.375 \nQ 5.609375 53.65625 14.8125 63.9375 \nQ 24.03125 74.21875 39.40625 74.21875 \nz\n\" id=\"DejaVuSans-79\"/>\n       </defs>\n       <use xlink:href=\"#DejaVuSans-115\"/>\n       <use x=\"52.099609\" xlink:href=\"#DejaVuSans-97\"/>\n       <use x=\"113.378906\" xlink:href=\"#DejaVuSans-108\"/>\n       <use x=\"141.162109\" xlink:href=\"#DejaVuSans-101\"/>\n       <use x=\"202.685547\" xlink:href=\"#DejaVuSans-68\"/>\n       <use x=\"279.6875\" xlink:href=\"#DejaVuSans-97\"/>\n       <use x=\"340.966797\" xlink:href=\"#DejaVuSans-121\"/>\n       <use x=\"400.146484\" xlink:href=\"#DejaVuSans-79\"/>\n       <use x=\"478.857422\" xlink:href=\"#DejaVuSans-102\"/>\n       <use x=\"514.0625\" xlink:href=\"#DejaVuSans-89\"/>\n       <use x=\"561.896484\" xlink:href=\"#DejaVuSans-101\"/>\n       <use x=\"623.419922\" xlink:href=\"#DejaVuSans-97\"/>\n       <use x=\"684.699219\" xlink:href=\"#DejaVuSans-114\"/>\n      </g>\n     </g>\n    </g>\n    <g id=\"ytick_18\">\n     <g id=\"line2d_27\">\n      <g>\n       <use style=\"stroke:#000000;stroke-width:0.8;\" x=\"123.009375\" xlink:href=\"#m015252879d\" y=\"298.192175\"/>\n      </g>\n     </g>\n     <g id=\"text_28\">\n      <!-- ProductGroup -->\n      <g transform=\"translate(47.60625 301.991393)scale(0.1 -0.1)\">\n       <defs>\n        <path d=\"M 59.515625 10.40625 \nL 59.515625 29.984375 \nL 43.40625 29.984375 \nL 43.40625 38.09375 \nL 69.28125 38.09375 \nL 69.28125 6.78125 \nQ 63.578125 2.734375 56.6875 0.65625 \nQ 49.8125 -1.421875 42 -1.421875 \nQ 24.90625 -1.421875 15.25 8.5625 \nQ 5.609375 18.5625 5.609375 36.375 \nQ 5.609375 54.25 15.25 64.234375 \nQ 24.90625 74.21875 42 74.21875 \nQ 49.125 74.21875 55.546875 72.453125 \nQ 61.96875 70.703125 67.390625 67.28125 \nL 67.390625 56.78125 \nQ 61.921875 61.421875 55.765625 63.765625 \nQ 49.609375 66.109375 42.828125 66.109375 \nQ 29.4375 66.109375 22.71875 58.640625 \nQ 16.015625 51.171875 16.015625 36.375 \nQ 16.015625 21.625 22.71875 14.15625 \nQ 29.4375 6.6875 42.828125 6.6875 \nQ 48.046875 6.6875 52.140625 7.59375 \nQ 56.25 8.5 59.515625 10.40625 \nz\n\" id=\"DejaVuSans-71\"/>\n       </defs>\n       <use xlink:href=\"#DejaVuSans-80\"/>\n       <use x=\"58.552734\" xlink:href=\"#DejaVuSans-114\"/>\n       <use x=\"97.416016\" xlink:href=\"#DejaVuSans-111\"/>\n       <use x=\"158.597656\" xlink:href=\"#DejaVuSans-100\"/>\n       <use x=\"222.074219\" xlink:href=\"#DejaVuSans-117\"/>\n       <use x=\"285.453125\" xlink:href=\"#DejaVuSans-99\"/>\n       <use x=\"340.433594\" xlink:href=\"#DejaVuSans-116\"/>\n       <use x=\"379.642578\" xlink:href=\"#DejaVuSans-71\"/>\n       <use x=\"457.132812\" xlink:href=\"#DejaVuSans-114\"/>\n       <use x=\"495.996094\" xlink:href=\"#DejaVuSans-111\"/>\n       <use x=\"557.177734\" xlink:href=\"#DejaVuSans-117\"/>\n       <use x=\"620.556641\" xlink:href=\"#DejaVuSans-112\"/>\n      </g>\n     </g>\n    </g>\n    <g id=\"ytick_19\">\n     <g id=\"line2d_28\">\n      <g>\n       <use style=\"stroke:#000000;stroke-width:0.8;\" x=\"123.009375\" xlink:href=\"#m015252879d\" y=\"313.167381\"/>\n      </g>\n     </g>\n     <g id=\"text_29\">\n      <!-- Hydraulics -->\n      <g transform=\"translate(63.38125 316.9666)scale(0.1 -0.1)\">\n       <use xlink:href=\"#DejaVuSans-72\"/>\n       <use x=\"75.195312\" xlink:href=\"#DejaVuSans-121\"/>\n       <use x=\"134.375\" xlink:href=\"#DejaVuSans-100\"/>\n       <use x=\"197.851562\" xlink:href=\"#DejaVuSans-114\"/>\n       <use x=\"238.964844\" xlink:href=\"#DejaVuSans-97\"/>\n       <use x=\"300.244141\" xlink:href=\"#DejaVuSans-117\"/>\n       <use x=\"363.623047\" xlink:href=\"#DejaVuSans-108\"/>\n       <use x=\"391.40625\" xlink:href=\"#DejaVuSans-105\"/>\n       <use x=\"419.189453\" xlink:href=\"#DejaVuSans-99\"/>\n       <use x=\"474.169922\" xlink:href=\"#DejaVuSans-115\"/>\n      </g>\n     </g>\n    </g>\n    <g id=\"ytick_20\">\n     <g id=\"line2d_29\">\n      <g>\n       <use style=\"stroke:#000000;stroke-width:0.8;\" x=\"123.009375\" xlink:href=\"#m015252879d\" y=\"328.142588\"/>\n      </g>\n     </g>\n     <g id=\"text_30\">\n      <!-- ProductGroupDesc -->\n      <g transform=\"translate(23.045312 331.941807)scale(0.1 -0.1)\">\n       <use xlink:href=\"#DejaVuSans-80\"/>\n       <use x=\"58.552734\" xlink:href=\"#DejaVuSans-114\"/>\n       <use x=\"97.416016\" xlink:href=\"#DejaVuSans-111\"/>\n       <use x=\"158.597656\" xlink:href=\"#DejaVuSans-100\"/>\n       <use x=\"222.074219\" xlink:href=\"#DejaVuSans-117\"/>\n       <use x=\"285.453125\" xlink:href=\"#DejaVuSans-99\"/>\n       <use x=\"340.433594\" xlink:href=\"#DejaVuSans-116\"/>\n       <use x=\"379.642578\" xlink:href=\"#DejaVuSans-71\"/>\n       <use x=\"457.132812\" xlink:href=\"#DejaVuSans-114\"/>\n       <use x=\"495.996094\" xlink:href=\"#DejaVuSans-111\"/>\n       <use x=\"557.177734\" xlink:href=\"#DejaVuSans-117\"/>\n       <use x=\"620.556641\" xlink:href=\"#DejaVuSans-112\"/>\n       <use x=\"684.033203\" xlink:href=\"#DejaVuSans-68\"/>\n       <use x=\"761.035156\" xlink:href=\"#DejaVuSans-101\"/>\n       <use x=\"822.558594\" xlink:href=\"#DejaVuSans-115\"/>\n       <use x=\"874.658203\" xlink:href=\"#DejaVuSans-99\"/>\n      </g>\n     </g>\n    </g>\n    <g id=\"text_31\">\n     <!-- Atributos -->\n     <g transform=\"translate(14.798437 208.582812)rotate(-90)scale(0.1 -0.1)\">\n      <defs>\n       <path d=\"M 34.1875 63.1875 \nL 20.796875 26.90625 \nL 47.609375 26.90625 \nz\nM 28.609375 72.90625 \nL 39.796875 72.90625 \nL 67.578125 0 \nL 57.328125 0 \nL 50.6875 18.703125 \nL 17.828125 18.703125 \nL 11.1875 0 \nL 0.78125 0 \nz\n\" id=\"DejaVuSans-65\"/>\n      </defs>\n      <use xlink:href=\"#DejaVuSans-65\"/>\n      <use x=\"66.658203\" xlink:href=\"#DejaVuSans-116\"/>\n      <use x=\"105.867188\" xlink:href=\"#DejaVuSans-114\"/>\n      <use x=\"146.980469\" xlink:href=\"#DejaVuSans-105\"/>\n      <use x=\"174.763672\" xlink:href=\"#DejaVuSans-98\"/>\n      <use x=\"238.240234\" xlink:href=\"#DejaVuSans-117\"/>\n      <use x=\"301.619141\" xlink:href=\"#DejaVuSans-116\"/>\n      <use x=\"340.828125\" xlink:href=\"#DejaVuSans-111\"/>\n      <use x=\"402.009766\" xlink:href=\"#DejaVuSans-115\"/>\n     </g>\n    </g>\n   </g>\n   <g id=\"patch_23\">\n    <path d=\"M 123.009375 348.958125 \nL 123.009375 22.798125 \n\" style=\"fill:none;stroke:#000000;stroke-linecap:square;stroke-linejoin:miter;stroke-width:0.8;\"/>\n   </g>\n   <g id=\"patch_24\">\n    <path d=\"M 681.009375 348.958125 \nL 681.009375 22.798125 \n\" style=\"fill:none;stroke:#000000;stroke-linecap:square;stroke-linejoin:miter;stroke-width:0.8;\"/>\n   </g>\n   <g id=\"patch_25\">\n    <path d=\"M 123.009375 348.958125 \nL 681.009375 348.958125 \n\" style=\"fill:none;stroke:#000000;stroke-linecap:square;stroke-linejoin:miter;stroke-width:0.8;\"/>\n   </g>\n   <g id=\"patch_26\">\n    <path d=\"M 123.009375 22.798125 \nL 681.009375 22.798125 \n\" style=\"fill:none;stroke:#000000;stroke-linecap:square;stroke-linejoin:miter;stroke-width:0.8;\"/>\n   </g>\n   <g id=\"text_32\">\n    <!-- Relevância dos atributos no preço de venda de tratores de esteira -->\n    <g transform=\"translate(203.1375 16.798125)scale(0.12 -0.12)\">\n     <defs>\n      <path d=\"M 48.78125 52.59375 \nL 48.78125 44.1875 \nQ 44.96875 46.296875 41.140625 47.34375 \nQ 37.3125 48.390625 33.40625 48.390625 \nQ 24.65625 48.390625 19.8125 42.84375 \nQ 14.984375 37.3125 14.984375 27.296875 \nQ 14.984375 17.28125 19.8125 11.734375 \nQ 24.65625 6.203125 33.40625 6.203125 \nQ 37.3125 6.203125 41.140625 7.25 \nQ 44.96875 8.296875 48.78125 10.40625 \nL 48.78125 2.09375 \nQ 45.015625 0.34375 40.984375 -0.53125 \nQ 36.96875 -1.421875 32.421875 -1.421875 \nQ 20.0625 -1.421875 12.78125 6.34375 \nQ 5.515625 14.109375 5.515625 27.296875 \nQ 5.515625 40.671875 12.859375 48.328125 \nQ 20.21875 56 33.015625 56 \nQ 37.15625 56 41.109375 55.140625 \nQ 45.0625 54.296875 48.78125 52.59375 \nz\nM 36.078125 0 \nQ 38.765625 -3.03125 40.078125 -5.59375 \nQ 41.40625 -8.15625 41.40625 -10.5 \nQ 41.40625 -14.84375 38.46875 -17.0625 \nQ 35.546875 -19.28125 29.78125 -19.28125 \nQ 27.546875 -19.28125 25.421875 -18.984375 \nQ 23.296875 -18.703125 21.1875 -18.109375 \nL 21.1875 -11.71875 \nQ 22.859375 -12.546875 24.65625 -12.90625 \nQ 26.46875 -13.28125 28.765625 -13.28125 \nQ 31.640625 -13.28125 33.109375 -12.109375 \nQ 34.578125 -10.9375 34.578125 -8.6875 \nQ 34.578125 -7.234375 33.515625 -5.109375 \nQ 32.46875 -2.984375 30.28125 0 \nz\n\" id=\"DejaVuSans-231\"/>\n     </defs>\n     <use xlink:href=\"#DejaVuSans-82\"/>\n     <use x=\"64.982422\" xlink:href=\"#DejaVuSans-101\"/>\n     <use x=\"126.505859\" xlink:href=\"#DejaVuSans-108\"/>\n     <use x=\"154.289062\" xlink:href=\"#DejaVuSans-101\"/>\n     <use x=\"215.8125\" xlink:href=\"#DejaVuSans-118\"/>\n     <use x=\"274.992188\" xlink:href=\"#DejaVuSans-226\"/>\n     <use x=\"336.271484\" xlink:href=\"#DejaVuSans-110\"/>\n     <use x=\"399.650391\" xlink:href=\"#DejaVuSans-99\"/>\n     <use x=\"454.630859\" xlink:href=\"#DejaVuSans-105\"/>\n     <use x=\"482.414062\" xlink:href=\"#DejaVuSans-97\"/>\n     <use x=\"543.693359\" xlink:href=\"#DejaVuSans-32\"/>\n     <use x=\"575.480469\" xlink:href=\"#DejaVuSans-100\"/>\n     <use x=\"638.957031\" xlink:href=\"#DejaVuSans-111\"/>\n     <use x=\"700.138672\" xlink:href=\"#DejaVuSans-115\"/>\n     <use x=\"752.238281\" xlink:href=\"#DejaVuSans-32\"/>\n     <use x=\"784.025391\" xlink:href=\"#DejaVuSans-97\"/>\n     <use x=\"845.304688\" xlink:href=\"#DejaVuSans-116\"/>\n     <use x=\"884.513672\" xlink:href=\"#DejaVuSans-114\"/>\n     <use x=\"925.626953\" xlink:href=\"#DejaVuSans-105\"/>\n     <use x=\"953.410156\" xlink:href=\"#DejaVuSans-98\"/>\n     <use x=\"1016.886719\" xlink:href=\"#DejaVuSans-117\"/>\n     <use x=\"1080.265625\" xlink:href=\"#DejaVuSans-116\"/>\n     <use x=\"1119.474609\" xlink:href=\"#DejaVuSans-111\"/>\n     <use x=\"1180.65625\" xlink:href=\"#DejaVuSans-115\"/>\n     <use x=\"1232.755859\" xlink:href=\"#DejaVuSans-32\"/>\n     <use x=\"1264.542969\" xlink:href=\"#DejaVuSans-110\"/>\n     <use x=\"1327.921875\" xlink:href=\"#DejaVuSans-111\"/>\n     <use x=\"1389.103516\" xlink:href=\"#DejaVuSans-32\"/>\n     <use x=\"1420.890625\" xlink:href=\"#DejaVuSans-112\"/>\n     <use x=\"1484.367188\" xlink:href=\"#DejaVuSans-114\"/>\n     <use x=\"1523.230469\" xlink:href=\"#DejaVuSans-101\"/>\n     <use x=\"1584.753906\" xlink:href=\"#DejaVuSans-231\"/>\n     <use x=\"1639.734375\" xlink:href=\"#DejaVuSans-111\"/>\n     <use x=\"1700.916016\" xlink:href=\"#DejaVuSans-32\"/>\n     <use x=\"1732.703125\" xlink:href=\"#DejaVuSans-100\"/>\n     <use x=\"1796.179688\" xlink:href=\"#DejaVuSans-101\"/>\n     <use x=\"1857.703125\" xlink:href=\"#DejaVuSans-32\"/>\n     <use x=\"1889.490234\" xlink:href=\"#DejaVuSans-118\"/>\n     <use x=\"1948.669922\" xlink:href=\"#DejaVuSans-101\"/>\n     <use x=\"2010.193359\" xlink:href=\"#DejaVuSans-110\"/>\n     <use x=\"2073.572266\" xlink:href=\"#DejaVuSans-100\"/>\n     <use x=\"2137.048828\" xlink:href=\"#DejaVuSans-97\"/>\n     <use x=\"2198.328125\" xlink:href=\"#DejaVuSans-32\"/>\n     <use x=\"2230.115234\" xlink:href=\"#DejaVuSans-100\"/>\n     <use x=\"2293.591797\" xlink:href=\"#DejaVuSans-101\"/>\n     <use x=\"2355.115234\" xlink:href=\"#DejaVuSans-32\"/>\n     <use x=\"2386.902344\" xlink:href=\"#DejaVuSans-116\"/>\n     <use x=\"2426.111328\" xlink:href=\"#DejaVuSans-114\"/>\n     <use x=\"2467.224609\" xlink:href=\"#DejaVuSans-97\"/>\n     <use x=\"2528.503906\" xlink:href=\"#DejaVuSans-116\"/>\n     <use x=\"2567.712891\" xlink:href=\"#DejaVuSans-111\"/>\n     <use x=\"2628.894531\" xlink:href=\"#DejaVuSans-114\"/>\n     <use x=\"2667.757812\" xlink:href=\"#DejaVuSans-101\"/>\n     <use x=\"2729.28125\" xlink:href=\"#DejaVuSans-115\"/>\n     <use x=\"2781.380859\" xlink:href=\"#DejaVuSans-32\"/>\n     <use x=\"2813.167969\" xlink:href=\"#DejaVuSans-100\"/>\n     <use x=\"2876.644531\" xlink:href=\"#DejaVuSans-101\"/>\n     <use x=\"2938.167969\" xlink:href=\"#DejaVuSans-32\"/>\n     <use x=\"2969.955078\" xlink:href=\"#DejaVuSans-101\"/>\n     <use x=\"3031.478516\" xlink:href=\"#DejaVuSans-115\"/>\n     <use x=\"3083.578125\" xlink:href=\"#DejaVuSans-116\"/>\n     <use x=\"3122.787109\" xlink:href=\"#DejaVuSans-101\"/>\n     <use x=\"3184.310547\" xlink:href=\"#DejaVuSans-105\"/>\n     <use x=\"3212.09375\" xlink:href=\"#DejaVuSans-114\"/>\n     <use x=\"3253.207031\" xlink:href=\"#DejaVuSans-97\"/>\n    </g>\n   </g>\n  </g>\n </g>\n <defs>\n  <clipPath id=\"p12e20d6c58\">\n   <rect height=\"326.16\" width=\"558\" x=\"123.009375\" y=\"22.798125\"/>\n  </clipPath>\n </defs>\n</svg>\n",
      "image/png": "[encoded data removed]"
     },
     "metadata": {
      "needs_background": "light"
     }
    }
   ]
  },
  {
   "cell_type": "code",
   "execution_count": null,
   "metadata": {},
   "outputs": [],
   "source": []
  }
 ],
 "metadata": {
  "kernelspec": {
   "display_name": "Python 3",
   "language": "python",
   "name": "python3"
  },
  "language_info": {
   "codemirror_mode": {
    "name": "ipython",
    "version": 3
   },
   "file_extension": ".py",
   "mimetype": "text/x-python",
   "name": "python",
   "nbconvert_exporter": "python",
   "pygments_lexer": "ipython3",
   "version": "3.8.5-final"
  }
 },
 "nbformat": 4,
 "nbformat_minor": 4
}