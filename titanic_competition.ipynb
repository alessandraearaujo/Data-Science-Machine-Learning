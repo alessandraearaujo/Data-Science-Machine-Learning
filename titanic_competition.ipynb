{
  "nbformat": 4,
  "nbformat_minor": 0,
  "metadata": {
    "colab": {
      "name": "titanic-competition.ipynb",
      "provenance": [],
      "authorship_tag": "ABX9TyMZnje2tQEsWd7Tu9wEe51a",
      "include_colab_link": true
    },
    "kernelspec": {
      "name": "python3",
      "display_name": "Python 3"
    }
  },
  "cells": [
    {
      "cell_type": "markdown",
      "metadata": {
        "id": "view-in-github",
        "colab_type": "text"
      },
      "source": [
        "<a href=\"https://colab.research.google.com/github/ms-r0bot/Data-Science-Machine-Learning/blob/main/titanic_competition.ipynb\" target=\"_parent\"><img src=\"https://colab.research.google.com/assets/colab-badge.svg\" alt=\"Open In Colab\"/></a>"
      ]
    },
    {
      "cell_type": "markdown",
      "metadata": {
        "id": "ydUbqT75wWRV"
      },
      "source": [
        "# Quais passageiros sobreviveriam ao acidente do Titanic? \n",
        "\n",
        "# 1. Introdução\n",
        "O objetivo deste estudo é prever, baseado na idade, sexo e outros atributos, se uma pessoa sobreviveria ao acidente ou não. Este projeto é baseado na competição do Kaggle, disponível em: https://www.kaggle.com/c/titanic/.\n",
        "\n",
        "# 2. Dados\n",
        "\n",
        "A base de dados utilizada consiste em uma base de treino (train.csv), que possui os atributos dos passageiros e a informação se ele sobreviveu ou não ao desastre, composta de 891 linhas. Esta base será utilizada treinar e validar o modelo de Machine Learning que pretendemos desevolver.\n",
        "\n",
        "Aleḿ da base de treino, também utilizaremos a base de teste (test.csv) onde são disponibilizados atributos de passageiros, mas não é informado se eles sobreviveram ao não ao desastre. Nosso objetivo é utilizar o modelo desenvolvido para prever resultados para a base de testes, para posteriormente enviá-los para a avaliação da plataforma Kaggle, que deverá avaliar a precisão do modelo desenvolvido com base nos resultados.\n",
        "\n",
        "# 3. WorKflow\n",
        "\n",
        "Para desenvolver o modelo, adotaremos o seguinte Worflow:\n",
        "\n",
        "> \n",
        "1. Importação de dados de treino\n",
        "2. Análise da base de dados (verificação de valores faltantes e métodos possíveis para tratar estes dados)\n",
        "3. Definição do modelo de Machine Learning divisão da base de treino e validação\n",
        "4. Avaliação dos modelos\n",
        "5. Ajustes de hiperparâmetros\n",
        "6. Comparação dos modelos e conclusão"
      ]
    },
    {
      "cell_type": "code",
      "metadata": {
        "id": "0dPlurhEwNDB"
      },
      "source": [
        ""
      ],
      "execution_count": null,
      "outputs": []
    }
  ]
}