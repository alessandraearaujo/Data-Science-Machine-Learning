{
 "cells": [
  {
   "cell_type": "markdown",
   "metadata": {
    "id": "ydUbqT75wWRV"
   },
   "source": [
    "# Quais passageiros sobreviveriam ao acidente do Titanic? \n",
    "\n",
    "# 1. Introdução\n",
    "O objetivo deste estudo é prever, baseado na idade, sexo e outros atributos, se uma pessoa sobreviveria ao acidente ou não. Este projeto é baseado na competição do Kaggle, disponível em: https://www.kaggle.com/c/titanic/.\n",
    "\n",
    "# 2. Dados\n",
    "\n",
    "A base de dados utilizada consiste em uma base de treino (train.csv), que possui os atributos dos passageiros e a informação se ele sobreviveu ou não ao desastre, composta de 891 linhas. Esta base será utilizada treinar e validar o modelo de Machine Learning que pretendemos desenvolver.\n",
    "\n",
    "Aleḿ da base de treino, também utilizaremos a base de teste (test.csv) onde são disponibilizados atributos de passageiros, mas não é informado se eles sobreviveram ao não ao desastre. Nosso objetivo é utilizar o modelo desenvolvido para prever resultados para a base de testes, para posteriormente enviá-los para a avaliação da plataforma Kaggle, que deverá avaliar a precisão do modelo desenvolvido com base nos resultados.\n",
    "\n",
    "Os atributos dos passageiros e suas variáveis são listados a seguir:\n",
    "\n",
    "*   PassengerId: id de 1 a 891\n",
    "*   Survived: 0 = Sobreviveu , 1 = Não sobreviveu\n",
    "*   Pclass (classe): Alta, Média, Baixa\n",
    "*   Name: nome\n",
    "*   Sex: feminino, masculino\n",
    "*   Age (idade): É fracional se menor do que 1. Se estimada, é xx.5\n",
    "*   SibSp (quantidade de parentes a bordo com parentesco de irmão, marido, esposa): 0 a 8\n",
    "*   Parch (quantidade de parentes a bordo com parentesco de mãe, pai, filho, filha): 0 a 6\n",
    "*   Ticket: número do ticket\n",
    "*   Fare: tarifa do passageiro \n",
    "*   Cabin: número da cabine\n",
    "*   Embarked: C = Cherbourg, Q = Queenstown, S = Southampton\n",
    "\n",
    "\n",
    "# 3. WorKflow\n",
    "\n",
    "Para desenvolver o modelo, adotaremos o seguinte Worflow:\n",
    "\n",
    "> \n",
    "1. Importação de dados de treino\n",
    "2. Análise da base de dados (verificação de valores faltantes e métodos possíveis para tratar estes dados)\n",
    "3. Definição do modelo de Machine Learning divisão da base de treino e validação\n",
    "4. Avaliação dos modelos\n",
    "5. Ajustes de hiperparâmetros\n",
    "6. Comparação dos modelos e conclusão"
   ]
  },
  {
   "cell_type": "code",
   "execution_count": 128,
   "metadata": {
    "id": "0dPlurhEwNDB"
   },
   "outputs": [],
   "source": [
    "# Importando as primeiras ferramentas...\n",
    "import pandas as pd\n",
    "import numpy as np"
   ]
  },
  {
   "cell_type": "code",
   "execution_count": 129,
   "metadata": {
    "id": "c2bAWZley3_C"
   },
   "outputs": [],
   "source": [
    "# Importando os dados de treino...\n",
    "df = pd.read_csv('https://raw.githubusercontent.com/ms-r0bot/Data-Science-Machine-Learning/main/titanic-competition/train.csv')"
   ]
  },
  {
   "cell_type": "code",
   "execution_count": 130,
   "metadata": {
    "colab": {
     "base_uri": "https://localhost:8080/"
    },
    "id": "RSLiMP1AzkeO",
    "outputId": "5a361ee5-35f7-4e2d-98a3-44b481c902f9"
   },
   "outputs": [
    {
     "name": "stdout",
     "output_type": "stream",
     "text": [
      "<class 'pandas.core.frame.DataFrame'>\n",
      "RangeIndex: 891 entries, 0 to 890\n",
      "Data columns (total 12 columns):\n",
      " #   Column       Non-Null Count  Dtype  \n",
      "---  ------       --------------  -----  \n",
      " 0   PassengerId  891 non-null    int64  \n",
      " 1   Survived     891 non-null    int64  \n",
      " 2   Pclass       891 non-null    int64  \n",
      " 3   Name         891 non-null    object \n",
      " 4   Sex          891 non-null    object \n",
      " 5   Age          714 non-null    float64\n",
      " 6   SibSp        891 non-null    int64  \n",
      " 7   Parch        891 non-null    int64  \n",
      " 8   Ticket       891 non-null    object \n",
      " 9   Fare         891 non-null    float64\n",
      " 10  Cabin        204 non-null    object \n",
      " 11  Embarked     889 non-null    object \n",
      "dtypes: float64(2), int64(5), object(5)\n",
      "memory usage: 83.7+ KB\n"
     ]
    }
   ],
   "source": [
    "# Obtendo informações gerais sobre os dados...\n",
    "df.info()"
   ]
  },
  {
   "cell_type": "code",
   "execution_count": 131,
   "metadata": {
    "colab": {
     "base_uri": "https://localhost:8080/"
    },
    "id": "802u00BH4wpZ",
    "outputId": "d649345c-51f2-4b09-8b1c-f15f00fa7c4d"
   },
   "outputs": [
    {
     "data": {
      "text/plain": [
       "PassengerId      0\n",
       "Survived         0\n",
       "Pclass           0\n",
       "Name             0\n",
       "Sex              0\n",
       "Age            177\n",
       "SibSp            0\n",
       "Parch            0\n",
       "Ticket           0\n",
       "Fare             0\n",
       "Cabin          687\n",
       "Embarked         2\n",
       "dtype: int64"
      ]
     },
     "execution_count": 131,
     "metadata": {},
     "output_type": "execute_result"
    }
   ],
   "source": [
    "# Verificando se existem colunas com dados faltando...\n",
    "df.isna().sum()"
   ]
  },
  {
   "cell_type": "code",
   "execution_count": 132,
   "metadata": {
    "colab": {
     "base_uri": "https://localhost:8080/"
    },
    "id": "T4JXJIBe682T",
    "outputId": "4d95c662-c1b0-4dbf-8f71-e937be9be94d"
   },
   "outputs": [
    {
     "data": {
      "text/plain": [
       "PassengerId      0\n",
       "Survived         0\n",
       "Pclass           0\n",
       "Name             0\n",
       "Sex              0\n",
       "Age              0\n",
       "SibSp            0\n",
       "Parch            0\n",
       "Ticket           0\n",
       "Fare             0\n",
       "Cabin          687\n",
       "Embarked         2\n",
       "dtype: int64"
      ]
     },
     "execution_count": 132,
     "metadata": {},
     "output_type": "execute_result"
    }
   ],
   "source": [
    "# Vamos começar a tratar os dados. \n",
    "# Primeiramente, a idade: existem 177 valores faltando, então vamos preencher estes valores com a média das idades dos demais passageiros\n",
    "\n",
    "for label, content in df.items():\n",
    "    if pd.api.types.is_numeric_dtype(content):\n",
    "        if pd.isnull(content).sum():\n",
    "            df['Age'] = df['Age'].fillna(content.median())\n",
    "df.isna().sum()"
   ]
  },
  {
   "cell_type": "code",
   "execution_count": 133,
   "metadata": {
    "colab": {
     "base_uri": "https://localhost:8080/"
    },
    "id": "rP9-Ilz_Gkl2",
    "outputId": "94e1bde0-3845-4557-b9ed-9039f06c435f"
   },
   "outputs": [
    {
     "name": "stdout",
     "output_type": "stream",
     "text": [
      "<class 'pandas.core.frame.DataFrame'>\n",
      "RangeIndex: 891 entries, 0 to 890\n",
      "Data columns (total 12 columns):\n",
      " #   Column       Non-Null Count  Dtype  \n",
      "---  ------       --------------  -----  \n",
      " 0   PassengerId  891 non-null    int64  \n",
      " 1   Survived     891 non-null    int64  \n",
      " 2   Pclass       891 non-null    int64  \n",
      " 3   Name         891 non-null    object \n",
      " 4   Sex          891 non-null    object \n",
      " 5   Age          891 non-null    float64\n",
      " 6   SibSp        891 non-null    int64  \n",
      " 7   Parch        891 non-null    int64  \n",
      " 8   Ticket       891 non-null    object \n",
      " 9   Fare         891 non-null    float64\n",
      " 10  Cabin        204 non-null    object \n",
      " 11  Embarked     889 non-null    object \n",
      "dtypes: float64(2), int64(5), object(5)\n",
      "memory usage: 83.7+ KB\n"
     ]
    }
   ],
   "source": [
    "df.info()"
   ]
  },
  {
   "cell_type": "code",
   "execution_count": 134,
   "metadata": {
    "colab": {
     "base_uri": "https://localhost:8080/"
    },
    "id": "2qTQZV68DZHY",
    "outputId": "978a5191-d90c-4778-c7b7-69606e207736"
   },
   "outputs": [
    {
     "name": "stdout",
     "output_type": "stream",
     "text": [
      "<class 'pandas.core.frame.DataFrame'>\n",
      "RangeIndex: 891 entries, 0 to 890\n",
      "Data columns (total 12 columns):\n",
      " #   Column       Non-Null Count  Dtype   \n",
      "---  ------       --------------  -----   \n",
      " 0   PassengerId  891 non-null    int64   \n",
      " 1   Survived     891 non-null    int64   \n",
      " 2   Pclass       891 non-null    int64   \n",
      " 3   Name         891 non-null    category\n",
      " 4   Sex          891 non-null    category\n",
      " 5   Age          891 non-null    float64 \n",
      " 6   SibSp        891 non-null    int64   \n",
      " 7   Parch        891 non-null    int64   \n",
      " 8   Ticket       891 non-null    category\n",
      " 9   Fare         891 non-null    float64 \n",
      " 10  Cabin        204 non-null    category\n",
      " 11  Embarked     889 non-null    category\n",
      "dtypes: category(5), float64(2), int64(5)\n",
      "memory usage: 134.4 KB\n"
     ]
    }
   ],
   "source": [
    "# O próximo passo para o tratamento é transformar os dados do tipo string (object) em tipo categoria.\n",
    "\n",
    "for label, content in df.items():\n",
    "    if pd.api.types.is_string_dtype(content):\n",
    "        df[label] = content.astype(\"category\").cat.as_ordered()\n",
    "df.info()"
   ]
  },
  {
   "cell_type": "code",
   "execution_count": 135,
   "metadata": {
    "colab": {
     "base_uri": "https://localhost:8080/"
    },
    "id": "5CUBPW4iHGM6",
    "outputId": "987b1bc5-c0f6-4afc-9d8e-ba212850a8ec"
   },
   "outputs": [
    {
     "data": {
      "text/plain": [
       "PassengerId      0\n",
       "Survived         0\n",
       "Pclass           0\n",
       "Name             0\n",
       "Sex              0\n",
       "Age              0\n",
       "SibSp            0\n",
       "Parch            0\n",
       "Ticket           0\n",
       "Fare             0\n",
       "Cabin          687\n",
       "Embarked         2\n",
       "dtype: int64"
      ]
     },
     "execution_count": 135,
     "metadata": {},
     "output_type": "execute_result"
    }
   ],
   "source": [
    "df.isna().sum()"
   ]
  },
  {
   "cell_type": "code",
   "execution_count": 136,
   "metadata": {
    "colab": {
     "base_uri": "https://localhost:8080/"
    },
    "id": "z9MnuHwKDeFt",
    "outputId": "e9c53f8a-a1bd-43b8-c9c4-884fd6bc1db2"
   },
   "outputs": [
    {
     "name": "stdout",
     "output_type": "stream",
     "text": [
      "<class 'pandas.core.frame.DataFrame'>\n",
      "RangeIndex: 891 entries, 0 to 890\n",
      "Data columns (total 12 columns):\n",
      " #   Column       Non-Null Count  Dtype  \n",
      "---  ------       --------------  -----  \n",
      " 0   PassengerId  891 non-null    int64  \n",
      " 1   Survived     891 non-null    int64  \n",
      " 2   Pclass       891 non-null    int64  \n",
      " 3   Name         891 non-null    int16  \n",
      " 4   Sex          891 non-null    int8   \n",
      " 5   Age          891 non-null    float64\n",
      " 6   SibSp        891 non-null    int64  \n",
      " 7   Parch        891 non-null    int64  \n",
      " 8   Ticket       891 non-null    int16  \n",
      " 9   Fare         891 non-null    float64\n",
      " 10  Cabin        891 non-null    int16  \n",
      " 11  Embarked     891 non-null    int8   \n",
      "dtypes: float64(2), int16(3), int64(5), int8(2)\n",
      "memory usage: 55.8 KB\n"
     ]
    },
    {
     "data": {
      "text/plain": [
       "(None,\n",
       " PassengerId    0\n",
       " Survived       0\n",
       " Pclass         0\n",
       " Name           0\n",
       " Sex            0\n",
       " Age            0\n",
       " SibSp          0\n",
       " Parch          0\n",
       " Ticket         0\n",
       " Fare           0\n",
       " Cabin          0\n",
       " Embarked       0\n",
       " dtype: int64)"
      ]
     },
     "execution_count": 136,
     "metadata": {},
     "output_type": "execute_result"
    }
   ],
   "source": [
    "# Em campos categóricos vazios, o código que traz a informação de campo vazio é -1. Por isso, ao somar +1, os campos vazios passam a ter código = 0 e os campos que já possuiam algum valor ficam com código = [código + 1].\n",
    "\n",
    "for label, content in df.items():\n",
    "    if not pd.api.types.is_numeric_dtype(content):\n",
    "        if pd.isnull:\n",
    "            df[label] = pd.Categorical(content).codes+1\n",
    "df.info(), df.isna().sum()"
   ]
  },
  {
   "cell_type": "code",
   "execution_count": 137,
   "metadata": {
    "colab": {
     "base_uri": "https://localhost:8080/",
     "height": 429
    },
    "id": "c2PL8Ys3FCMz",
    "outputId": "4e69cd30-f477-4324-8f8c-6bfce545a83d"
   },
   "outputs": [
    {
     "data": {
      "image/png": "[encoded data removed]",
      "text/plain": [
       "<Figure size 864x432 with 2 Axes>"
      ]
     },
     "metadata": {
      "needs_background": "light"
     },
     "output_type": "display_data"
    }
   ],
   "source": [
    "# Ao plotar uma a matriz de correlação para entender como os dados influenciam se um passageiro sobrevive ou não.\n",
    "import matplotlib.pyplot as plt\n",
    "import seaborn as sns\n",
    "\n",
    "corr_matrix = df.corr()\n",
    "fig, ax = plt.subplots(figsize=(12,6))\n",
    "ax = sns.heatmap(corr_matrix, annot=True, linewidths=0.5, fmt='.2f', cmap='PuRd');\n"
   ]
  },
  {
   "cell_type": "code",
   "execution_count": 138,
   "metadata": {
    "id": "YCf_xng7HMqG"
   },
   "outputs": [],
   "source": [
    "# Com os dados preparados, podemos pensar nos estimadores que podem ser utilizados para construir o modelo de ML.\n",
    "# Este problema pode ser tratado como uma regressão binomial, onde deseja-se obter o a previsão com 2 possíveis resultados: sobrevivente ou não-sobrevivente."
   ]
  },
  {
   "cell_type": "code",
   "execution_count": 139,
   "metadata": {
    "id": "DPZXAYYrinyP"
   },
   "outputs": [],
   "source": [
    "# Separando a base de dados em validação e treino:\n",
    "from sklearn.model_selection import train_test_split\n",
    "np.random.seed(42)\n",
    "x = df.drop('Survived', axis=1)\n",
    "y = df['Survived']\n",
    "x_train , x_val , y_train, y_val = train_test_split(x,y, test_size=0.2)"
   ]
  },
  {
   "cell_type": "code",
   "execution_count": 140,
   "metadata": {
    "id": "jQurLqoejM42"
   },
   "outputs": [
    {
     "data": {
      "text/plain": [
       "{'Gaussian Naive Bayes': 0.7877094972067039,\n",
       " 'Logistic Regression': 0.8100558659217877,\n",
       " 'Random Forest Classifier': 0.8324022346368715}"
      ]
     },
     "execution_count": 140,
     "metadata": {},
     "output_type": "execute_result"
    }
   ],
   "source": [
    "# Vamos importar os classificadores que vamos utilizar e em seguida, criar um dicionário para encapsular os estimadores\n",
    "\n",
    "from sklearn.naive_bayes import GaussianNB\n",
    "from sklearn.linear_model import LogisticRegression\n",
    "from sklearn.ensemble import RandomForestClassifier\n",
    "modelos = {'Gaussian Naive Bayes': GaussianNB() ,\n",
    "           'Logistic Regression': LogisticRegression(max_iter=2500),\n",
    "           'Random Forest Classifier': RandomForestClassifier()}\n",
    "\n",
    "# Vamos criar uma função para treinar, testar e avaliar os modelos\n",
    "\n",
    "def treino_teste_avaliacao (modelos, x_train,y_train, x_val, y_val):\n",
    "    np.random.seed(42)\n",
    "    modelos_scores={}\n",
    "    for nome, modelo in modelos.items():\n",
    "        modelo.fit(x_train,y_train)\n",
    "        modelos_scores[nome] = modelo.score(x_val,y_val)\n",
    "    return modelos_scores\n",
    "treino_teste_avaliacao (modelos, x_train,y_train, x_val, y_val)"
   ]
  },
  {
   "cell_type": "code",
   "execution_count": 141,
   "metadata": {
    "colab": {
     "base_uri": "https://localhost:8080/",
     "height": 425
    },
    "id": "BgOsml0IJ6Xr",
    "outputId": "223ec0cf-91fb-47a5-9f9e-8cac890a37eb"
   },
   "outputs": [
    {
     "name": "stdout",
     "output_type": "stream",
     "text": [
      "Fitting 5 folds for each of 10 candidates, totalling 50 fits\n"
     ]
    },
    {
     "name": "stderr",
     "output_type": "stream",
     "text": [
      "[Parallel(n_jobs=1)]: Using backend SequentialBackend with 1 concurrent workers.\n",
      "[Parallel(n_jobs=1)]: Done  50 out of  50 | elapsed:    0.6s finished\n",
      "[Parallel(n_jobs=1)]: Using backend SequentialBackend with 1 concurrent workers.\n"
     ]
    },
    {
     "name": "stdout",
     "output_type": "stream",
     "text": [
      "Fitting 5 folds for each of 10 candidates, totalling 50 fits\n"
     ]
    },
    {
     "name": "stderr",
     "output_type": "stream",
     "text": [
      "[Parallel(n_jobs=1)]: Done  50 out of  50 | elapsed:   43.5s finished\n"
     ]
    },
    {
     "data": {
      "text/plain": [
       "RandomizedSearchCV(cv=5, estimator=RandomForestClassifier(),\n",
       "                   param_distributions={'max_depth': [None, 3, 5],\n",
       "                                        'min_samples_leaf': array([ 1,  2,  3,  4,  5,  6,  7,  8,  9, 10, 11, 12, 13, 14, 15, 16, 17,\n",
       "       18, 19]),\n",
       "                                        'min_samples_split': array([ 2,  3,  4,  5,  6,  7,  8,  9, 10, 11, 12, 13, 14, 15, 16, 17, 18,\n",
       "       19]),\n",
       "                                        'n_estimators': array([100, 200, 300, 400, 500, 600, 700, 800, 900])},\n",
       "                   verbose=True)"
      ]
     },
     "execution_count": 141,
     "metadata": {},
     "output_type": "execute_result"
    }
   ],
   "source": [
    "# Vamos tentar melhorar os resultados através de ajustes de hiperparâmetros utilizando o RandomizedSearchCV\n",
    "# Para isso, é necessário criar um dicionário contendo os hiperparâmetros dos 2 estimadores escolhidos \n",
    "# *Gaussian Naive Bayes foi descartado pois não pode ser melhorado através de otimização hiperparâmetros\n",
    "np.random.seed(42)\n",
    "logistic_rscv_hype = {'C': np.logspace(-4,4,20),\n",
    "            'solver': ['liblinear']}\n",
    "\n",
    "rand_rscv_hype = {'n_estimators': np.arange(100,1000,100),\n",
    "             'max_depth':[None, 3, 5] ,\n",
    "             'min_samples_split': np.arange(2,20,1),\n",
    "             'min_samples_leaf': np.arange(1,20,1)}\n",
    "\n",
    "from sklearn.model_selection import RandomizedSearchCV, GridSearchCV,cross_val_score, RandomizedSearchCV\n",
    "# Com os dicionários de hiperparâmetros criados, é hora de utilizar o RandomizedSearchCV com o LogisticRegression \n",
    "logistic_rscv = RandomizedSearchCV(LogisticRegression(), param_distributions = logistic_rscv_hype, cv=5, n_iter=10, verbose=True)\n",
    "logistic_rscv.fit(x_train,y_train)\n",
    "\n",
    "\n",
    "# Fazer o mesmo para o Random Forest Classifier\n",
    "rand_rscv = RandomizedSearchCV(RandomForestClassifier(), param_distributions = rand_rscv_hype, cv=5, n_iter=10, verbose=True)\n",
    "rand_rscv.fit(x_train,y_train)\n"
   ]
  },
  {
   "cell_type": "code",
   "execution_count": 142,
   "metadata": {
    "id": "SzJIyVsZRLYt"
   },
   "outputs": [
    {
     "data": {
      "text/plain": [
       "(0.8100558659217877,\n",
       " 0.8212290502793296,\n",
       " {'n_estimators': 200,\n",
       "  'min_samples_split': 16,\n",
       "  'min_samples_leaf': 5,\n",
       "  'max_depth': None})"
      ]
     },
     "execution_count": 142,
     "metadata": {},
     "output_type": "execute_result"
    }
   ],
   "source": [
    "logistic_rscv.score(x_val, y_val),rand_rscv.score(x_val, y_val),rand_rscv.best_params_"
   ]
  },
  {
   "cell_type": "code",
   "execution_count": 143,
   "metadata": {
    "id": "GcLQ3YJkSgDS"
   },
   "outputs": [
    {
     "name": "stdout",
     "output_type": "stream",
     "text": [
      "Fitting 5 folds for each of 20 candidates, totalling 100 fits\n"
     ]
    },
    {
     "name": "stderr",
     "output_type": "stream",
     "text": [
      "[Parallel(n_jobs=1)]: Using backend SequentialBackend with 1 concurrent workers.\n",
      "[Parallel(n_jobs=1)]: Done 100 out of 100 | elapsed:    1.3s finished\n",
      "[Parallel(n_jobs=1)]: Using backend SequentialBackend with 1 concurrent workers.\n"
     ]
    },
    {
     "name": "stdout",
     "output_type": "stream",
     "text": [
      "Fitting 5 folds for each of 4 candidates, totalling 20 fits\n"
     ]
    },
    {
     "name": "stderr",
     "output_type": "stream",
     "text": [
      "[Parallel(n_jobs=1)]: Done  20 out of  20 | elapsed:   34.0s finished\n"
     ]
    },
    {
     "data": {
      "text/plain": [
       "GridSearchCV(cv=5, estimator=RandomForestClassifier(),\n",
       "             param_grid={'max_depth': [None], 'min_samples_leaf': [1],\n",
       "                         'min_samples_split': [2],\n",
       "                         'n_estimators': array([600, 700, 800, 900])},\n",
       "             verbose=True)"
      ]
     },
     "execution_count": 143,
     "metadata": {},
     "output_type": "execute_result"
    }
   ],
   "source": [
    "# Com o objetivo de melhorar os resultados, vamos tentar o GridSearchCV:\n",
    "logistic_gscv_hype = {'C': np.logspace(-4,4,20),\n",
    "                      'solver': ['liblinear']}\n",
    "\n",
    "rand_gscv_hype = {'n_estimators': np.arange(600,1000,100),\n",
    "             'max_depth':[None] ,\n",
    "             'min_samples_split': [2],\n",
    "             'min_samples_leaf': [1]}\n",
    "np.random.seed(42)\n",
    "#Com os dicionários de hiperparâmetros criados, é hora de utilizar o GridSearchCV com o LogisticRegression\n",
    "logistic_gscv = GridSearchCV(LogisticRegression(), param_grid = logistic_gscv_hype, cv=5, verbose=True)\n",
    "logistic_gscv.fit(x_train,y_train)\n",
    "\n",
    "\n",
    "# Fazer o mesmo para o Random Forest Classifier\n",
    "rand_gscv = GridSearchCV(RandomForestClassifier(), param_grid = rand_gscv_hype , cv=5, verbose=True)\n",
    "rand_gscv.fit(x_train,y_train)\n",
    "\n"
   ]
  },
  {
   "cell_type": "code",
   "execution_count": 156,
   "metadata": {},
   "outputs": [],
   "source": [
    "# Vamos criar uma variável para receber o n_estimators e usá-lo como parâmetro a seguir\n",
    "n_est = rand_gscv.best_params_['n_estimators']\n"
   ]
  },
  {
   "cell_type": "code",
   "execution_count": 157,
   "metadata": {
    "id": "7_G4V0vE8gr8"
   },
   "outputs": [
    {
     "data": {
      "text/plain": [
       "PassengerId      0\n",
       "Pclass           0\n",
       "Name             0\n",
       "Sex              0\n",
       "Age             86\n",
       "SibSp            0\n",
       "Parch            0\n",
       "Ticket           0\n",
       "Fare             1\n",
       "Cabin          327\n",
       "Embarked         0\n",
       "dtype: int64"
      ]
     },
     "execution_count": 157,
     "metadata": {},
     "output_type": "execute_result"
    }
   ],
   "source": [
    "# Com o gridsearch, foi um obtido um resultado melhor para o random forest. Agora é necessário gerar os preditct values e fazer o upload pra verificar a pontuação\n",
    "x_test = pd.read_csv('https://raw.githubusercontent.com/alessandraearaujo/Data-Science-Machine-Learning/main/titanic-competition/test.csv')\n",
    "\n",
    "# Para a base de testes, será necessário fazer os mesmos tratamentos de base feitos anteriormente\n",
    "x_test.isna().sum()"
   ]
  },
  {
   "cell_type": "code",
   "execution_count": 158,
   "metadata": {},
   "outputs": [
    {
     "data": {
      "text/plain": [
       "PassengerId      0\n",
       "Pclass           0\n",
       "Name             0\n",
       "Sex              0\n",
       "Age              0\n",
       "SibSp            0\n",
       "Parch            0\n",
       "Ticket           0\n",
       "Fare             0\n",
       "Cabin          327\n",
       "Embarked         0\n",
       "dtype: int64"
      ]
     },
     "execution_count": 158,
     "metadata": {},
     "output_type": "execute_result"
    }
   ],
   "source": [
    "# Inputar a média de idade e fare nos Nan\n",
    "for label, content in x_test.items():\n",
    "    if pd.api.types.is_numeric_dtype(content):\n",
    "        if pd.isnull(content).sum():\n",
    "            x_test['Age'] = x_test['Age'].fillna(content.median())\n",
    "            x_test['Fare'] = x_test['Fare'].fillna(content.median())\n",
    "x_test.isna().sum()"
   ]
  },
  {
   "cell_type": "code",
   "execution_count": 159,
   "metadata": {},
   "outputs": [
    {
     "name": "stdout",
     "output_type": "stream",
     "text": [
      "<class 'pandas.core.frame.DataFrame'>\n",
      "RangeIndex: 418 entries, 0 to 417\n",
      "Data columns (total 11 columns):\n",
      " #   Column       Non-Null Count  Dtype  \n",
      "---  ------       --------------  -----  \n",
      " 0   PassengerId  418 non-null    int64  \n",
      " 1   Pclass       418 non-null    int64  \n",
      " 2   Name         418 non-null    int16  \n",
      " 3   Sex          418 non-null    int8   \n",
      " 4   Age          418 non-null    float64\n",
      " 5   SibSp        418 non-null    int64  \n",
      " 6   Parch        418 non-null    int64  \n",
      " 7   Ticket       418 non-null    int16  \n",
      " 8   Fare         418 non-null    float64\n",
      " 9   Cabin        418 non-null    int8   \n",
      " 10  Embarked     418 non-null    int8   \n",
      "dtypes: float64(2), int16(2), int64(4), int8(3)\n",
      "memory usage: 22.6 KB\n"
     ]
    },
    {
     "data": {
      "text/plain": [
       "(None,\n",
       " PassengerId    0\n",
       " Pclass         0\n",
       " Name           0\n",
       " Sex            0\n",
       " Age            0\n",
       " SibSp          0\n",
       " Parch          0\n",
       " Ticket         0\n",
       " Fare           0\n",
       " Cabin          0\n",
       " Embarked       0\n",
       " dtype: int64)"
      ]
     },
     "execution_count": 159,
     "metadata": {},
     "output_type": "execute_result"
    }
   ],
   "source": [
    "# Em campos categóricos vazios, o código que traz a informação de campo vazio é -1. Por isso, ao somar +1, os campos vazios passam a ter código = 0 e os campos que já possuiam algum valor ficam com código = [código + 1].\n",
    "  \n",
    "for label, content in x_test.items():\n",
    "    if not pd.api.types.is_numeric_dtype(content):\n",
    "        if pd.isnull:\n",
    "            x_test[label] = pd.Categorical(content).codes+1\n",
    "x_test.info(), x_test.isna().sum()"
   ]
  },
  {
   "cell_type": "code",
   "execution_count": 160,
   "metadata": {},
   "outputs": [],
   "source": [
    "np.random.seed(42)\n",
    "melhor_modelo = RandomForestClassifier(n_estimators=n_est)\n",
    "melhor_modelo.fit(x_train,y_train)\n",
    "melhor_modelo.score(x_val,y_val)\n",
    "y_preds = melhor_modelo.predict(x_test)\n"
   ]
  },
  {
   "cell_type": "code",
   "execution_count": 161,
   "metadata": {},
   "outputs": [
    {
     "data": {
      "text/plain": [
       "0.8435754189944135"
      ]
     },
     "execution_count": 161,
     "metadata": {},
     "output_type": "execute_result"
    }
   ],
   "source": [
    "kaggle = pd.DataFrame()\n",
    "kaggle['PassengerId'] = x_test['PassengerId']\n",
    "kaggle['Survived'] = y_preds\n",
    "kaggle.to_csv('kaggle.csv', index=False)\n",
    "rand_gscv.score(x_val,y_val)"
   ]
  },
  {
   "cell_type": "code",
   "execution_count": 162,
   "metadata": {},
   "outputs": [
    {
     "data": {
      "text/plain": [
       "0.8435754189944135"
      ]
     },
     "execution_count": 162,
     "metadata": {},
     "output_type": "execute_result"
    }
   ],
   "source": [
    "# A pontuação para o modelo: 0.8435754189944135\n",
    "rand_gscv.score(x_val,y_val)"
   ]
  },
  {
   "cell_type": "code",
   "execution_count": null,
   "metadata": {},
   "outputs": [],
   "source": [
    "# No futuro, é necessário pensar em formas de fazer alguma engenharia nos dado para obter resultados melhores!"
   ]
  }
 ],
 "metadata": {
  "colab": {
   "name": "titanic-competition.ipynb",
   "provenance": []
  },
  "kernelspec": {
   "display_name": "Python 3",
   "language": "python",
   "name": "python3"
  },
  "language_info": {
   "codemirror_mode": {
    "name": "ipython",
    "version": 3
   },
   "file_extension": ".py",
   "mimetype": "text/x-python",
   "name": "python",
   "nbconvert_exporter": "python",
   "pygments_lexer": "ipython3",
   "version": "3.8.5"
  }
 },
 "nbformat": 4,
 "nbformat_minor": 4
}
