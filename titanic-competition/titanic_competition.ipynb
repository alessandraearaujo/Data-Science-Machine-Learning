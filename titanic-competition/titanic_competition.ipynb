{
  "nbformat": 4,
  "nbformat_minor": 0,
  "metadata": {
    "colab": {
      "name": "titanic-competition.ipynb",
      "provenance": []
    },
    "kernelspec": {
      "name": "python3",
      "display_name": "Python 3"
    }
  },
  "cells": [
    {
      "cell_type": "markdown",
      "metadata": {
        "id": "ydUbqT75wWRV"
      },
      "source": [
        "# Quais passageiros sobreviveriam ao acidente do Titanic? \n",
        "\n",
        "# 1. Introdução\n",
        "O objetivo deste estudo é prever, baseado na idade, sexo e outros atributos, se uma pessoa sobreviveria ao acidente ou não. Este projeto é baseado na competição do Kaggle, disponível em: https://www.kaggle.com/c/titanic/.\n",
        "\n",
        "# 2. Dados\n",
        "\n",
        "A base de dados utilizada consiste em uma base de treino (train.csv), que possui os atributos dos passageiros e a informação se ele sobreviveu ou não ao desastre, composta de 891 linhas. Esta base será utilizada treinar e validar o modelo de Machine Learning que pretendemos desevolver.\n",
        "\n",
        "Aleḿ da base de treino, também utilizaremos a base de teste (test.csv) onde são disponibilizados atributos de passageiros, mas não é informado se eles sobreviveram ao não ao desastre. Nosso objetivo é utilizar o modelo desenvolvido para prever resultados para a base de testes, para posteriormente enviá-los para a avaliação da plataforma Kaggle, que deverá avaliar a precisão do modelo desenvolvido com base nos resultados.\n",
        "\n",
        "Os atributos dos passageiros e suas variáveis são listados a seguir:\n",
        "\n",
        "*   PassengerId: id de 1 a 891\n",
        "*   Survived: 0 = Sobreviveu , 1 = Não sobreviveu\n",
        "*   Pclass (classe): Alta, Média, Baixa\n",
        "*   Name: nome\n",
        "*   Sex: feminino, masculino\n",
        "*   Age (idade): É fracional se menor do que 1. Se estimada, é xx.5\n",
        "*   SibSp (quantidade de parentes a bordo com parentesco de irmão, marido, esposa): 0 a 8\n",
        "*   Parch (quantidade de parentes a bordo com parentesco de mãe, pai, filho, filha): 0 a 6\n",
        "*   Ticket: número do ticket\n",
        "*   Fare: tarifa do passageiro \n",
        "*   Cabin: número da cabine\n",
        "*   Embarked: C = Cherbourg, Q = Queenstown, S = Southampton\n",
        "\n",
        "\n",
        "# 3. WorKflow\n",
        "\n",
        "Para desenvolver o modelo, adotaremos o seguinte Worflow:\n",
        "\n",
        "> \n",
        "1. Importação de dados de treino\n",
        "2. Análise da base de dados (verificação de valores faltantes e métodos possíveis para tratar estes dados)\n",
        "3. Definição do modelo de Machine Learning divisão da base de treino e validação\n",
        "4. Avaliação dos modelos\n",
        "5. Ajustes de hiperparâmetros\n",
        "6. Comparação dos modelos e conclusão"
      ]
    },
    {
      "cell_type": "code",
      "metadata": {
        "id": "0dPlurhEwNDB"
      },
      "source": [
        "# Importando as primeiras ferramentas...\n",
        "import pandas as pd\n",
        "import numpy as np"
      ],
      "execution_count": 18,
      "outputs": []
    },
    {
      "cell_type": "code",
      "metadata": {
        "id": "c2bAWZley3_C"
      },
      "source": [
        "# Importando os dados de treino...\n",
        "df = pd.read_csv('https://raw.githubusercontent.com/ms-r0bot/Data-Science-Machine-Learning/main/titanic-competition/train.csv')"
      ],
      "execution_count": 47,
      "outputs": []
    },
    {
      "cell_type": "code",
      "metadata": {
        "colab": {
          "base_uri": "https://localhost:8080/"
        },
        "id": "RSLiMP1AzkeO",
        "outputId": "ef556bb3-2137-486f-e1dd-1e662e89fecf"
      },
      "source": [
        "# Obtendo informações gerais sobre os dados...\n",
        "df.info()"
      ],
      "execution_count": 48,
      "outputs": [
        {
          "output_type": "stream",
          "text": [
            "<class 'pandas.core.frame.DataFrame'>\n",
            "RangeIndex: 891 entries, 0 to 890\n",
            "Data columns (total 12 columns):\n",
            " #   Column       Non-Null Count  Dtype  \n",
            "---  ------       --------------  -----  \n",
            " 0   PassengerId  891 non-null    int64  \n",
            " 1   Survived     891 non-null    int64  \n",
            " 2   Pclass       891 non-null    int64  \n",
            " 3   Name         891 non-null    object \n",
            " 4   Sex          891 non-null    object \n",
            " 5   Age          714 non-null    float64\n",
            " 6   SibSp        891 non-null    int64  \n",
            " 7   Parch        891 non-null    int64  \n",
            " 8   Ticket       891 non-null    object \n",
            " 9   Fare         891 non-null    float64\n",
            " 10  Cabin        204 non-null    object \n",
            " 11  Embarked     889 non-null    object \n",
            "dtypes: float64(2), int64(5), object(5)\n",
            "memory usage: 83.7+ KB\n"
          ],
          "name": "stdout"
        }
      ]
    },
    {
      "cell_type": "code",
      "metadata": {
        "colab": {
          "base_uri": "https://localhost:8080/"
        },
        "id": "802u00BH4wpZ",
        "outputId": "c3ff4341-7b04-460e-cb01-1c48caed339b"
      },
      "source": [
        "# Verificando se existem colunas com dados faltando...\n",
        "df.isna().sum()"
      ],
      "execution_count": 49,
      "outputs": [
        {
          "output_type": "execute_result",
          "data": {
            "text/plain": [
              "PassengerId      0\n",
              "Survived         0\n",
              "Pclass           0\n",
              "Name             0\n",
              "Sex              0\n",
              "Age            177\n",
              "SibSp            0\n",
              "Parch            0\n",
              "Ticket           0\n",
              "Fare             0\n",
              "Cabin          687\n",
              "Embarked         2\n",
              "dtype: int64"
            ]
          },
          "metadata": {
            "tags": []
          },
          "execution_count": 49
        }
      ]
    },
    {
      "cell_type": "code",
      "metadata": {
        "colab": {
          "base_uri": "https://localhost:8080/"
        },
        "id": "T4JXJIBe682T",
        "outputId": "9458417a-dc92-4337-ed9f-d748c75cf706"
      },
      "source": [
        "# Vamos começar a tratar os dados. \n",
        "# Primeiramente, a idade: existem 177 valores faltando, então vamos preencher estes valores com a média das idades dos demais passageiros\n",
        "\n",
        "for label, content in df.items():\n",
        "    if pd.api.types.is_numeric_dtype(content):\n",
        "        if pd.isnull(content).sum():\n",
        "            df[label] = content.fillna(content.median())\n",
        "df.isna().sum()"
      ],
      "execution_count": 58,
      "outputs": [
        {
          "output_type": "execute_result",
          "data": {
            "text/plain": [
              "PassengerId      0\n",
              "Survived         0\n",
              "Pclass           0\n",
              "Name             0\n",
              "Sex              0\n",
              "Age              0\n",
              "SibSp            0\n",
              "Parch            0\n",
              "Ticket           0\n",
              "Fare             0\n",
              "Cabin          687\n",
              "Embarked         2\n",
              "dtype: int64"
            ]
          },
          "metadata": {
            "tags": []
          },
          "execution_count": 58
        }
      ]
    },
    {
      "cell_type": "code",
      "metadata": {
        "id": "etGnHl5GBW49"
      },
      "source": [
        "cabines = df.Cabin.unique()"
      ],
      "execution_count": 71,
      "outputs": []
    },
    {
      "cell_type": "code",
      "metadata": {
        "colab": {
          "base_uri": "https://localhost:8080/",
          "height": 129
        },
        "id": "MnhXlIlfCweV",
        "outputId": "cad335fb-3c0f-45a9-9c6a-be3261acae9e"
      },
      "source": [
        "df.sort_values(by=['Cabin','Ticket']).head(60)"
      ],
      "execution_count": 103,
      "outputs": [
        {
          "output_type": "error",
          "ename": "SyntaxError",
          "evalue": "ignored",
          "traceback": [
            "\u001b[0;36m  File \u001b[0;32m\"<ipython-input-103-210c5524fbba>\"\u001b[0;36m, line \u001b[0;32m1\u001b[0m\n\u001b[0;31m    df.sort_values(by=['Cabin','Ticket'], df['Ticket'] = [1601]).head(60)\u001b[0m\n\u001b[0m                                         ^\u001b[0m\n\u001b[0;31mSyntaxError\u001b[0m\u001b[0;31m:\u001b[0m keyword can't be an expression\n"
          ]
        }
      ]
    },
    {
      "cell_type": "code",
      "metadata": {
        "id": "EysIMhbkDI3q"
      },
      "source": [
        ""
      ],
      "execution_count": null,
      "outputs": []
    }
  ]
}