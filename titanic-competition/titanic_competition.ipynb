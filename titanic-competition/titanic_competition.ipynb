{
  "nbformat": 4,
  "nbformat_minor": 0,
  "metadata": {
    "colab": {
      "name": "titanic-competition.ipynb",
      "provenance": []
    },
    "kernelspec": {
      "name": "python3",
      "display_name": "Python 3"
    }
  },
  "cells": [
    {
      "cell_type": "markdown",
      "metadata": {
        "id": "ydUbqT75wWRV"
      },
      "source": [
        "# Quais passageiros sobreviveriam ao acidente do Titanic? \n",
        "\n",
        "# 1. Introdução\n",
        "O objetivo deste estudo é prever, baseado na idade, sexo e outros atributos, se uma pessoa sobreviveria ao acidente ou não. Este projeto é baseado na competição do Kaggle, disponível em: https://www.kaggle.com/c/titanic/.\n",
        "\n",
        "# 2. Dados\n",
        "\n",
        "A base de dados utilizada consiste em uma base de treino (train.csv), que possui os atributos dos passageiros e a informação se ele sobreviveu ou não ao desastre, composta de 891 linhas. Esta base será utilizada treinar e validar o modelo de Machine Learning que pretendemos desevolver.\n",
        "\n",
        "Aleḿ da base de treino, também utilizaremos a base de teste (test.csv) onde são disponibilizados atributos de passageiros, mas não é informado se eles sobreviveram ao não ao desastre. Nosso objetivo é utilizar o modelo desenvolvido para prever resultados para a base de testes, para posteriormente enviá-los para a avaliação da plataforma Kaggle, que deverá avaliar a precisão do modelo desenvolvido com base nos resultados.\n",
        "\n",
        "Os atributos dos passageiros e suas variáveis são listados a seguir:\n",
        "\n",
        "*   PassengerId: id de 1 a 891\n",
        "*   Survived: 0 = Sobreviveu , 1 = Não sobreviveu\n",
        "*   Pclass (classe): Alta, Média, Baixa\n",
        "*   Name: nome\n",
        "*   Sex: feminino, masculino\n",
        "*   Age (idade): É fracional se menor do que 1. Se estimada, é xx.5\n",
        "*   SibSp (quantidade de parentes a bordo com parentesco de irmão, marido, esposa): 0 a 8\n",
        "*   Parch (quantidade de parentes a bordo com parentesco de mãe, pai, filho, filha): 0 a 6\n",
        "*   Ticket: número do ticket\n",
        "*   Fare: tarifa do passageiro \n",
        "*   Cabin: número da cabine\n",
        "*   Embarked: C = Cherbourg, Q = Queenstown, S = Southampton\n",
        "\n",
        "\n",
        "# 3. WorKflow\n",
        "\n",
        "Para desenvolver o modelo, adotaremos o seguinte Worflow:\n",
        "\n",
        "> \n",
        "1. Importação de dados de treino\n",
        "2. Análise da base de dados (verificação de valores faltantes e métodos possíveis para tratar estes dados)\n",
        "3. Definição do modelo de Machine Learning divisão da base de treino e validação\n",
        "4. Avaliação dos modelos\n",
        "5. Ajustes de hiperparâmetros\n",
        "6. Comparação dos modelos e conclusão"
      ]
    },
    {
      "cell_type": "code",
      "metadata": {
        "id": "0dPlurhEwNDB"
      },
      "source": [
        "# Importando as primeiras ferramentas...\n",
        "import pandas as pd\n",
        "import numpy as np"
      ],
      "execution_count": 59,
      "outputs": []
    },
    {
      "cell_type": "code",
      "metadata": {
        "id": "c2bAWZley3_C"
      },
      "source": [
        "# Importando os dados de treino...\n",
        "df = pd.read_csv('https://raw.githubusercontent.com/ms-r0bot/Data-Science-Machine-Learning/main/titanic-competition/train.csv')"
      ],
      "execution_count": 60,
      "outputs": []
    },
    {
      "cell_type": "code",
      "metadata": {
        "colab": {
          "base_uri": "https://localhost:8080/"
        },
        "id": "RSLiMP1AzkeO",
        "outputId": "10d15a27-8e55-4cc4-e066-7efcc26709e8"
      },
      "source": [
        "# Obtendo informações gerais sobre os dados...\n",
        "df.info()"
      ],
      "execution_count": 61,
      "outputs": [
        {
          "output_type": "stream",
          "text": [
            "<class 'pandas.core.frame.DataFrame'>\n",
            "RangeIndex: 891 entries, 0 to 890\n",
            "Data columns (total 12 columns):\n",
            " #   Column       Non-Null Count  Dtype  \n",
            "---  ------       --------------  -----  \n",
            " 0   PassengerId  891 non-null    int64  \n",
            " 1   Survived     891 non-null    int64  \n",
            " 2   Pclass       891 non-null    int64  \n",
            " 3   Name         891 non-null    object \n",
            " 4   Sex          891 non-null    object \n",
            " 5   Age          714 non-null    float64\n",
            " 6   SibSp        891 non-null    int64  \n",
            " 7   Parch        891 non-null    int64  \n",
            " 8   Ticket       891 non-null    object \n",
            " 9   Fare         891 non-null    float64\n",
            " 10  Cabin        204 non-null    object \n",
            " 11  Embarked     889 non-null    object \n",
            "dtypes: float64(2), int64(5), object(5)\n",
            "memory usage: 83.7+ KB\n"
          ],
          "name": "stdout"
        }
      ]
    },
    {
      "cell_type": "code",
      "metadata": {
        "colab": {
          "base_uri": "https://localhost:8080/"
        },
        "id": "802u00BH4wpZ",
        "outputId": "ad3b361e-5b39-4a67-b4b7-f75af1eddd04"
      },
      "source": [
        "# Verificando se existem colunas com dados faltando...\n",
        "df.isna().sum()"
      ],
      "execution_count": 62,
      "outputs": [
        {
          "output_type": "execute_result",
          "data": {
            "text/plain": [
              "PassengerId      0\n",
              "Survived         0\n",
              "Pclass           0\n",
              "Name             0\n",
              "Sex              0\n",
              "Age            177\n",
              "SibSp            0\n",
              "Parch            0\n",
              "Ticket           0\n",
              "Fare             0\n",
              "Cabin          687\n",
              "Embarked         2\n",
              "dtype: int64"
            ]
          },
          "metadata": {
            "tags": []
          },
          "execution_count": 62
        }
      ]
    },
    {
      "cell_type": "code",
      "metadata": {
        "colab": {
          "base_uri": "https://localhost:8080/"
        },
        "id": "T4JXJIBe682T",
        "outputId": "d41262d5-109b-4b81-9bf9-2a24ca113400"
      },
      "source": [
        "# Vamos começar a tratar os dados. \n",
        "# Primeiramente, a idade: existem 177 valores faltando, então vamos preencher estes valores com a média das idades dos demais passageiros\n",
        "\n",
        "for label, content in df.items():\n",
        "    if pd.api.types.is_numeric_dtype(content):\n",
        "        if pd.isnull(content).sum():\n",
        "            df['Age'] = df['Age'].fillna(content.median())\n",
        "df.isna().sum()"
      ],
      "execution_count": 63,
      "outputs": [
        {
          "output_type": "execute_result",
          "data": {
            "text/plain": [
              "PassengerId      0\n",
              "Survived         0\n",
              "Pclass           0\n",
              "Name             0\n",
              "Sex              0\n",
              "Age              0\n",
              "SibSp            0\n",
              "Parch            0\n",
              "Ticket           0\n",
              "Fare             0\n",
              "Cabin          687\n",
              "Embarked         2\n",
              "dtype: int64"
            ]
          },
          "metadata": {
            "tags": []
          },
          "execution_count": 63
        }
      ]
    },
    {
      "cell_type": "code",
      "metadata": {
        "colab": {
          "base_uri": "https://localhost:8080/",
          "height": 204
        },
        "id": "MnhXlIlfCweV",
        "outputId": "ae2dde22-3e7d-4b32-f5d1-42990a1460a8"
      },
      "source": [
        "# Existem muitos dados de cabine faltando e não parece haver nenhum padrão lógico que nos permita inferir como eles estão relacionados.\n",
        "# Portanto, será necessário fazer alguma pesquisa para entender a lógica de \"encabinamento\" do Titanic\n",
        "df.sort_values(by=['Cabin'], ascending=True,na_position='last').head(5)"
      ],
      "execution_count": 64,
      "outputs": [
        {
          "output_type": "execute_result",
          "data": {
            "text/html": [
              "<div>\n",
              "<style scoped>\n",
              "    .dataframe tbody tr th:only-of-type {\n",
              "        vertical-align: middle;\n",
              "    }\n",
              "\n",
              "    .dataframe tbody tr th {\n",
              "        vertical-align: top;\n",
              "    }\n",
              "\n",
              "    .dataframe thead th {\n",
              "        text-align: right;\n",
              "    }\n",
              "</style>\n",
              "<table border=\"1\" class=\"dataframe\">\n",
              "  <thead>\n",
              "    <tr style=\"text-align: right;\">\n",
              "      <th></th>\n",
              "      <th>PassengerId</th>\n",
              "      <th>Survived</th>\n",
              "      <th>Pclass</th>\n",
              "      <th>Name</th>\n",
              "      <th>Sex</th>\n",
              "      <th>Age</th>\n",
              "      <th>SibSp</th>\n",
              "      <th>Parch</th>\n",
              "      <th>Ticket</th>\n",
              "      <th>Fare</th>\n",
              "      <th>Cabin</th>\n",
              "      <th>Embarked</th>\n",
              "    </tr>\n",
              "  </thead>\n",
              "  <tbody>\n",
              "    <tr>\n",
              "      <th>583</th>\n",
              "      <td>584</td>\n",
              "      <td>0</td>\n",
              "      <td>1</td>\n",
              "      <td>Ross, Mr. John Hugo</td>\n",
              "      <td>male</td>\n",
              "      <td>36.0</td>\n",
              "      <td>0</td>\n",
              "      <td>0</td>\n",
              "      <td>13049</td>\n",
              "      <td>40.1250</td>\n",
              "      <td>A10</td>\n",
              "      <td>C</td>\n",
              "    </tr>\n",
              "    <tr>\n",
              "      <th>475</th>\n",
              "      <td>476</td>\n",
              "      <td>0</td>\n",
              "      <td>1</td>\n",
              "      <td>Clifford, Mr. George Quincy</td>\n",
              "      <td>male</td>\n",
              "      <td>28.0</td>\n",
              "      <td>0</td>\n",
              "      <td>0</td>\n",
              "      <td>110465</td>\n",
              "      <td>52.0000</td>\n",
              "      <td>A14</td>\n",
              "      <td>S</td>\n",
              "    </tr>\n",
              "    <tr>\n",
              "      <th>556</th>\n",
              "      <td>557</td>\n",
              "      <td>1</td>\n",
              "      <td>1</td>\n",
              "      <td>Duff Gordon, Lady. (Lucille Christiana Sutherl...</td>\n",
              "      <td>female</td>\n",
              "      <td>48.0</td>\n",
              "      <td>1</td>\n",
              "      <td>0</td>\n",
              "      <td>11755</td>\n",
              "      <td>39.6000</td>\n",
              "      <td>A16</td>\n",
              "      <td>C</td>\n",
              "    </tr>\n",
              "    <tr>\n",
              "      <th>284</th>\n",
              "      <td>285</td>\n",
              "      <td>0</td>\n",
              "      <td>1</td>\n",
              "      <td>Smith, Mr. Richard William</td>\n",
              "      <td>male</td>\n",
              "      <td>28.0</td>\n",
              "      <td>0</td>\n",
              "      <td>0</td>\n",
              "      <td>113056</td>\n",
              "      <td>26.0000</td>\n",
              "      <td>A19</td>\n",
              "      <td>S</td>\n",
              "    </tr>\n",
              "    <tr>\n",
              "      <th>599</th>\n",
              "      <td>600</td>\n",
              "      <td>1</td>\n",
              "      <td>1</td>\n",
              "      <td>Duff Gordon, Sir. Cosmo Edmund (\"Mr Morgan\")</td>\n",
              "      <td>male</td>\n",
              "      <td>49.0</td>\n",
              "      <td>1</td>\n",
              "      <td>0</td>\n",
              "      <td>PC 17485</td>\n",
              "      <td>56.9292</td>\n",
              "      <td>A20</td>\n",
              "      <td>C</td>\n",
              "    </tr>\n",
              "  </tbody>\n",
              "</table>\n",
              "</div>"
            ],
            "text/plain": [
              "     PassengerId  Survived  Pclass  ...     Fare Cabin  Embarked\n",
              "583          584         0       1  ...  40.1250   A10         C\n",
              "475          476         0       1  ...  52.0000   A14         S\n",
              "556          557         1       1  ...  39.6000   A16         C\n",
              "284          285         0       1  ...  26.0000   A19         S\n",
              "599          600         1       1  ...  56.9292   A20         C\n",
              "\n",
              "[5 rows x 12 columns]"
            ]
          },
          "metadata": {
            "tags": []
          },
          "execution_count": 64
        }
      ]
    },
    {
      "cell_type": "code",
      "metadata": {
        "id": "EysIMhbkDI3q",
        "colab": {
          "base_uri": "https://localhost:8080/"
        },
        "outputId": "76b13515-5c81-418b-fa43-5266b3908281"
      },
      "source": [
        "# Após alguma pesquisa, foi possível descobrir que as cabines eram formadas pelas letras A,B,C,D E,F, G e T, que identificavam os decks.\n",
        "# Talvez seja interessante separar a numeração das letras para melhorar o entendimento do algorítmo.\n",
        "cabines = df['Cabin'].unique()\n",
        "cabines"
      ],
      "execution_count": 65,
      "outputs": [
        {
          "output_type": "execute_result",
          "data": {
            "text/plain": [
              "array([nan, 'C85', 'C123', 'E46', 'G6', 'C103', 'D56', 'A6',\n",
              "       'C23 C25 C27', 'B78', 'D33', 'B30', 'C52', 'B28', 'C83', 'F33',\n",
              "       'F G73', 'E31', 'A5', 'D10 D12', 'D26', 'C110', 'B58 B60', 'E101',\n",
              "       'F E69', 'D47', 'B86', 'F2', 'C2', 'E33', 'B19', 'A7', 'C49', 'F4',\n",
              "       'A32', 'B4', 'B80', 'A31', 'D36', 'D15', 'C93', 'C78', 'D35',\n",
              "       'C87', 'B77', 'E67', 'B94', 'C125', 'C99', 'C118', 'D7', 'A19',\n",
              "       'B49', 'D', 'C22 C26', 'C106', 'C65', 'E36', 'C54',\n",
              "       'B57 B59 B63 B66', 'C7', 'E34', 'C32', 'B18', 'C124', 'C91', 'E40',\n",
              "       'T', 'C128', 'D37', 'B35', 'E50', 'C82', 'B96 B98', 'E10', 'E44',\n",
              "       'A34', 'C104', 'C111', 'C92', 'E38', 'D21', 'E12', 'E63', 'A14',\n",
              "       'B37', 'C30', 'D20', 'B79', 'E25', 'D46', 'B73', 'C95', 'B38',\n",
              "       'B39', 'B22', 'C86', 'C70', 'A16', 'C101', 'C68', 'A10', 'E68',\n",
              "       'B41', 'A20', 'D19', 'D50', 'D9', 'A23', 'B50', 'A26', 'D48',\n",
              "       'E58', 'C126', 'B71', 'B51 B53 B55', 'D49', 'B5', 'B20', 'F G63',\n",
              "       'C62 C64', 'E24', 'C90', 'C45', 'E8', 'B101', 'D45', 'C46', 'D30',\n",
              "       'E121', 'D11', 'E77', 'F38', 'B3', 'D6', 'B82 B84', 'D17', 'A36',\n",
              "       'B102', 'B69', 'E49', 'C47', 'D28', 'E17', 'A24', 'C50', 'B42',\n",
              "       'C148'], dtype=object)"
            ]
          },
          "metadata": {
            "tags": []
          },
          "execution_count": 65
        }
      ]
    },
    {
      "cell_type": "code",
      "metadata": {
        "id": "lpvs5Hg4vSYf"
      },
      "source": [
        "# Vamos criar uma coluna para receber somente a letra referente ao Deck\n",
        "df['Deck'] = df['Cabin'].str.extract(r'([ABCDEFGT])')"
      ],
      "execution_count": 66,
      "outputs": []
    },
    {
      "cell_type": "code",
      "metadata": {
        "id": "wSQZ-gTN87F6"
      },
      "source": [
        "# Vamos criar uma coluna para receber somente a letra referente ao Deck\n",
        "df['Num'] = df['Cabin'].str.extract(r'([0-9]*$)')"
      ],
      "execution_count": 67,
      "outputs": []
    },
    {
      "cell_type": "code",
      "metadata": {
        "id": "rP9-Ilz_Gkl2",
        "colab": {
          "base_uri": "https://localhost:8080/"
        },
        "outputId": "2c408dac-1769-43b2-8be0-7f1b209f8882"
      },
      "source": [
        "df.info()"
      ],
      "execution_count": 68,
      "outputs": [
        {
          "output_type": "stream",
          "text": [
            "<class 'pandas.core.frame.DataFrame'>\n",
            "RangeIndex: 891 entries, 0 to 890\n",
            "Data columns (total 14 columns):\n",
            " #   Column       Non-Null Count  Dtype  \n",
            "---  ------       --------------  -----  \n",
            " 0   PassengerId  891 non-null    int64  \n",
            " 1   Survived     891 non-null    int64  \n",
            " 2   Pclass       891 non-null    int64  \n",
            " 3   Name         891 non-null    object \n",
            " 4   Sex          891 non-null    object \n",
            " 5   Age          891 non-null    float64\n",
            " 6   SibSp        891 non-null    int64  \n",
            " 7   Parch        891 non-null    int64  \n",
            " 8   Ticket       891 non-null    object \n",
            " 9   Fare         891 non-null    float64\n",
            " 10  Cabin        204 non-null    object \n",
            " 11  Embarked     889 non-null    object \n",
            " 12  Deck         204 non-null    object \n",
            " 13  Num          204 non-null    object \n",
            "dtypes: float64(2), int64(5), object(7)\n",
            "memory usage: 97.6+ KB\n"
          ],
          "name": "stdout"
        }
      ]
    },
    {
      "cell_type": "code",
      "metadata": {
        "id": "2qTQZV68DZHY",
        "colab": {
          "base_uri": "https://localhost:8080/"
        },
        "outputId": "919bd1d3-ce5e-40d6-ca8c-0628cceaf7ac"
      },
      "source": [
        "# O próximo passo para o tratamento é transformar os dados do tipo string (object) em tipo categoria.\n",
        "\n",
        "for label, content in df.items():\n",
        "    if pd.api.types.is_string_dtype(content):\n",
        "        df[label] = content.astype(\"category\").cat.as_ordered()\n",
        "df.info()"
      ],
      "execution_count": 69,
      "outputs": [
        {
          "output_type": "stream",
          "text": [
            "<class 'pandas.core.frame.DataFrame'>\n",
            "RangeIndex: 891 entries, 0 to 890\n",
            "Data columns (total 14 columns):\n",
            " #   Column       Non-Null Count  Dtype   \n",
            "---  ------       --------------  -----   \n",
            " 0   PassengerId  891 non-null    int64   \n",
            " 1   Survived     891 non-null    int64   \n",
            " 2   Pclass       891 non-null    int64   \n",
            " 3   Name         891 non-null    category\n",
            " 4   Sex          891 non-null    category\n",
            " 5   Age          891 non-null    float64 \n",
            " 6   SibSp        891 non-null    int64   \n",
            " 7   Parch        891 non-null    int64   \n",
            " 8   Ticket       891 non-null    category\n",
            " 9   Fare         891 non-null    float64 \n",
            " 10  Cabin        204 non-null    category\n",
            " 11  Embarked     889 non-null    category\n",
            " 12  Deck         204 non-null    category\n",
            " 13  Num          204 non-null    category\n",
            "dtypes: category(7), float64(2), int64(5)\n",
            "memory usage: 139.8 KB\n"
          ],
          "name": "stdout"
        }
      ]
    },
    {
      "cell_type": "code",
      "metadata": {
        "id": "5CUBPW4iHGM6",
        "colab": {
          "base_uri": "https://localhost:8080/"
        },
        "outputId": "86549298-0609-4e3c-83ea-ac9736bf7702"
      },
      "source": [
        "df.isna().sum()"
      ],
      "execution_count": 70,
      "outputs": [
        {
          "output_type": "execute_result",
          "data": {
            "text/plain": [
              "PassengerId      0\n",
              "Survived         0\n",
              "Pclass           0\n",
              "Name             0\n",
              "Sex              0\n",
              "Age              0\n",
              "SibSp            0\n",
              "Parch            0\n",
              "Ticket           0\n",
              "Fare             0\n",
              "Cabin          687\n",
              "Embarked         2\n",
              "Deck           687\n",
              "Num            687\n",
              "dtype: int64"
            ]
          },
          "metadata": {
            "tags": []
          },
          "execution_count": 70
        }
      ]
    },
    {
      "cell_type": "code",
      "metadata": {
        "id": "z9MnuHwKDeFt",
        "colab": {
          "base_uri": "https://localhost:8080/"
        },
        "outputId": "0079159c-e7cd-42d7-e369-c1682c88d0bd"
      },
      "source": [
        "# Em campos categóricos vazios, o código que traz a informação de campo vazio é -1. Por isso, ao somar +1, os campos vazios passam a ter código = 0 e os campos que já possuiam algum valor ficam com código = [código + 1].\n",
        "\n",
        "for label, content in df.items():\n",
        "    if not pd.api.types.is_numeric_dtype(content):\n",
        "        if pd.isnull:\n",
        "            df[label] = pd.Categorical(content).codes+1\n",
        "df.info(), df.isna().sum()"
      ],
      "execution_count": 71,
      "outputs": [
        {
          "output_type": "stream",
          "text": [
            "<class 'pandas.core.frame.DataFrame'>\n",
            "RangeIndex: 891 entries, 0 to 890\n",
            "Data columns (total 14 columns):\n",
            " #   Column       Non-Null Count  Dtype  \n",
            "---  ------       --------------  -----  \n",
            " 0   PassengerId  891 non-null    int64  \n",
            " 1   Survived     891 non-null    int64  \n",
            " 2   Pclass       891 non-null    int64  \n",
            " 3   Name         891 non-null    int16  \n",
            " 4   Sex          891 non-null    int8   \n",
            " 5   Age          891 non-null    float64\n",
            " 6   SibSp        891 non-null    int64  \n",
            " 7   Parch        891 non-null    int64  \n",
            " 8   Ticket       891 non-null    int16  \n",
            " 9   Fare         891 non-null    float64\n",
            " 10  Cabin        891 non-null    int16  \n",
            " 11  Embarked     891 non-null    int8   \n",
            " 12  Deck         891 non-null    int8   \n",
            " 13  Num          891 non-null    int8   \n",
            "dtypes: float64(2), int16(3), int64(5), int8(4)\n",
            "memory usage: 57.6 KB\n"
          ],
          "name": "stdout"
        },
        {
          "output_type": "execute_result",
          "data": {
            "text/plain": [
              "(None, PassengerId    0\n",
              " Survived       0\n",
              " Pclass         0\n",
              " Name           0\n",
              " Sex            0\n",
              " Age            0\n",
              " SibSp          0\n",
              " Parch          0\n",
              " Ticket         0\n",
              " Fare           0\n",
              " Cabin          0\n",
              " Embarked       0\n",
              " Deck           0\n",
              " Num            0\n",
              " dtype: int64)"
            ]
          },
          "metadata": {
            "tags": []
          },
          "execution_count": 71
        }
      ]
    },
    {
      "cell_type": "code",
      "metadata": {
        "id": "c2PL8Ys3FCMz",
        "colab": {
          "base_uri": "https://localhost:8080/",
          "height": 429
        },
        "outputId": "303bbb39-7015-4cdd-d6da-119fc3e19458"
      },
      "source": [
        "# Ao plotar uma a matriz de correlação para entender como os dados influenciam se um passageiro sobrevive ou não.\n",
        "import matplotlib.pyplot as plt\n",
        "import seaborn as sns\n",
        "\n",
        "corr_matrix = df.corr()\n",
        "fig, ax = plt.subplots(figsize=(12,6))\n",
        "ax = sns.heatmap(corr_matrix, annot=True, linewidths=0.5, fmt='.2f', cmap='PuRd');\n"
      ],
      "execution_count": 72,
      "outputs": [
        {
          "output_type": "display_data",
          "data": {
            "image/png": "[encoded data removed]",
            "text/plain": [
              "<Figure size 864x432 with 2 Axes>"
            ]
          },
          "metadata": {
            "tags": [],
            "needs_background": "light"
          }
        }
      ]
    },
    {
      "cell_type": "code",
      "metadata": {
        "id": "YCf_xng7HMqG"
      },
      "source": [
        "# Com os dados preparados, podemos pensar nos estimadores que podem ser utilizados para construir o modelo de ML.\n",
        "# Este problema pode ser tratado como uma regressão binomial, onde deseja-se obter o a previsão com 2 possíveis resultados: sobrevivente ou não-sobrevivente."
      ],
      "execution_count": 73,
      "outputs": []
    },
    {
      "cell_type": "code",
      "metadata": {
        "id": "DPZXAYYrinyP"
      },
      "source": [
        "# Separando a base de dados em validação e treino:\n",
        "from sklearn.model_selection import train_test_split\n",
        "\n",
        "x = df.drop('Survived', axis=1)\n",
        "y = df['Survived']\n",
        "x_train , x_val , y_train, y_val = train_test_split(x,y, test_size=0.2, random_state=42 )"
      ],
      "execution_count": 74,
      "outputs": []
    },
    {
      "cell_type": "code",
      "metadata": {
        "id": "jQurLqoejM42"
      },
      "source": [
        "# Vamos importar os classificadores que vamos utilizar e em seguida, criar um dicionário para encapsular os estimadores\n",
        "\n",
        "from sklearn.naive_bayes import GaussianNB\n",
        "from sklearn.linear_model import LogisticRegression\n",
        "from sklearn.ensemble import RandomForestClassifier\n",
        "modelos = {'Gaussian Naive Bayes': GaussianNB() ,\n",
        "           'Logistic Regression': LogisticRegression(max_iter=100000),\n",
        "           'Random Forest Classifier': RandomForestClassifier()}\n",
        "\n",
        "# Vamos criar uma função para treinar, testar e avaliar os modelos\n",
        "\n",
        "def treino_teste_avaliacao (modelos, x_train,y_train, x_val, y_val):\n",
        "    np.random.seed(42)\n",
        "    modelos_scores={}\n",
        "    for nome, modelo in modelos.items():\n",
        "        modelo.fit(x_train,y_train)\n",
        "        modelos_scores[nome] = modelo.score(x_val,y_val)\n",
        "    return modelos_scores\n"
      ],
      "execution_count": 75,
      "outputs": []
    },
    {
      "cell_type": "code",
      "metadata": {
        "id": "4Ed_2_guFVV7",
        "colab": {
          "base_uri": "https://localhost:8080/"
        },
        "outputId": "c78f27c5-c3d0-4e9c-e12d-554bedab4e21"
      },
      "source": [
        "treino_teste_avaliacao (modelos, x_train,y_train, x_val, y_val)"
      ],
      "execution_count": 76,
      "outputs": [
        {
          "output_type": "execute_result",
          "data": {
            "text/plain": [
              "{'Gaussian Naive Bayes': 0.7374301675977654,\n",
              " 'Logistic Regression': 0.8156424581005587,\n",
              " 'Random Forest Classifier': 0.8547486033519553}"
            ]
          },
          "metadata": {
            "tags": []
          },
          "execution_count": 76
        }
      ]
    },
    {
      "cell_type": "code",
      "metadata": {
        "id": "BgOsml0IJ6Xr",
        "colab": {
          "base_uri": "https://localhost:8080/"
        },
        "outputId": "2379b8ae-2a0f-4db7-cb32-3ddf268d6ade"
      },
      "source": [
        "# Vamos tentar melhorar os resultados através de ajustes de hiperparâmetros utilizando o RandomizedSearchCV\n",
        "# Para isso, é necessário criar um dicionário contendo os hiperparâmetros dos 2 estimadores escolhidos \n",
        "# *Gaussian Naive Bayes foi descartado pois não pode ser melhorado através de otimização hiperparâmetros\n",
        "np.random.seed(42)\n",
        "logistic_rscv_hype = {'C': np.logspace(-4,4,20),\n",
        "            'solver': ['liblinear']}\n",
        "\n",
        "rand_rscv_hype = {'n_estimators': np.arange(10,10000,50),\n",
        "             'max_depth':[None, 3, 5, 10] ,\n",
        "             'min_samples_split': np.arange(2,20,2),\n",
        "             'min_samples_leaf': np.arange(1,20,1)}\n",
        "\n",
        "from sklearn.model_selection import RandomizedSearchCV, GridSearchCV,cross_val_score, RandomizedSearchCV\n",
        "# Com os dicionários de hiperparâmetros criados, é hora de utilizar o RandomizedSearchCV nos 2 estimadores com o LogisticRegression\n",
        "logistic_rscv = RandomizedSearchCV(LogisticRegression(), param_distributions = logistic_rscv_hype, cv=5, n_iter=20, verbose=True)\n",
        "logistic_rscv.fit(x_train,y_train)\n",
        "\n",
        "\n",
        "# Fazer o mesmo para o Random Forest Classifier\n",
        "rand_rscv = RandomizedSearchCV(RandomForestClassifier(), param_distributions = rand_rscv_hype, cv=5, n_iter=20, verbose=True)\n",
        "rand_rscv.fit(x_train,y_train)\n"
      ],
      "execution_count": 78,
      "outputs": [
        {
          "output_type": "stream",
          "text": [
            "Fitting 5 folds for each of 20 candidates, totalling 100 fits\n"
          ],
          "name": "stdout"
        },
        {
          "output_type": "stream",
          "text": [
            "[Parallel(n_jobs=1)]: Using backend SequentialBackend with 1 concurrent workers.\n",
            "[Parallel(n_jobs=1)]: Done 100 out of 100 | elapsed:    1.0s finished\n",
            "[Parallel(n_jobs=1)]: Using backend SequentialBackend with 1 concurrent workers.\n"
          ],
          "name": "stderr"
        },
        {
          "output_type": "stream",
          "text": [
            "Fitting 5 folds for each of 20 candidates, totalling 100 fits\n"
          ],
          "name": "stdout"
        },
        {
          "output_type": "stream",
          "text": [
            "[Parallel(n_jobs=1)]: Done 100 out of 100 | elapsed: 15.8min finished\n"
          ],
          "name": "stderr"
        },
        {
          "output_type": "execute_result",
          "data": {
            "text/plain": [
              "RandomizedSearchCV(cv=5, error_score=nan,\n",
              "                   estimator=RandomForestClassifier(bootstrap=True,\n",
              "                                                    ccp_alpha=0.0,\n",
              "                                                    class_weight=None,\n",
              "                                                    criterion='gini',\n",
              "                                                    max_depth=None,\n",
              "                                                    max_features='auto',\n",
              "                                                    max_leaf_nodes=None,\n",
              "                                                    max_samples=None,\n",
              "                                                    min_impurity_decrease=0.0,\n",
              "                                                    min_impurity_split=None,\n",
              "                                                    min_samples_leaf=1,\n",
              "                                                    min_samples_split=2,\n",
              "                                                    min_weight_fraction_leaf=0.0,\n",
              "                                                    n_estimators=100,\n",
              "                                                    n_jobs...\n",
              "       7160, 7210, 7260, 7310, 7360, 7410, 7460, 7510, 7560, 7610, 7660,\n",
              "       7710, 7760, 7810, 7860, 7910, 7960, 8010, 8060, 8110, 8160, 8210,\n",
              "       8260, 8310, 8360, 8410, 8460, 8510, 8560, 8610, 8660, 8710, 8760,\n",
              "       8810, 8860, 8910, 8960, 9010, 9060, 9110, 9160, 9210, 9260, 9310,\n",
              "       9360, 9410, 9460, 9510, 9560, 9610, 9660, 9710, 9760, 9810, 9860,\n",
              "       9910, 9960])},\n",
              "                   pre_dispatch='2*n_jobs', random_state=None, refit=True,\n",
              "                   return_train_score=False, scoring=None, verbose=True)"
            ]
          },
          "metadata": {
            "tags": []
          },
          "execution_count": 78
        }
      ]
    },
    {
      "cell_type": "code",
      "metadata": {
        "id": "SzJIyVsZRLYt",
        "colab": {
          "base_uri": "https://localhost:8080/"
        },
        "outputId": "426b4ce2-2f1c-43b8-f0be-3ec0b00de7e0"
      },
      "source": [
        "logistic_rscv.score(x_val, y_val),rand_rscv.score(x_val, y_val)"
      ],
      "execution_count": 79,
      "outputs": [
        {
          "output_type": "execute_result",
          "data": {
            "text/plain": [
              "(0.8156424581005587, 0.8212290502793296)"
            ]
          },
          "metadata": {
            "tags": []
          },
          "execution_count": 79
        }
      ]
    },
    {
      "cell_type": "code",
      "metadata": {
        "id": "GcLQ3YJkSgDS"
      },
      "source": [
        ""
      ],
      "execution_count": null,
      "outputs": []
    }
  ]
}