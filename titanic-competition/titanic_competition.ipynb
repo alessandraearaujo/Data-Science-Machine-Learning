{
  "nbformat": 4,
  "nbformat_minor": 0,
  "metadata": {
    "colab": {
      "name": "titanic-competition.ipynb",
      "provenance": []
    },
    "kernelspec": {
      "name": "python3",
      "display_name": "Python 3"
    }
  },
  "cells": [
    {
      "cell_type": "markdown",
      "metadata": {
        "id": "ydUbqT75wWRV"
      },
      "source": [
        "# Quais passageiros sobreviveriam ao acidente do Titanic? \n",
        "\n",
        "# 1. Introdução\n",
        "O objetivo deste estudo é prever, baseado na idade, sexo e outros atributos, se uma pessoa sobreviveria ao acidente ou não. Este projeto é baseado na competição do Kaggle, disponível em: https://www.kaggle.com/c/titanic/.\n",
        "\n",
        "# 2. Dados\n",
        "\n",
        "A base de dados utilizada consiste em uma base de treino (train.csv), que possui os atributos dos passageiros e a informação se ele sobreviveu ou não ao desastre, composta de 891 linhas. Esta base será utilizada treinar e validar o modelo de Machine Learning que pretendemos desevolver.\n",
        "\n",
        "Aleḿ da base de treino, também utilizaremos a base de teste (test.csv) onde são disponibilizados atributos de passageiros, mas não é informado se eles sobreviveram ao não ao desastre. Nosso objetivo é utilizar o modelo desenvolvido para prever resultados para a base de testes, para posteriormente enviá-los para a avaliação da plataforma Kaggle, que deverá avaliar a precisão do modelo desenvolvido com base nos resultados.\n",
        "\n",
        "Os atributos dos passageiros e suas variáveis são listados a seguir:\n",
        "\n",
        "*   PassengerId: id de 1 a 891\n",
        "*   Survived: 0 = Sobreviveu , 1 = Não sobreviveu\n",
        "*   Pclass (classe): Alta, Média, Baixa\n",
        "*   Name: nome\n",
        "*   Sex: feminino, masculino\n",
        "*   Age (idade): É fracional se menor do que 1. Se estimada, é xx.5\n",
        "*   SibSp (quantidade de parentes a bordo com parentesco de irmão, marido, esposa): 0 a 8\n",
        "*   Parch (quantidade de parentes a bordo com parentesco de mãe, pai, filho, filha): 0 a 6\n",
        "*   Ticket: número do ticket\n",
        "*   Fare: tarifa do passageiro \n",
        "*   Cabin: número da cabine\n",
        "*   Embarked: C = Cherbourg, Q = Queenstown, S = Southampton\n",
        "\n",
        "\n",
        "# 3. WorKflow\n",
        "\n",
        "Para desenvolver o modelo, adotaremos o seguinte Worflow:\n",
        "\n",
        "> \n",
        "1. Importação de dados de treino\n",
        "2. Análise da base de dados (verificação de valores faltantes e métodos possíveis para tratar estes dados)\n",
        "3. Definição do modelo de Machine Learning divisão da base de treino e validação\n",
        "4. Avaliação dos modelos\n",
        "5. Ajustes de hiperparâmetros\n",
        "6. Comparação dos modelos e conclusão"
      ]
    },
    {
      "cell_type": "code",
      "metadata": {
        "id": "0dPlurhEwNDB"
      },
      "source": [
        "# Importando as primeiras ferramentas...\n",
        "import pandas as pd\n",
        "import numpy as np"
      ],
      "execution_count": 179,
      "outputs": []
    },
    {
      "cell_type": "code",
      "metadata": {
        "id": "c2bAWZley3_C"
      },
      "source": [
        "# Importando os dados de treino...\n",
        "df = pd.read_csv('https://raw.githubusercontent.com/ms-r0bot/Data-Science-Machine-Learning/main/titanic-competition/train.csv')"
      ],
      "execution_count": 180,
      "outputs": []
    },
    {
      "cell_type": "code",
      "metadata": {
        "colab": {
          "base_uri": "https://localhost:8080/"
        },
        "id": "RSLiMP1AzkeO",
        "outputId": "0f8ef0b1-8fc6-4026-938d-c3b44ada12a2"
      },
      "source": [
        "# Obtendo informações gerais sobre os dados...\n",
        "df.info()"
      ],
      "execution_count": 181,
      "outputs": [
        {
          "output_type": "stream",
          "text": [
            "<class 'pandas.core.frame.DataFrame'>\n",
            "RangeIndex: 891 entries, 0 to 890\n",
            "Data columns (total 12 columns):\n",
            " #   Column       Non-Null Count  Dtype  \n",
            "---  ------       --------------  -----  \n",
            " 0   PassengerId  891 non-null    int64  \n",
            " 1   Survived     891 non-null    int64  \n",
            " 2   Pclass       891 non-null    int64  \n",
            " 3   Name         891 non-null    object \n",
            " 4   Sex          891 non-null    object \n",
            " 5   Age          714 non-null    float64\n",
            " 6   SibSp        891 non-null    int64  \n",
            " 7   Parch        891 non-null    int64  \n",
            " 8   Ticket       891 non-null    object \n",
            " 9   Fare         891 non-null    float64\n",
            " 10  Cabin        204 non-null    object \n",
            " 11  Embarked     889 non-null    object \n",
            "dtypes: float64(2), int64(5), object(5)\n",
            "memory usage: 83.7+ KB\n"
          ],
          "name": "stdout"
        }
      ]
    },
    {
      "cell_type": "code",
      "metadata": {
        "colab": {
          "base_uri": "https://localhost:8080/"
        },
        "id": "802u00BH4wpZ",
        "outputId": "d2379199-4bf4-4681-c6ef-ca0becf02dc2"
      },
      "source": [
        "# Verificando se existem colunas com dados faltando...\n",
        "df.isna().sum()"
      ],
      "execution_count": 182,
      "outputs": [
        {
          "output_type": "execute_result",
          "data": {
            "text/plain": [
              "PassengerId      0\n",
              "Survived         0\n",
              "Pclass           0\n",
              "Name             0\n",
              "Sex              0\n",
              "Age            177\n",
              "SibSp            0\n",
              "Parch            0\n",
              "Ticket           0\n",
              "Fare             0\n",
              "Cabin          687\n",
              "Embarked         2\n",
              "dtype: int64"
            ]
          },
          "metadata": {
            "tags": []
          },
          "execution_count": 182
        }
      ]
    },
    {
      "cell_type": "code",
      "metadata": {
        "colab": {
          "base_uri": "https://localhost:8080/"
        },
        "id": "T4JXJIBe682T",
        "outputId": "9349badf-2f9d-432d-eb82-bbdc7c91e9fe"
      },
      "source": [
        "# Vamos começar a tratar os dados. \n",
        "# Primeiramente, a idade: existem 177 valores faltando, então vamos preencher estes valores com a média das idades dos demais passageiros\n",
        "\n",
        "for label, content in df.items():\n",
        "    if pd.api.types.is_numeric_dtype(content):\n",
        "        if pd.isnull(content).sum():\n",
        "            df[label] = content.fillna(content.median())\n",
        "df.isna().sum()"
      ],
      "execution_count": 183,
      "outputs": [
        {
          "output_type": "execute_result",
          "data": {
            "text/plain": [
              "PassengerId      0\n",
              "Survived         0\n",
              "Pclass           0\n",
              "Name             0\n",
              "Sex              0\n",
              "Age              0\n",
              "SibSp            0\n",
              "Parch            0\n",
              "Ticket           0\n",
              "Fare             0\n",
              "Cabin          687\n",
              "Embarked         2\n",
              "dtype: int64"
            ]
          },
          "metadata": {
            "tags": []
          },
          "execution_count": 183
        }
      ]
    },
    {
      "cell_type": "code",
      "metadata": {
        "colab": {
          "base_uri": "https://localhost:8080/",
          "height": 204
        },
        "id": "MnhXlIlfCweV",
        "outputId": "4abad941-d150-4cdc-f038-8ec90b28f0c0"
      },
      "source": [
        "# Existem muitos dados de cabine faltando e não parece haver nenhum padrão lógico que nos permita inferir como eles estão relacionados.\n",
        "# Portanto, será necessário fazer alguma pesquisa para entender a lógica de \"encabinamento\" do Titanic\n",
        "df.sort_values(by=['Cabin'], ascending=True,na_position='last').head(5)"
      ],
      "execution_count": 184,
      "outputs": [
        {
          "output_type": "execute_result",
          "data": {
            "text/html": [
              "<div>\n",
              "<style scoped>\n",
              "    .dataframe tbody tr th:only-of-type {\n",
              "        vertical-align: middle;\n",
              "    }\n",
              "\n",
              "    .dataframe tbody tr th {\n",
              "        vertical-align: top;\n",
              "    }\n",
              "\n",
              "    .dataframe thead th {\n",
              "        text-align: right;\n",
              "    }\n",
              "</style>\n",
              "<table border=\"1\" class=\"dataframe\">\n",
              "  <thead>\n",
              "    <tr style=\"text-align: right;\">\n",
              "      <th></th>\n",
              "      <th>PassengerId</th>\n",
              "      <th>Survived</th>\n",
              "      <th>Pclass</th>\n",
              "      <th>Name</th>\n",
              "      <th>Sex</th>\n",
              "      <th>Age</th>\n",
              "      <th>SibSp</th>\n",
              "      <th>Parch</th>\n",
              "      <th>Ticket</th>\n",
              "      <th>Fare</th>\n",
              "      <th>Cabin</th>\n",
              "      <th>Embarked</th>\n",
              "    </tr>\n",
              "  </thead>\n",
              "  <tbody>\n",
              "    <tr>\n",
              "      <th>583</th>\n",
              "      <td>584</td>\n",
              "      <td>0</td>\n",
              "      <td>1</td>\n",
              "      <td>Ross, Mr. John Hugo</td>\n",
              "      <td>male</td>\n",
              "      <td>36.0</td>\n",
              "      <td>0</td>\n",
              "      <td>0</td>\n",
              "      <td>13049</td>\n",
              "      <td>40.1250</td>\n",
              "      <td>A10</td>\n",
              "      <td>C</td>\n",
              "    </tr>\n",
              "    <tr>\n",
              "      <th>475</th>\n",
              "      <td>476</td>\n",
              "      <td>0</td>\n",
              "      <td>1</td>\n",
              "      <td>Clifford, Mr. George Quincy</td>\n",
              "      <td>male</td>\n",
              "      <td>28.0</td>\n",
              "      <td>0</td>\n",
              "      <td>0</td>\n",
              "      <td>110465</td>\n",
              "      <td>52.0000</td>\n",
              "      <td>A14</td>\n",
              "      <td>S</td>\n",
              "    </tr>\n",
              "    <tr>\n",
              "      <th>556</th>\n",
              "      <td>557</td>\n",
              "      <td>1</td>\n",
              "      <td>1</td>\n",
              "      <td>Duff Gordon, Lady. (Lucille Christiana Sutherl...</td>\n",
              "      <td>female</td>\n",
              "      <td>48.0</td>\n",
              "      <td>1</td>\n",
              "      <td>0</td>\n",
              "      <td>11755</td>\n",
              "      <td>39.6000</td>\n",
              "      <td>A16</td>\n",
              "      <td>C</td>\n",
              "    </tr>\n",
              "    <tr>\n",
              "      <th>284</th>\n",
              "      <td>285</td>\n",
              "      <td>0</td>\n",
              "      <td>1</td>\n",
              "      <td>Smith, Mr. Richard William</td>\n",
              "      <td>male</td>\n",
              "      <td>28.0</td>\n",
              "      <td>0</td>\n",
              "      <td>0</td>\n",
              "      <td>113056</td>\n",
              "      <td>26.0000</td>\n",
              "      <td>A19</td>\n",
              "      <td>S</td>\n",
              "    </tr>\n",
              "    <tr>\n",
              "      <th>599</th>\n",
              "      <td>600</td>\n",
              "      <td>1</td>\n",
              "      <td>1</td>\n",
              "      <td>Duff Gordon, Sir. Cosmo Edmund (\"Mr Morgan\")</td>\n",
              "      <td>male</td>\n",
              "      <td>49.0</td>\n",
              "      <td>1</td>\n",
              "      <td>0</td>\n",
              "      <td>PC 17485</td>\n",
              "      <td>56.9292</td>\n",
              "      <td>A20</td>\n",
              "      <td>C</td>\n",
              "    </tr>\n",
              "  </tbody>\n",
              "</table>\n",
              "</div>"
            ],
            "text/plain": [
              "     PassengerId  Survived  Pclass  ...     Fare Cabin  Embarked\n",
              "583          584         0       1  ...  40.1250   A10         C\n",
              "475          476         0       1  ...  52.0000   A14         S\n",
              "556          557         1       1  ...  39.6000   A16         C\n",
              "284          285         0       1  ...  26.0000   A19         S\n",
              "599          600         1       1  ...  56.9292   A20         C\n",
              "\n",
              "[5 rows x 12 columns]"
            ]
          },
          "metadata": {
            "tags": []
          },
          "execution_count": 184
        }
      ]
    },
    {
      "cell_type": "code",
      "metadata": {
        "id": "EysIMhbkDI3q",
        "outputId": "39ca34f9-056d-4fbb-b716-56e7c8e45e92",
        "colab": {
          "base_uri": "https://localhost:8080/"
        }
      },
      "source": [
        "# Após alguma pesquisa, foi possível descobrir que as cabines eram formadas pelas letras A,B,C,D E,F, G e T, que identificavam os decks.\n",
        "# Talvez seja interessante separar a numeração das letras para melhorar o entendimento do algorítmo.\n",
        "cabines = df['Cabin'].unique()\n",
        "cabines"
      ],
      "execution_count": 185,
      "outputs": [
        {
          "output_type": "execute_result",
          "data": {
            "text/plain": [
              "array([nan, 'C85', 'C123', 'E46', 'G6', 'C103', 'D56', 'A6',\n",
              "       'C23 C25 C27', 'B78', 'D33', 'B30', 'C52', 'B28', 'C83', 'F33',\n",
              "       'F G73', 'E31', 'A5', 'D10 D12', 'D26', 'C110', 'B58 B60', 'E101',\n",
              "       'F E69', 'D47', 'B86', 'F2', 'C2', 'E33', 'B19', 'A7', 'C49', 'F4',\n",
              "       'A32', 'B4', 'B80', 'A31', 'D36', 'D15', 'C93', 'C78', 'D35',\n",
              "       'C87', 'B77', 'E67', 'B94', 'C125', 'C99', 'C118', 'D7', 'A19',\n",
              "       'B49', 'D', 'C22 C26', 'C106', 'C65', 'E36', 'C54',\n",
              "       'B57 B59 B63 B66', 'C7', 'E34', 'C32', 'B18', 'C124', 'C91', 'E40',\n",
              "       'T', 'C128', 'D37', 'B35', 'E50', 'C82', 'B96 B98', 'E10', 'E44',\n",
              "       'A34', 'C104', 'C111', 'C92', 'E38', 'D21', 'E12', 'E63', 'A14',\n",
              "       'B37', 'C30', 'D20', 'B79', 'E25', 'D46', 'B73', 'C95', 'B38',\n",
              "       'B39', 'B22', 'C86', 'C70', 'A16', 'C101', 'C68', 'A10', 'E68',\n",
              "       'B41', 'A20', 'D19', 'D50', 'D9', 'A23', 'B50', 'A26', 'D48',\n",
              "       'E58', 'C126', 'B71', 'B51 B53 B55', 'D49', 'B5', 'B20', 'F G63',\n",
              "       'C62 C64', 'E24', 'C90', 'C45', 'E8', 'B101', 'D45', 'C46', 'D30',\n",
              "       'E121', 'D11', 'E77', 'F38', 'B3', 'D6', 'B82 B84', 'D17', 'A36',\n",
              "       'B102', 'B69', 'E49', 'C47', 'D28', 'E17', 'A24', 'C50', 'B42',\n",
              "       'C148'], dtype=object)"
            ]
          },
          "metadata": {
            "tags": []
          },
          "execution_count": 185
        }
      ]
    },
    {
      "cell_type": "code",
      "metadata": {
        "id": "lpvs5Hg4vSYf"
      },
      "source": [
        "# Vamos criar uma coluna para receber somente a letra referente ao Deck\n",
        "df['Deck'] = df['Cabin'].str.extract(r'([ABCDEFGT])')"
      ],
      "execution_count": 186,
      "outputs": []
    },
    {
      "cell_type": "code",
      "metadata": {
        "id": "wSQZ-gTN87F6"
      },
      "source": [
        "# Vamos criar uma coluna para receber somente a letra referente ao Deck\n",
        "df['Num'] = df['Cabin'].str.extract(r'([0-9]*$)')"
      ],
      "execution_count": 187,
      "outputs": []
    },
    {
      "cell_type": "code",
      "metadata": {
        "id": "rP9-Ilz_Gkl2",
        "outputId": "20712c61-b3a1-40d7-a745-07aab2ba6a25",
        "colab": {
          "base_uri": "https://localhost:8080/"
        }
      },
      "source": [
        "df.info()"
      ],
      "execution_count": 188,
      "outputs": [
        {
          "output_type": "stream",
          "text": [
            "<class 'pandas.core.frame.DataFrame'>\n",
            "RangeIndex: 891 entries, 0 to 890\n",
            "Data columns (total 14 columns):\n",
            " #   Column       Non-Null Count  Dtype  \n",
            "---  ------       --------------  -----  \n",
            " 0   PassengerId  891 non-null    int64  \n",
            " 1   Survived     891 non-null    int64  \n",
            " 2   Pclass       891 non-null    int64  \n",
            " 3   Name         891 non-null    object \n",
            " 4   Sex          891 non-null    object \n",
            " 5   Age          891 non-null    float64\n",
            " 6   SibSp        891 non-null    int64  \n",
            " 7   Parch        891 non-null    int64  \n",
            " 8   Ticket       891 non-null    object \n",
            " 9   Fare         891 non-null    float64\n",
            " 10  Cabin        204 non-null    object \n",
            " 11  Embarked     889 non-null    object \n",
            " 12  Deck         204 non-null    object \n",
            " 13  Num          204 non-null    object \n",
            "dtypes: float64(2), int64(5), object(7)\n",
            "memory usage: 97.6+ KB\n"
          ],
          "name": "stdout"
        }
      ]
    },
    {
      "cell_type": "code",
      "metadata": {
        "id": "2qTQZV68DZHY",
        "outputId": "42d76200-c5e3-4ca2-ca80-0ccd068e0567",
        "colab": {
          "base_uri": "https://localhost:8080/"
        }
      },
      "source": [
        "# O próximo passo para o tratamento é transformar os dados do tipo string em tipo categoria.\n",
        "\n",
        "for label, content in df.items():\n",
        "    if pd.api.types.is_string_dtype(content):\n",
        "        df[label] = content.astype(\"category\").cat.as_ordered()\n",
        "df.info()"
      ],
      "execution_count": 191,
      "outputs": [
        {
          "output_type": "stream",
          "text": [
            "<class 'pandas.core.frame.DataFrame'>\n",
            "RangeIndex: 891 entries, 0 to 890\n",
            "Data columns (total 14 columns):\n",
            " #   Column       Non-Null Count  Dtype   \n",
            "---  ------       --------------  -----   \n",
            " 0   PassengerId  891 non-null    int64   \n",
            " 1   Survived     891 non-null    int64   \n",
            " 2   Pclass       891 non-null    int64   \n",
            " 3   Name         891 non-null    category\n",
            " 4   Sex          891 non-null    category\n",
            " 5   Age          891 non-null    float64 \n",
            " 6   SibSp        891 non-null    int64   \n",
            " 7   Parch        891 non-null    int64   \n",
            " 8   Ticket       891 non-null    category\n",
            " 9   Fare         891 non-null    float64 \n",
            " 10  Cabin        204 non-null    category\n",
            " 11  Embarked     889 non-null    category\n",
            " 12  Deck         204 non-null    category\n",
            " 13  Num          204 non-null    category\n",
            "dtypes: category(7), float64(2), int64(5)\n",
            "memory usage: 139.8 KB\n"
          ],
          "name": "stdout"
        }
      ]
    },
    {
      "cell_type": "code",
      "metadata": {
        "id": "5CUBPW4iHGM6",
        "outputId": "febd92c8-4dda-4f16-828c-ff1261a2febd",
        "colab": {
          "base_uri": "https://localhost:8080/"
        }
      },
      "source": [
        "df.isna().sum()"
      ],
      "execution_count": 192,
      "outputs": [
        {
          "output_type": "execute_result",
          "data": {
            "text/plain": [
              "PassengerId      0\n",
              "Survived         0\n",
              "Pclass           0\n",
              "Name             0\n",
              "Sex              0\n",
              "Age              0\n",
              "SibSp            0\n",
              "Parch            0\n",
              "Ticket           0\n",
              "Fare             0\n",
              "Cabin          687\n",
              "Embarked         2\n",
              "Deck           687\n",
              "Num            687\n",
              "dtype: int64"
            ]
          },
          "metadata": {
            "tags": []
          },
          "execution_count": 192
        }
      ]
    },
    {
      "cell_type": "code",
      "metadata": {
        "id": "z9MnuHwKDeFt",
        "outputId": "f07e0d03-f852-45d7-efb0-937b9b0504e7",
        "colab": {
          "base_uri": "https://localhost:8080/"
        }
      },
      "source": [
        "# Em campos categóricos vazios, o código que traz a informação de campo vazio é -1. Por isso, ao somar +1, os campos vazios passam a ter código = 0 e os campos que já possuiam algum valor ficam com código = [código + 1].\n",
        "\n",
        "for label, content in df.items():\n",
        "    if not pd.api.types.is_numeric_dtype(content):\n",
        "        if pd.isnull:\n",
        "            df[label] = pd.Categorical(content).codes+1\n",
        "df.info(), df.isna().sum()"
      ],
      "execution_count": 195,
      "outputs": [
        {
          "output_type": "stream",
          "text": [
            "<class 'pandas.core.frame.DataFrame'>\n",
            "RangeIndex: 891 entries, 0 to 890\n",
            "Data columns (total 14 columns):\n",
            " #   Column       Non-Null Count  Dtype  \n",
            "---  ------       --------------  -----  \n",
            " 0   PassengerId  891 non-null    int64  \n",
            " 1   Survived     891 non-null    int64  \n",
            " 2   Pclass       891 non-null    int64  \n",
            " 3   Name         891 non-null    int16  \n",
            " 4   Sex          891 non-null    int8   \n",
            " 5   Age          891 non-null    float64\n",
            " 6   SibSp        891 non-null    int64  \n",
            " 7   Parch        891 non-null    int64  \n",
            " 8   Ticket       891 non-null    int16  \n",
            " 9   Fare         891 non-null    float64\n",
            " 10  Cabin        891 non-null    int16  \n",
            " 11  Embarked     891 non-null    int8   \n",
            " 12  Deck         891 non-null    int8   \n",
            " 13  Num          891 non-null    int8   \n",
            "dtypes: float64(2), int16(3), int64(5), int8(4)\n",
            "memory usage: 57.6 KB\n"
          ],
          "name": "stdout"
        },
        {
          "output_type": "execute_result",
          "data": {
            "text/plain": [
              "(None, PassengerId    0\n",
              " Survived       0\n",
              " Pclass         0\n",
              " Name           0\n",
              " Sex            0\n",
              " Age            0\n",
              " SibSp          0\n",
              " Parch          0\n",
              " Ticket         0\n",
              " Fare           0\n",
              " Cabin          0\n",
              " Embarked       0\n",
              " Deck           0\n",
              " Num            0\n",
              " dtype: int64)"
            ]
          },
          "metadata": {
            "tags": []
          },
          "execution_count": 195
        }
      ]
    },
    {
      "cell_type": "code",
      "metadata": {
        "id": "YCf_xng7HMqG"
      },
      "source": [
        ""
      ],
      "execution_count": null,
      "outputs": []
    }
  ]
}